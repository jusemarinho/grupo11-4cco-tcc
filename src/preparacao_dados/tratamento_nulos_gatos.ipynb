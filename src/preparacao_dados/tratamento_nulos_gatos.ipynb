{
 "cells": [
  {
   "attachments": {},
   "cell_type": "markdown",
   "metadata": {},
   "source": [
    "<h3>Tratar valores nulos nos dados de gatos utilizando média de outro dataset</h3>"
   ]
  },
  {
   "cell_type": "code",
   "execution_count": null,
   "metadata": {},
   "outputs": [],
   "source": [
    "import pandas as pd\n",
    "import numpy as np\n",
    "\n",
    "union_dataset = pd.read_csv('../data/dataset_union.csv')"
   ]
  },
  {
   "cell_type": "code",
   "execution_count": null,
   "metadata": {},
   "outputs": [],
   "source": [
    "dataset_names_cat = pd.read_csv('../../data/2022-licenced-cat-names.csv')"
   ]
  },
  {
   "cell_type": "code",
   "execution_count": null,
   "metadata": {},
   "outputs": [],
   "source": [
    "nomesGato = np.array(dataset_names_cat['names'])\n",
    "\n",
    "def getNameCat():\n",
    "    return np.random.choice(nomesGato)\n",
    "\n",
    "union_dataset['AnimalName'] = union_dataset['AnimalName'].map(lambda name: getNameCat() if not name else name)"
   ]
  },
  {
   "cell_type": "code",
   "execution_count": null,
   "metadata": {},
   "outputs": [],
   "source": [
    "mesGato = np.array(union_dataset['AnimalBirthMonth'])\n",
    "\n",
    "mesGatoFiltrado = list(filter(lambda mes: mes != None, mesGato))\n",
    "\n",
    "def getBirthMonth():\n",
    "    return np.random.choice(mesGatoFiltrado)\n",
    "\n",
    "union_dataset['AnimalBirthMonth'] = union_dataset['AnimalBirthMonth'].map(lambda month: getBirthMonth() if not month else month)"
   ]
  },
  {
   "cell_type": "code",
   "execution_count": null,
   "metadata": {},
   "outputs": [],
   "source": [
    "union_dataset.insert(0, 'ID', range(1, len(union_dataset) + 1))\n",
    "union_dataset.to_csv(\"../../data/dataset_union.csv\")"
   ]
  },
  {
   "cell_type": "code",
   "execution_count": null,
   "metadata": {},
   "outputs": [],
   "source": [
    "union_dataset.head()"
   ]
  }
 ],
 "metadata": {
  "kernelspec": {
   "display_name": "Python 3",
   "language": "python",
   "name": "python3"
  },
  "language_info": {
   "codemirror_mode": {
    "name": "ipython",
    "version": 3
   },
   "file_extension": ".py",
   "mimetype": "text/x-python",
   "name": "python",
   "nbconvert_exporter": "python",
   "pygments_lexer": "ipython3",
   "version": "3.11.2"
  },
  "orig_nbformat": 4
 },
 "nbformat": 4,
 "nbformat_minor": 2
}
