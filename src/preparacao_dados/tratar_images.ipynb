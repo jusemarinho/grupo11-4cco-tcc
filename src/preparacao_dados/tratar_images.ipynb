{
 "cells": [
  {
   "cell_type": "code",
   "execution_count": 57,
   "metadata": {},
   "outputs": [],
   "source": [
    "import pandas as pd\n",
    "import numpy as np\n",
    "from tqdm import tqdm\n",
    "import boto3\n",
    "import base64\n",
    "from io import BytesIO\n",
    "from PIL import Image\n",
    "import os\n",
    "from dotenv import load_dotenv, find_dotenv"
   ]
  },
  {
   "cell_type": "code",
   "execution_count": 58,
   "metadata": {},
   "outputs": [
    {
     "data": {
      "text/plain": [
       "True"
      ]
     },
     "execution_count": 58,
     "metadata": {},
     "output_type": "execute_result"
    }
   ],
   "source": [
    "parent_dir = os.path.abspath(os.path.join(os.getcwd(), os.pardir))\n",
    "# Encontra o arquivo .env no diretório pai\n",
    "dotenv_path = find_dotenv()\n",
    "\n",
    "# Carrega as variáveis de ambiente do arquivo .env encontrado\n",
    "load_dotenv(dotenv_path)"
   ]
  },
  {
   "cell_type": "code",
   "execution_count": 59,
   "metadata": {},
   "outputs": [],
   "source": [
    "dataset_peoples = pd.read_csv('../data/peoples.csv')\n",
    "dataset_pets = pd.read_csv('../data/dataset_union.csv')"
   ]
  },
  {
   "cell_type": "code",
   "execution_count": 60,
   "metadata": {},
   "outputs": [],
   "source": [
    "uuids_peoples = dataset_peoples['ID'].to_list()\n",
    "ids_pets = dataset_pets['ID'].to_list()"
   ]
  },
  {
   "cell_type": "code",
   "execution_count": 61,
   "metadata": {},
   "outputs": [],
   "source": [
    "from collections import namedtuple\n",
    "\n",
    "Pet = namedtuple('Pet', ['id', 'animal_name', 'animal_gender', 'animal_birth_month', 'breed_name', 'borough', 'zip_code', 'type', 'image'])"
   ]
  },
  {
   "cell_type": "code",
   "execution_count": 62,
   "metadata": {},
   "outputs": [
    {
     "name": "stdout",
     "output_type": "stream",
     "text": [
      "134291\n"
     ]
    }
   ],
   "source": [
    "print(len(dataset_pets))"
   ]
  },
  {
   "cell_type": "code",
   "execution_count": 63,
   "metadata": {},
   "outputs": [
    {
     "name": "stderr",
     "output_type": "stream",
     "text": [
      "100%|██████████| 24500/24500 [05:31<00:00, 73.85it/s]\n"
     ]
    }
   ],
   "source": [
    "dict_people_pet = {}\n",
    "\n",
    "# garantindo que todo usuário terá um animal\n",
    "for index, id in tqdm(enumerate(uuids_peoples), total=len(uuids_peoples)):\n",
    "    pet = dataset_pets.loc[dataset_pets.index[index]]\n",
    "    dict_people_pet[f\"{id}\"] = [Pet(id = pet['ID'], animal_name = pet['AnimalName'], animal_gender = pet['AnimalGender'], animal_birth_month = pet['AnimalBirthMonth'], breed_name = pet['BreedName'], borough = pet['Borough'],  zip_code = str(pet['ZipCode']), type = pet['Type'], image = pet['Image'])]\n",
    "    if index in dataset_pets.index:\n",
    "        dataset_pets = dataset_pets.drop(index)"
   ]
  },
  {
   "cell_type": "code",
   "execution_count": 64,
   "metadata": {},
   "outputs": [],
   "source": [
    "uuids_peoples = dataset_peoples['ID'].to_list()\n"
   ]
  },
  {
   "cell_type": "code",
   "execution_count": 65,
   "metadata": {},
   "outputs": [
    {
     "name": "stderr",
     "output_type": "stream",
     "text": [
      "  0%|          | 424/134291 [05:57<31:20:53,  1.19it/s]\n",
      "  1%|          | 1424/134291 [00:26<41:12, 53.73it/s]"
     ]
    },
    {
     "ename": "KeyError",
     "evalue": "'79c83b55-4792-4995-b9fa-eb42ae601796'",
     "output_type": "error",
     "traceback": [
      "\u001b[0;31m---------------------------------------------------------------------------\u001b[0m",
      "\u001b[0;31mKeyError\u001b[0m                                  Traceback (most recent call last)",
      "Cell \u001b[0;32mIn[65], line 22\u001b[0m\n\u001b[1;32m     20\u001b[0m \u001b[39mif\u001b[39;00m random_index \u001b[39min\u001b[39;00m dataset_pets\u001b[39m.\u001b[39mindex:\n\u001b[1;32m     21\u001b[0m     pet \u001b[39m=\u001b[39m dataset_pets\u001b[39m.\u001b[39mloc[random_index]\n\u001b[0;32m---> 22\u001b[0m     dict_people_pet[people_random]\u001b[39m.\u001b[39mappend(Pet(\u001b[39mid\u001b[39m \u001b[39m=\u001b[39m pet[\u001b[39m'\u001b[39m\u001b[39mID\u001b[39m\u001b[39m'\u001b[39m], animal_name \u001b[39m=\u001b[39m pet[\u001b[39m'\u001b[39m\u001b[39mAnimalName\u001b[39m\u001b[39m'\u001b[39m], animal_gender \u001b[39m=\u001b[39m pet[\u001b[39m'\u001b[39m\u001b[39mAnimalGender\u001b[39m\u001b[39m'\u001b[39m], animal_birth_month \u001b[39m=\u001b[39m pet[\u001b[39m'\u001b[39m\u001b[39mAnimalBirthMonth\u001b[39m\u001b[39m'\u001b[39m], breed_name \u001b[39m=\u001b[39m pet[\u001b[39m'\u001b[39m\u001b[39mBreedName\u001b[39m\u001b[39m'\u001b[39m], borough \u001b[39m=\u001b[39m pet[\u001b[39m'\u001b[39m\u001b[39mBorough\u001b[39m\u001b[39m'\u001b[39m],  zip_code \u001b[39m=\u001b[39m \u001b[39mstr\u001b[39m(pet[\u001b[39m'\u001b[39m\u001b[39mZipCode\u001b[39m\u001b[39m'\u001b[39m]), \u001b[39mtype\u001b[39m \u001b[39m=\u001b[39m pet[\u001b[39m'\u001b[39m\u001b[39mType\u001b[39m\u001b[39m'\u001b[39m], image \u001b[39m=\u001b[39m pet[\u001b[39m'\u001b[39m\u001b[39mImage\u001b[39m\u001b[39m'\u001b[39m]))\n\u001b[1;32m     23\u001b[0m     dataset_pets \u001b[39m=\u001b[39m dataset_pets\u001b[39m.\u001b[39mdrop(random_index)\n\u001b[1;32m     24\u001b[0m     tqdm_instance\u001b[39m.\u001b[39mupdate(\u001b[39m1\u001b[39m)\n",
      "\u001b[0;31mKeyError\u001b[0m: '79c83b55-4792-4995-b9fa-eb42ae601796'"
     ]
    }
   ],
   "source": [
    "# distribuir aleatoriamente os animais para os usuarios\n",
    "\n",
    "count_pets = len(ids_pets)\n",
    "count_users = len(uuids_peoples)\n",
    "\n",
    "\n",
    "count_pets_distributeds = 0\n",
    "tqdm_instance = tqdm(total=count_pets)\n",
    "\n",
    "dict_people_pet_final = {}\n",
    "\n",
    "\n",
    "while count_pets_distributeds <= count_pets:\n",
    "    people_random = np.random.choice(uuids_peoples)\n",
    "    quantity_pets = np.random.randint(1, 8)\n",
    "\n",
    "    for _ in range(quantity_pets):\n",
    "        ids_pets = dataset_pets['ID'].to_list()\n",
    "        random_index = np.random.choice(ids_pets)\n",
    "        if random_index in dataset_pets.index:\n",
    "            pet = dataset_pets.loc[random_index]\n",
    "            dict_people_pet[people_random].append(Pet(id = pet['ID'], animal_name = pet['AnimalName'], animal_gender = pet['AnimalGender'], animal_birth_month = pet['AnimalBirthMonth'], breed_name = pet['BreedName'], borough = pet['Borough'],  zip_code = str(pet['ZipCode']), type = pet['Type'], image = pet['Image']))\n",
    "            dataset_pets = dataset_pets.drop(random_index)\n",
    "            tqdm_instance.update(1)\n",
    "\n",
    "    dict_people_pet_final[people_random] = dict_people_pet.pop(people_random)\n",
    "\n",
    "    count_pets_distributeds += quantity_pets"
   ]
  },
  {
   "cell_type": "code",
   "execution_count": null,
   "metadata": {},
   "outputs": [],
   "source": [
    "print(dict_people_pet_final)"
   ]
  },
  {
   "cell_type": "code",
   "execution_count": null,
   "metadata": {},
   "outputs": [],
   "source": [
    "print(os.getenv('AWS_ACCESS_KEY_ID'))"
   ]
  },
  {
   "cell_type": "code",
   "execution_count": null,
   "metadata": {},
   "outputs": [],
   "source": [
    "session = boto3.Session(\n",
    "    aws_access_key_id       = os.getenv('AWS_ACCESS_KEY_ID'),  \n",
    "    aws_secret_access_key   = os.getenv('AWS_SECRET_ACCESS_KEY'),\n",
    "    region_name             = os.getenv('AWS_DEFAULT_REGION'), \n",
    "    aws_session_token       = os.getenv('AWS_ACCESS_TOKEN')\n",
    ")"
   ]
  },
  {
   "cell_type": "code",
   "execution_count": null,
   "metadata": {},
   "outputs": [],
   "source": [
    "s3 = session.resource('s3')"
   ]
  },
  {
   "cell_type": "code",
   "execution_count": null,
   "metadata": {},
   "outputs": [],
   "source": [
    "def directory_exists(bucket_name, directory_name):\n",
    "    try:\n",
    "        s3.head_object(Bucket=bucket_name, Key=directory_name+'/')\n",
    "        return True\n",
    "    except:\n",
    "        return False\n",
    "    \n",
    "def is_base64(text):\n",
    "    try:\n",
    "        base64.b64decode(text)\n",
    "        return True\n",
    "    except:\n",
    "        return False"
   ]
  },
  {
   "cell_type": "code",
   "execution_count": null,
   "metadata": {},
   "outputs": [],
   "source": [
    "bucket_name = 'pilha-nuvem-tcc-sptech-bucket'\n",
    "\n",
    "for user_id, pets in dict_people_pet.items():\n",
    "    user_folder = f\"s3://{bucket_name}/train/{user_id}\"\n",
    "    # cria diretório para o usuário\n",
    "    if directory_exists(bucket_name = bucket_name, directory_name = f\"/train/{user_id}\"):\n",
    "        continue\n",
    "\n",
    "    s3.Bucket(bucket_name).put_object(Key=user_id + \"/\", Body=\"\")\n",
    "    for pet in pets:\n",
    "        # converte a imagem em base64 em uma imagem JPG\n",
    "        if not is_base64(pet.image):\n",
    "            continue\n",
    "        \n",
    "        img_data = base64.b64decode(pet.image.split(',')[1])\n",
    "        img = Image.open(BytesIO(img_data))\n",
    "        # cria diretório para o pet dentro do diretório do usuário\n",
    "        pet_folder = user_folder + f\"/{pet.id}\"\n",
    "        s3.Bucket(\"bucket_name\").put_object(Key=pet_folder + \"/\", Body=\"\")\n",
    "        # salva a imagem do pet no diretório do pet\n",
    "        img.save(pet_folder + \"/pet_image.jpg\", \"JPEG\")"
   ]
  },
  {
   "cell_type": "code",
   "execution_count": null,
   "metadata": {},
   "outputs": [],
   "source": []
  }
 ],
 "metadata": {
  "kernelspec": {
   "display_name": "Python 3.10.6 64-bit",
   "language": "python",
   "name": "python3"
  },
  "language_info": {
   "codemirror_mode": {
    "name": "ipython",
    "version": 3
   },
   "file_extension": ".py",
   "mimetype": "text/x-python",
   "name": "python",
   "nbconvert_exporter": "python",
   "pygments_lexer": "ipython3",
   "version": "3.10.6"
  },
  "orig_nbformat": 4,
  "vscode": {
   "interpreter": {
    "hash": "916dbcbb3f70747c44a77c7bcd40155683ae19c65e1c03b4aa3499c5328201f1"
   }
  }
 },
 "nbformat": 4,
 "nbformat_minor": 2
}
