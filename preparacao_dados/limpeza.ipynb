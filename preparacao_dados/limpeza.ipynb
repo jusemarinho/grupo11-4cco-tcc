{
 "cells": [
  {
   "attachments": {},
   "cell_type": "markdown",
   "metadata": {},
   "source": [
    "<h3>Nomes dos integrantes</h3>\n",
    "<ul>\n",
    "    <li>José Paulo Marinho - 02201062</li>\n",
    "    <li>Kalil Bego - 02201046</li>\n",
    "    <li>Patrick Lessa Teixeira - 02201058</li>\n",
    "    <li>Victor Alves Barbosa - 02201039</li>\n",
    "</ul>"
   ]
  },
  {
   "attachments": {},
   "cell_type": "markdown",
   "metadata": {},
   "source": [
    "<h3>Tratamento do primeiro data set de Cachorros</h3>"
   ]
  },
  {
   "cell_type": "code",
   "execution_count": 1,
   "metadata": {},
   "outputs": [],
   "source": [
    "import pandas as pd\n",
    "dataset_dogs = pd.read_csv('../data/NYC_Dog_Licensing_Dataset.csv')"
   ]
  },
  {
   "attachments": {},
   "cell_type": "markdown",
   "metadata": {},
   "source": [
    "<b>Removendo colunas que não iremos utilizar</b>"
   ]
  },
  {
   "cell_type": "code",
   "execution_count": 2,
   "metadata": {},
   "outputs": [
    {
     "data": {
      "text/html": [
       "<div>\n",
       "<style scoped>\n",
       "    .dataframe tbody tr th:only-of-type {\n",
       "        vertical-align: middle;\n",
       "    }\n",
       "\n",
       "    .dataframe tbody tr th {\n",
       "        vertical-align: top;\n",
       "    }\n",
       "\n",
       "    .dataframe thead th {\n",
       "        text-align: right;\n",
       "    }\n",
       "</style>\n",
       "<table border=\"1\" class=\"dataframe\">\n",
       "  <thead>\n",
       "    <tr style=\"text-align: right;\">\n",
       "      <th></th>\n",
       "      <th>AnimalName</th>\n",
       "      <th>AnimalGender</th>\n",
       "      <th>AnimalBirthMonth</th>\n",
       "      <th>BreedName</th>\n",
       "      <th>Borough</th>\n",
       "      <th>ZipCode</th>\n",
       "    </tr>\n",
       "  </thead>\n",
       "  <tbody>\n",
       "    <tr>\n",
       "      <th>0</th>\n",
       "      <td>SHADOW</td>\n",
       "      <td>M</td>\n",
       "      <td>01/01/2000 12:00:00 AM</td>\n",
       "      <td>Beagle</td>\n",
       "      <td>Brooklyn</td>\n",
       "      <td>11236.0</td>\n",
       "    </tr>\n",
       "    <tr>\n",
       "      <th>1</th>\n",
       "      <td>ROCCO</td>\n",
       "      <td>M</td>\n",
       "      <td>10/01/2011 12:00:00 AM</td>\n",
       "      <td>Boxer</td>\n",
       "      <td>Brooklyn</td>\n",
       "      <td>11210.0</td>\n",
       "    </tr>\n",
       "  </tbody>\n",
       "</table>\n",
       "</div>"
      ],
      "text/plain": [
       "  AnimalName AnimalGender        AnimalBirthMonth BreedName   Borough  ZipCode\n",
       "0    SHADOW             M  01/01/2000 12:00:00 AM    Beagle  Brooklyn  11236.0\n",
       "1      ROCCO            M  10/01/2011 12:00:00 AM     Boxer  Brooklyn  11210.0"
      ]
     },
     "execution_count": 2,
     "metadata": {},
     "output_type": "execute_result"
    }
   ],
   "source": [
    "dataset_dogs.drop(['RowNumber', 'CensusTract2010', 'NTA', 'CityCouncilDistrict', 'CommunityDistrict', 'CongressionalDistrict', 'StateSenatorialDistrict', 'LicenseIssuedDate', 'LicenseExpiredDate'], axis=1, inplace=True)\n",
    "dataset_dogs.drop(dataset_dogs.index[67146:122203], axis=0, inplace=True)\n",
    "dataset_dogs.head(2)"
   ]
  },
  {
   "cell_type": "code",
   "execution_count": 3,
   "metadata": {},
   "outputs": [
    {
     "data": {
      "text/html": [
       "<div>\n",
       "<style scoped>\n",
       "    .dataframe tbody tr th:only-of-type {\n",
       "        vertical-align: middle;\n",
       "    }\n",
       "\n",
       "    .dataframe tbody tr th {\n",
       "        vertical-align: top;\n",
       "    }\n",
       "\n",
       "    .dataframe thead th {\n",
       "        text-align: right;\n",
       "    }\n",
       "</style>\n",
       "<table border=\"1\" class=\"dataframe\">\n",
       "  <thead>\n",
       "    <tr style=\"text-align: right;\">\n",
       "      <th></th>\n",
       "      <th>AnimalName</th>\n",
       "      <th>AnimalGender</th>\n",
       "      <th>AnimalBirthMonth</th>\n",
       "      <th>BreedName</th>\n",
       "      <th>Borough</th>\n",
       "      <th>ZipCode</th>\n",
       "    </tr>\n",
       "  </thead>\n",
       "  <tbody>\n",
       "    <tr>\n",
       "      <th>0</th>\n",
       "      <td>SHADOW</td>\n",
       "      <td>M</td>\n",
       "      <td>01/01/2000</td>\n",
       "      <td>Beagle</td>\n",
       "      <td>Brooklyn</td>\n",
       "      <td>11236.0</td>\n",
       "    </tr>\n",
       "  </tbody>\n",
       "</table>\n",
       "</div>"
      ],
      "text/plain": [
       "  AnimalName AnimalGender AnimalBirthMonth BreedName   Borough  ZipCode\n",
       "0    SHADOW             M       01/01/2000    Beagle  Brooklyn  11236.0"
      ]
     },
     "execution_count": 3,
     "metadata": {},
     "output_type": "execute_result"
    }
   ],
   "source": [
    "from datetime import datetime\n",
    "\n",
    "# substituindo os valores do campo AnimalBirthMonth para retirar a hora deixa somente a data\n",
    "dataset_dogs['AnimalBirthMonth'] = pd.to_datetime(dataset_dogs['AnimalBirthMonth'], format=\"%d/%m/%Y %H:%M:%S %p\")\n",
    "dataset_dogs['AnimalBirthMonth'] = pd.to_datetime(dataset_dogs['AnimalBirthMonth'])\n",
    "dataset_dogs['AnimalBirthMonth'] = dataset_dogs['AnimalBirthMonth'].map(lambda x: datetime.strftime(x,\"%d/%m/%Y\"), na_action='ignore')\n",
    "dataset_dogs.head(1)"
   ]
  },
  {
   "attachments": {},
   "cell_type": "markdown",
   "metadata": {},
   "source": [
    "<h3>Tratamento do segundo dataset_dogs de Gatos</h3>"
   ]
  },
  {
   "cell_type": "code",
   "execution_count": 4,
   "metadata": {},
   "outputs": [
    {
     "data": {
      "text/html": [
       "<div>\n",
       "<style scoped>\n",
       "    .dataframe tbody tr th:only-of-type {\n",
       "        vertical-align: middle;\n",
       "    }\n",
       "\n",
       "    .dataframe tbody tr th {\n",
       "        vertical-align: top;\n",
       "    }\n",
       "\n",
       "    .dataframe thead th {\n",
       "        text-align: right;\n",
       "    }\n",
       "</style>\n",
       "<table border=\"1\" class=\"dataframe\">\n",
       "  <thead>\n",
       "    <tr style=\"text-align: right;\">\n",
       "      <th></th>\n",
       "      <th>type</th>\n",
       "      <th>gender</th>\n",
       "      <th>coat</th>\n",
       "      <th>breed</th>\n",
       "      <th>photos</th>\n",
       "    </tr>\n",
       "  </thead>\n",
       "  <tbody>\n",
       "    <tr>\n",
       "      <th>0</th>\n",
       "      <td>Cat</td>\n",
       "      <td>Female</td>\n",
       "      <td>NaN</td>\n",
       "      <td>Abyssinian</td>\n",
       "      <td>[{'small': 'https://dl5zpyw5k3jeb.cloudfront.n...</td>\n",
       "    </tr>\n",
       "  </tbody>\n",
       "</table>\n",
       "</div>"
      ],
      "text/plain": [
       "  type  gender coat       breed  \\\n",
       "0  Cat  Female  NaN  Abyssinian   \n",
       "\n",
       "                                              photos  \n",
       "0  [{'small': 'https://dl5zpyw5k3jeb.cloudfront.n...  "
      ]
     },
     "execution_count": 4,
     "metadata": {},
     "output_type": "execute_result"
    }
   ],
   "source": [
    "dataset_cats = pd.read_csv('../data/cats.csv')\n",
    "dataset_cats.head(1)\n",
    "\n",
    "#removendo colunas que não iremos utilizar\n",
    "dataset_cats.drop(['Unnamed: 0', 'id', 'url', 'med_photos', 'size', 'age'], axis=1, inplace=True)\n",
    "dataset_cats.head(1)"
   ]
  },
  {
   "attachments": {},
   "cell_type": "markdown",
   "metadata": {},
   "source": [
    "<b>Salvando dataset_dogss</b>"
   ]
  },
  {
   "cell_type": "code",
   "execution_count": 5,
   "metadata": {},
   "outputs": [],
   "source": [
    "dataset_dogs.to_csv('../data/dogs_clean.csv')\n",
    "dataset_cats.to_csv('../data/cats_clean.csv')"
   ]
  },
  {
   "attachments": {},
   "cell_type": "markdown",
   "metadata": {},
   "source": [
    "<h3>União dos datasets \"limpados\" acima.</h3>"
   ]
  },
  {
   "cell_type": "code",
   "execution_count": 7,
   "metadata": {},
   "outputs": [
    {
     "name": "stderr",
     "output_type": "stream",
     "text": [
      "/tmp/ipykernel_180242/3328328101.py:25: FutureWarning: The frame.append method is deprecated and will be removed from pandas in a future version. Use pandas.concat instead.\n",
      "  union_dataset = new_dataset_dogs.append(new_dataset_cats)\n"
     ]
    }
   ],
   "source": [
    "new_dataset_data_dogs = {\n",
    "    \"AnimalName\": dataset_dogs[\"AnimalName\"],\n",
    "    \"AnimalGender\": dataset_dogs[\"AnimalGender\"],\n",
    "    \"AnimalBirthMonth\": dataset_dogs[\"AnimalBirthMonth\"],\n",
    "    \"BreedName\": dataset_dogs[\"BreedName\"],\n",
    "    \"Borough\": dataset_dogs[\"Borough\"],\n",
    "    \"ZipCode\": dataset_dogs[\"ZipCode\"],\n",
    "    \"Type\": \"Dog\"\n",
    "}\n",
    "\n",
    "new_dataset_data_cats = {\n",
    "    \"AnimalName\": None,\n",
    "    \"AnimalGender\": dataset_cats[\"gender\"],\n",
    "    \"AnimalBirthMonth\": None,\n",
    "    \"BreedName\": dataset_cats[\"breed\"],\n",
    "    \"Borough\": None,\n",
    "    \"ZipCode\": None,\n",
    "    \"Type\": dataset_cats[\"type\"]\n",
    "}\n",
    "\n",
    "new_dataset_dogs = pd.DataFrame(new_dataset_data_dogs)\n",
    "new_dataset_cats = pd.DataFrame(new_dataset_data_cats)\n",
    "new_dataset_cats.head(2)\n",
    "\n",
    "union_dataset = new_dataset_dogs.append(new_dataset_cats)"
   ]
  },
  {
   "cell_type": "code",
   "execution_count": null,
   "metadata": {},
   "outputs": [],
   "source": [
    "import csv\n",
    "\n",
    "dicionario_ceps = {}\n",
    "\n",
    "with open('../data/ceps.txt', 'r') as file:\n",
    "    csvreader = csv.reader(file, delimiter=';')\n",
    "    for linha in csvreader:\n",
    "        print(linha[0])\n",
    "        dicionario_ceps[linha[0]] = linha\n",
    "\n",
    "print(dicionario_ceps)"
   ]
  },
  {
   "cell_type": "code",
   "execution_count": 40,
   "metadata": {},
   "outputs": [],
   "source": [
    "import numpy as np\n",
    "\n",
    "\n",
    "chaves_dicionario = np.array(list(dicionario_ceps.keys()))\n",
    "\n",
    "def get_cep():\n",
    "    key = np.random.choice(chaves_dicionario)\n",
    "    info_cep = dicionario_ceps[f'{key}']\n",
    "    cep = info_cep[0]\n",
    "    return cep\n",
    "\n",
    "def get_cidade(cep):\n",
    "    return dicionario_ceps[cep][1]\n",
    "\n",
    "union_dataset[\"ZipCode\"] = union_dataset[\"ZipCode\"].map(lambda _: get_cep())\n",
    "union_dataset[\"Borough\"] = union_dataset[\"ZipCode\"].map(lambda cep: get_cidade(cep))\n",
    "\n",
    "union_dataset.head(2)\n",
    "union_dataset.to_csv(\"../data/dataset_union.csv\")"
   ]
  }
 ],
 "metadata": {
  "kernelspec": {
   "display_name": "Python 3",
   "language": "python",
   "name": "python3"
  },
  "language_info": {
   "codemirror_mode": {
    "name": "ipython",
    "version": 3
   },
   "file_extension": ".py",
   "mimetype": "text/x-python",
   "name": "python",
   "nbconvert_exporter": "python",
   "pygments_lexer": "ipython3",
   "version": "3.10.9"
  },
  "orig_nbformat": 4,
  "vscode": {
   "interpreter": {
    "hash": "d2152fd7f0bbc62aa1baff8c990435d1e2c7175d001561303988032604c11a48"
   }
  }
 },
 "nbformat": 4,
 "nbformat_minor": 2
}
