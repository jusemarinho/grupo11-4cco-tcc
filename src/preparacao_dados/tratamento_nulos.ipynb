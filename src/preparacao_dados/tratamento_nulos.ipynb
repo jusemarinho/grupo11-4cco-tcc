{
 "cells": [
  {
   "attachments": {},
   "cell_type": "markdown",
   "metadata": {},
   "source": [
    "<h3>Tratar valores nulos nos dados de gatos utilizando média de outro dataset</h3>"
   ]
  },
  {
   "cell_type": "code",
   "execution_count": 35,
   "metadata": {},
   "outputs": [
    {
     "name": "stderr",
     "output_type": "stream",
     "text": [
      "/tmp/ipykernel_26530/3581206219.py:4: DtypeWarning: Columns (3,5,10) have mixed types. Specify dtype option on import or set low_memory=False.\n",
      "  dataset_final = pd.read_csv('../data/dataset_union.csv')\n"
     ]
    }
   ],
   "source": [
    "import pandas as pd\n",
    "import numpy as np\n",
    "\n",
    "dataset_final = pd.read_csv('../data/dataset_union.csv')"
   ]
  },
  {
   "cell_type": "code",
   "execution_count": 36,
   "metadata": {},
   "outputs": [
    {
     "data": {
      "text/plain": [
       "Index(['Unnamed: 0.1', 'ID', 'Unnamed: 0', 'AnimalName', 'AnimalGender',\n",
       "       'AnimalBirthMonth', 'BreedName', 'Borough', 'ZipCode', 'Type', 'Image'],\n",
       "      dtype='object')"
      ]
     },
     "execution_count": 36,
     "metadata": {},
     "output_type": "execute_result"
    }
   ],
   "source": [
    "dataset_final.columns"
   ]
  },
  {
   "cell_type": "code",
   "execution_count": 37,
   "metadata": {},
   "outputs": [],
   "source": [
    "dataset_final = dataset_final.drop(['Unnamed: 0.1', 'ID', 'Unnamed: 0'], axis=1)"
   ]
  },
  {
   "cell_type": "code",
   "execution_count": 38,
   "metadata": {},
   "outputs": [],
   "source": [
    "dataset_names_cat = pd.read_csv('../data/2022-licenced-cat-names.csv')"
   ]
  },
  {
   "cell_type": "code",
   "execution_count": 39,
   "metadata": {},
   "outputs": [],
   "source": [
    "nomesGato = np.array(dataset_names_cat['names'])\n",
    "\n",
    "def getNameCat():\n",
    "    return np.random.choice(nomesGato)\n",
    "\n",
    "dataset_final['AnimalName'] = dataset_final['AnimalName'].map(lambda name: getNameCat() if not name else name)"
   ]
  },
  {
   "cell_type": "code",
   "execution_count": 40,
   "metadata": {},
   "outputs": [],
   "source": [
    "mesGato = np.array(dataset_final['AnimalBirthMonth'])\n",
    "\n",
    "mesGatoFiltrado = list(filter(lambda mes: mes != None, mesGato))\n",
    "\n",
    "def getBirthMonth():\n",
    "    return np.random.choice(mesGatoFiltrado)\n",
    "\n",
    "dataset_final['AnimalBirthMonth'] = dataset_final['AnimalBirthMonth'].map(lambda month: getBirthMonth() if not month else month)"
   ]
  },
  {
   "cell_type": "code",
   "execution_count": 41,
   "metadata": {},
   "outputs": [],
   "source": [
    "dataset_final.insert(0, 'ID', range(1, len(dataset_final) + 1))\n",
    "dataset_final.to_csv(\"../data/dataset_union.csv\")"
   ]
  },
  {
   "cell_type": "code",
   "execution_count": 42,
   "metadata": {},
   "outputs": [],
   "source": [
    "dataset_final.to_csv('../data/dataset_union.csv', index=False)"
   ]
  },
  {
   "cell_type": "code",
   "execution_count": 43,
   "metadata": {},
   "outputs": [
    {
     "data": {
      "text/html": [
       "<div>\n",
       "<style scoped>\n",
       "    .dataframe tbody tr th:only-of-type {\n",
       "        vertical-align: middle;\n",
       "    }\n",
       "\n",
       "    .dataframe tbody tr th {\n",
       "        vertical-align: top;\n",
       "    }\n",
       "\n",
       "    .dataframe thead th {\n",
       "        text-align: right;\n",
       "    }\n",
       "</style>\n",
       "<table border=\"1\" class=\"dataframe\">\n",
       "  <thead>\n",
       "    <tr style=\"text-align: right;\">\n",
       "      <th></th>\n",
       "      <th>ID</th>\n",
       "      <th>AnimalName</th>\n",
       "      <th>AnimalGender</th>\n",
       "      <th>AnimalBirthMonth</th>\n",
       "      <th>BreedName</th>\n",
       "      <th>Borough</th>\n",
       "      <th>ZipCode</th>\n",
       "      <th>Type</th>\n",
       "      <th>Image</th>\n",
       "    </tr>\n",
       "  </thead>\n",
       "  <tbody>\n",
       "    <tr>\n",
       "      <th>0</th>\n",
       "      <td>1</td>\n",
       "      <td>SHADOW</td>\n",
       "      <td>M</td>\n",
       "      <td>01/01/2000</td>\n",
       "      <td>Beagle</td>\n",
       "      <td>Gravataí/RS</td>\n",
       "      <td>94055030</td>\n",
       "      <td>Dog</td>\n",
       "      <td>NaN</td>\n",
       "    </tr>\n",
       "    <tr>\n",
       "      <th>1</th>\n",
       "      <td>2</td>\n",
       "      <td>ROCCO</td>\n",
       "      <td>M</td>\n",
       "      <td>10/01/2011</td>\n",
       "      <td>Boxer</td>\n",
       "      <td>Várzea Grande/MT</td>\n",
       "      <td>78115646</td>\n",
       "      <td>Dog</td>\n",
       "      <td>NaN</td>\n",
       "    </tr>\n",
       "    <tr>\n",
       "      <th>2</th>\n",
       "      <td>3</td>\n",
       "      <td>LUIGI</td>\n",
       "      <td>M</td>\n",
       "      <td>09/01/2005</td>\n",
       "      <td>Maltese</td>\n",
       "      <td>Mossoró/RN</td>\n",
       "      <td>59633636</td>\n",
       "      <td>Dog</td>\n",
       "      <td>NaN</td>\n",
       "    </tr>\n",
       "    <tr>\n",
       "      <th>3</th>\n",
       "      <td>4</td>\n",
       "      <td>PETUNIA</td>\n",
       "      <td>F</td>\n",
       "      <td>08/01/2013</td>\n",
       "      <td>Pug</td>\n",
       "      <td>Mossoró/RN</td>\n",
       "      <td>59615377</td>\n",
       "      <td>Dog</td>\n",
       "      <td>NaN</td>\n",
       "    </tr>\n",
       "    <tr>\n",
       "      <th>4</th>\n",
       "      <td>5</td>\n",
       "      <td>ROMEO</td>\n",
       "      <td>M</td>\n",
       "      <td>10/01/2008</td>\n",
       "      <td>Maltese</td>\n",
       "      <td>Itaguaí/RJ</td>\n",
       "      <td>23840240</td>\n",
       "      <td>Dog</td>\n",
       "      <td>NaN</td>\n",
       "    </tr>\n",
       "  </tbody>\n",
       "</table>\n",
       "</div>"
      ],
      "text/plain": [
       "   ID AnimalName AnimalGender AnimalBirthMonth BreedName           Borough   \n",
       "0   1    SHADOW             M       01/01/2000    Beagle       Gravataí/RS  \\\n",
       "1   2      ROCCO            M       10/01/2011     Boxer  Várzea Grande/MT   \n",
       "2   3      LUIGI            M       09/01/2005   Maltese        Mossoró/RN   \n",
       "3   4    PETUNIA            F       08/01/2013       Pug        Mossoró/RN   \n",
       "4   5      ROMEO            M       10/01/2008   Maltese        Itaguaí/RJ   \n",
       "\n",
       "    ZipCode Type Image  \n",
       "0  94055030  Dog   NaN  \n",
       "1  78115646  Dog   NaN  \n",
       "2  59633636  Dog   NaN  \n",
       "3  59615377  Dog   NaN  \n",
       "4  23840240  Dog   NaN  "
      ]
     },
     "execution_count": 43,
     "metadata": {},
     "output_type": "execute_result"
    }
   ],
   "source": [
    "dataset_final.head()"
   ]
  }
 ],
 "metadata": {
  "kernelspec": {
   "display_name": "Python 3",
   "language": "python",
   "name": "python3"
  },
  "language_info": {
   "codemirror_mode": {
    "name": "ipython",
    "version": 3
   },
   "file_extension": ".py",
   "mimetype": "text/x-python",
   "name": "python",
   "nbconvert_exporter": "python",
   "pygments_lexer": "ipython3",
   "version": "3.10.10"
  },
  "orig_nbformat": 4
 },
 "nbformat": 4,
 "nbformat_minor": 2
}
