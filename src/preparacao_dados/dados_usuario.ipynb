{
 "cells": [
  {
   "cell_type": "code",
   "execution_count": 4,
   "metadata": {},
   "outputs": [
    {
     "name": "stdout",
     "output_type": "stream",
     "text": [
      "['b1038fc6-438b-4629-8f71-d10b118999e1', '56b8992b-ee70-488e-87ce-9c026a384a71', '10bfefbb-e903-429f-b983-d64fa0e3e0b9', '42d097f7-05de-4bf9-adb4-5771a5c01c4b', '39582947-04a2-42df-9a6a-0e80a0366ec1', '8748cd1b-40a2-4c57-8622-4903a22c5290', '8095986c-c035-4458-a610-1838fa11c321', '1f15ea58-f79a-423b-8cc5-d00aa9625df7', '8e172d9c-14d5-478f-84a1-211c1882065b', '9c9d2b43-0989-4ab9-a826-d3a9794acd9e']\n"
     ]
    }
   ],
   "source": [
    "import uuid\n",
    "\n",
    "array_uuids = []\n",
    "\n",
    "for i in range(98_000):\n",
    "    array_uuids.append(str(uuid.uuid4()))"
   ]
  },
  {
   "cell_type": "code",
   "execution_count": 12,
   "metadata": {},
   "outputs": [],
   "source": [
    "from fordev.generators import people\n",
    "import random\n",
    "\n",
    "def random_triangular(min_value, max_value, mode_value):\n",
    "    return int(random.triangular(min_value, max_value, mode_value))\n",
    "\n",
    "nomes_sobrenomes = [people(sex = random.choice(['M', 'F']), age = random_triangular(18, 80, 35)) for _ in range(24_500)]\n",
    "\n",
    "# print(nomes_sobrenomes[:10])"
   ]
  }
 ],
 "metadata": {
  "kernelspec": {
   "display_name": "Python 3",
   "language": "python",
   "name": "python3"
  },
  "language_info": {
   "codemirror_mode": {
    "name": "ipython",
    "version": 3
   },
   "file_extension": ".py",
   "mimetype": "text/x-python",
   "name": "python",
   "nbconvert_exporter": "python",
   "pygments_lexer": "ipython3",
   "version": "3.10.9"
  },
  "orig_nbformat": 4,
  "vscode": {
   "interpreter": {
    "hash": "e7370f93d1d0cde622a1f8e1c04877d8463912d04d973331ad4851f04de6915a"
   }
  }
 },
 "nbformat": 4,
 "nbformat_minor": 2
}
