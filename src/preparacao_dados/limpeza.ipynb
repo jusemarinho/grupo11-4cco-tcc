{
 "cells": [
  {
   "attachments": {},
   "cell_type": "markdown",
   "metadata": {},
   "source": [
    "<h3>Nomes dos integrantes</h3>\n",
    "<ul>\n",
    "    <li>José Paulo Marinho - 02201062</li>\n",
    "    <li>Kalil Bego - 02201046</li>\n",
    "    <li>Patrick Lessa Teixeira - 02201058</li>\n",
    "    <li>Victor Alves Barbosa - 02201039</li>\n",
    "</ul>"
   ]
  },
  {
   "attachments": {},
   "cell_type": "markdown",
   "metadata": {},
   "source": [
    "<h3>Tratamento do primeiro data set de Cachorros</h3>"
   ]
  },
  {
   "cell_type": "code",
   "execution_count": 1,
   "metadata": {},
   "outputs": [],
   "source": [
    "import pandas as pd\n",
    "dataset_dogs = pd.read_csv('../data/NYC_Dog_Licensing_Dataset.csv')"
   ]
  },
  {
   "attachments": {},
   "cell_type": "markdown",
   "metadata": {},
   "source": [
    "<b>Removendo colunas que não iremos utilizar</b>"
   ]
  },
  {
   "cell_type": "code",
   "execution_count": 2,
   "metadata": {},
   "outputs": [],
   "source": [
    "dataset_dogs.drop(['RowNumber', 'CensusTract2010', 'NTA', 'CityCouncilDistrict', 'CommunityDistrict', 'CongressionalDistrict', 'StateSenatorialDistrict', 'LicenseIssuedDate', 'LicenseExpiredDate'], axis=1, inplace=True)\n",
    "dataset_dogs.drop(dataset_dogs.index[67146:122203], axis=0, inplace=True)"
   ]
  },
  {
   "cell_type": "code",
   "execution_count": 3,
   "metadata": {},
   "outputs": [],
   "source": [
    "from datetime import datetime\n",
    "\n",
    "# substituindo os valores do campo AnimalBirthMonth para retirar a hora deixa somente a data\n",
    "dataset_dogs['AnimalBirthMonth'] = pd.to_datetime(dataset_dogs['AnimalBirthMonth'], format=\"%d/%m/%Y %H:%M:%S %p\")\n",
    "dataset_dogs['AnimalBirthMonth'] = pd.to_datetime(dataset_dogs['AnimalBirthMonth'])\n",
    "dataset_dogs['AnimalBirthMonth'] = dataset_dogs['AnimalBirthMonth'].map(lambda x: datetime.strftime(x,\"%d/%m/%Y\"), na_action='ignore')"
   ]
  },
  {
   "attachments": {},
   "cell_type": "markdown",
   "metadata": {},
   "source": [
    "<h3>Tratamento do segundo dataset_dogs de Gatos</h3>"
   ]
  },
  {
   "cell_type": "code",
   "execution_count": 4,
   "metadata": {},
   "outputs": [],
   "source": [
    "dataset_cats = pd.read_csv('../data/cats.csv')\n",
    "\n",
    "#removendo colunas que não iremos utilizar\n",
    "dataset_cats.drop(['Unnamed: 0', 'id', 'url', 'med_photos', 'size', 'age'], axis=1, inplace=True)\n",
    "\n",
    "import ast\n",
    "dataset_cats[\"photos\"] = dataset_cats[\"photos\"].apply(ast.literal_eval)\n",
    "dataset_cats['photos'] = dataset_cats['photos'].map(lambda foto: foto[0][\"large\"])\n",
    "\n",
    "dataset_cats = dataset_cats.rename(columns={'photos': 'link_photo'})"
   ]
  },
  {
   "attachments": {},
   "cell_type": "markdown",
   "metadata": {},
   "source": [
    "<b>Salvando dataset_dogss</b>"
   ]
  },
  {
   "cell_type": "code",
   "execution_count": 5,
   "metadata": {},
   "outputs": [],
   "source": [
    "dataset_dogs.to_csv('../data/dogs_clean.csv')\n",
    "dataset_cats.to_csv('../data/cats_clean.csv')"
   ]
  },
  {
   "attachments": {},
   "cell_type": "markdown",
   "metadata": {},
   "source": [
    "<h3>União dos datasets \"limpados\" acima.</h3>"
   ]
  },
  {
   "cell_type": "code",
   "execution_count": 6,
   "metadata": {},
   "outputs": [
    {
     "name": "stderr",
     "output_type": "stream",
     "text": [
      "/tmp/ipykernel_568454/2496161783.py:26: FutureWarning: The frame.append method is deprecated and will be removed from pandas in a future version. Use pandas.concat instead.\n",
      "  union_dataset = new_dataset_dogs.append(new_dataset_cats)\n"
     ]
    }
   ],
   "source": [
    "new_dataset_data_dogs = {\n",
    "    \"AnimalName\": dataset_dogs[\"AnimalName\"],\n",
    "    \"AnimalGender\": dataset_dogs[\"AnimalGender\"],\n",
    "    \"AnimalBirthMonth\": dataset_dogs[\"AnimalBirthMonth\"],\n",
    "    \"BreedName\": dataset_dogs[\"BreedName\"],\n",
    "    \"Borough\": dataset_dogs[\"Borough\"],\n",
    "    \"ZipCode\": dataset_dogs[\"ZipCode\"],\n",
    "    \"Type\": \"Dog\",\n",
    "    \"Image\": \"\"\n",
    "}\n",
    "\n",
    "new_dataset_data_cats = {\n",
    "    \"AnimalName\": None,\n",
    "    \"AnimalGender\": dataset_cats[\"gender\"],\n",
    "    \"AnimalBirthMonth\": None,\n",
    "    \"BreedName\": dataset_cats[\"breed\"],\n",
    "    \"Borough\": None,\n",
    "    \"ZipCode\": None,\n",
    "    \"Type\": dataset_cats[\"type\"],\n",
    "    \"Image\": dataset_cats[\"link_photo\"]\n",
    "}\n",
    "\n",
    "new_dataset_dogs = pd.DataFrame(new_dataset_data_dogs)\n",
    "new_dataset_cats = pd.DataFrame(new_dataset_data_cats)\n",
    "\n",
    "union_dataset = new_dataset_dogs.append(new_dataset_cats)"
   ]
  },
  {
   "cell_type": "code",
   "execution_count": 7,
   "metadata": {},
   "outputs": [],
   "source": [
    "import csv\n",
    "\n",
    "dicionario_ceps = {}\n",
    "\n",
    "with open('../data/ceps.txt', 'r') as file:\n",
    "    csvreader = csv.reader(file, delimiter=';')\n",
    "    for linha in csvreader:\n",
    "        dicionario_ceps[linha[0]] = linha"
   ]
  },
  {
   "cell_type": "code",
   "execution_count": 8,
   "metadata": {},
   "outputs": [],
   "source": [
    "import numpy as np\n",
    "np.random.seed(77)\n",
    "\n",
    "chaves_dicionario = np.array(list(dicionario_ceps.keys()))\n",
    "\n",
    "def get_cep():\n",
    "    key = np.random.choice(chaves_dicionario)\n",
    "    info_cep = dicionario_ceps[f'{key}']\n",
    "    cep = info_cep[0]\n",
    "    return cep\n",
    "\n",
    "def get_cidade(cep):\n",
    "    return dicionario_ceps[cep][1]\n",
    "\n",
    "union_dataset[\"ZipCode\"] = union_dataset[\"ZipCode\"].map(lambda _: get_cep())\n",
    "union_dataset[\"Borough\"] = union_dataset[\"ZipCode\"].map(lambda cep: get_cidade(cep))\n",
    "\n",
    "union_dataset.to_csv(\"../data/dataset_union.csv\")"
   ]
  },
  {
   "attachments": {},
   "cell_type": "markdown",
   "metadata": {},
   "source": [
    "<h3>Tratamento das fotos da base</h3>\n",
    "<ul>\n",
    "    <li>Obter a foto da URL</li>\n",
    "    <li>Converter para base64</li>\n",
    "</ul>"
   ]
  },
  {
   "cell_type": "code",
   "execution_count": 21,
   "metadata": {},
   "outputs": [],
   "source": [
    "import requests\n",
    "import base64\n",
    "\n",
    "def get_base64_from_photo_url(url):\n",
    "    if not url:\n",
    "        return None\n",
    "    \n",
    "    response = requests.get(url)\n",
    "    imagem_bytes = response.content\n",
    "    imagem_base64 = base64.b64encode(imagem_bytes).decode('utf-8')\n",
    "    return imagem_base64"
   ]
  },
  {
   "cell_type": "code",
   "execution_count": 23,
   "metadata": {},
   "outputs": [],
   "source": [
    "from tqdm import tqdm\n",
    "import asyncio\n",
    "import aiohttp\n",
    "\n",
    "\n",
    "def is_base64(s):\n",
    "    try:\n",
    "        base64.b64decode(s)\n",
    "        return True\n",
    "    except Exception:\n",
    "        return False\n",
    "\n",
    "async def download_images(index_range, union_dataset, progress_bar):\n",
    "    timeout = aiohttp.ClientTimeout(total=60)\n",
    "    async with aiohttp.ClientSession(timeout=timeout) as session:\n",
    "        for index in index_range:\n",
    "            row = union_dataset.iloc[index]\n",
    "            if row[\"Image\"] and row[\"Type\"] == \"Cat\" and not is_base64(row[\"Image\"]):\n",
    "                async with session.get(row[\"Image\"]) as response:\n",
    "                    imagem_bytes = await response.read()\n",
    "                    imagem_base64 = base64.b64encode(imagem_bytes).decode('utf-8')\n",
    "                    union_dataset.loc[index, 'Image'] = imagem_base64\n",
    "                    progress_bar.update(1)\n",
    "\n",
    "async def async_process_dataset(union_dataset, batch_size=100):\n",
    "    tasks = []\n",
    "    progress_bar = tqdm(total=len(union_dataset), desc=\"Downloading Images\")\n",
    "    for i in range(0, len(union_dataset), batch_size):\n",
    "        index_range = range(i, min(i+batch_size, len(union_dataset)))\n",
    "        task = asyncio.create_task(download_images(index_range, union_dataset, progress_bar))\n",
    "        tasks.append(task)\n",
    "    await asyncio.gather(*tasks)\n",
    "    progress_bar.close()\n",
    "\n",
    "await async_process_dataset(union_dataset)"
   ]
  },
  {
   "cell_type": "code",
   "execution_count": 31,
   "metadata": {},
   "outputs": [],
   "source": [
    "union_dataset.to_csv(\"../../data/dataset_union.csv\")"
   ]
  },
  {
   "attachments": {},
   "cell_type": "markdown",
   "metadata": {},
   "source": [
    "<h3>Encontrar fotos dos cachorros em outro dataset</h3>"
   ]
  },
  {
   "cell_type": "code",
   "execution_count": 26,
   "metadata": {},
   "outputs": [],
   "source": [
    "import os\n",
    "\n",
    "dir_atual = os.getcwd()\n",
    "\n",
    "dir_destino = os.path.abspath(os.path.join(dir_atual, os.pardir, 'inteligencia_artificial/train'))\n",
    "\n",
    "os.chdir(dir_destino)\n",
    "\n",
    "arquivos_jpg = [f for f in os.listdir() if f.endswith('.jpg')]\n",
    "\n",
    "fotos = set(arquivos_jpg)"
   ]
  },
  {
   "cell_type": "code",
   "execution_count": 28,
   "metadata": {},
   "outputs": [],
   "source": [
    "dataset_breed_dogs = pd.read_csv('../../data/labels.csv')"
   ]
  },
  {
   "cell_type": "code",
   "execution_count": 34,
   "metadata": {},
   "outputs": [
    {
     "name": "stderr",
     "output_type": "stream",
     "text": [
      "  1%|▏         | 1829/134291 [00:19<18:59, 116.22it/s]/tmp/ipykernel_568454/3690741364.py:8: UserWarning: This pattern is interpreted as a regular expression, and has match groups. To actually get the groups, use str.extract.\n",
      "  breeds_founded = dataset_breed_dogs[dataset_breed_dogs['breed'].apply(str.lower).str.contains(str(breed_name).lower(), case=False)]\n",
      "  2%|▏         | 2624/134291 [00:27<20:05, 109.18it/s]/tmp/ipykernel_568454/3690741364.py:8: UserWarning: This pattern is interpreted as a regular expression, and has match groups. To actually get the groups, use str.extract.\n",
      "  breeds_founded = dataset_breed_dogs[dataset_breed_dogs['breed'].apply(str.lower).str.contains(str(breed_name).lower(), case=False)]\n",
      "  4%|▍         | 5418/134291 [00:53<23:23, 91.81it/s] /tmp/ipykernel_568454/3690741364.py:8: UserWarning: This pattern is interpreted as a regular expression, and has match groups. To actually get the groups, use str.extract.\n",
      "  breeds_founded = dataset_breed_dogs[dataset_breed_dogs['breed'].apply(str.lower).str.contains(str(breed_name).lower(), case=False)]\n",
      "  4%|▍         | 5765/134291 [00:57<20:16, 105.69it/s]/tmp/ipykernel_568454/3690741364.py:8: UserWarning: This pattern is interpreted as a regular expression, and has match groups. To actually get the groups, use str.extract.\n",
      "  breeds_founded = dataset_breed_dogs[dataset_breed_dogs['breed'].apply(str.lower).str.contains(str(breed_name).lower(), case=False)]\n",
      " 10%|▉         | 13227/134291 [02:11<21:57, 91.86it/s] /tmp/ipykernel_568454/3690741364.py:8: UserWarning: This pattern is interpreted as a regular expression, and has match groups. To actually get the groups, use str.extract.\n",
      "  breeds_founded = dataset_breed_dogs[dataset_breed_dogs['breed'].apply(str.lower).str.contains(str(breed_name).lower(), case=False)]\n",
      " 17%|█▋        | 22442/134291 [03:44<15:47, 118.07it/s]/tmp/ipykernel_568454/3690741364.py:8: UserWarning: This pattern is interpreted as a regular expression, and has match groups. To actually get the groups, use str.extract.\n",
      "  breeds_founded = dataset_breed_dogs[dataset_breed_dogs['breed'].apply(str.lower).str.contains(str(breed_name).lower(), case=False)]\n",
      " 22%|██▏       | 29418/134291 [04:59<15:44, 111.09it/s]/tmp/ipykernel_568454/3690741364.py:8: UserWarning: This pattern is interpreted as a regular expression, and has match groups. To actually get the groups, use str.extract.\n",
      "  breeds_founded = dataset_breed_dogs[dataset_breed_dogs['breed'].apply(str.lower).str.contains(str(breed_name).lower(), case=False)]\n",
      " 29%|██▉       | 39093/134291 [07:42<35:52, 44.22it/s] /tmp/ipykernel_568454/3690741364.py:8: UserWarning: This pattern is interpreted as a regular expression, and has match groups. To actually get the groups, use str.extract.\n",
      "  breeds_founded = dataset_breed_dogs[dataset_breed_dogs['breed'].apply(str.lower).str.contains(str(breed_name).lower(), case=False)]\n",
      " 34%|███▎      | 45097/134291 [09:58<39:12, 37.91it/s]  /tmp/ipykernel_568454/3690741364.py:8: UserWarning: This pattern is interpreted as a regular expression, and has match groups. To actually get the groups, use str.extract.\n",
      "  breeds_founded = dataset_breed_dogs[dataset_breed_dogs['breed'].apply(str.lower).str.contains(str(breed_name).lower(), case=False)]\n",
      " 34%|███▍      | 46330/134291 [10:31<31:53, 45.97it/s]  /tmp/ipykernel_568454/3690741364.py:8: UserWarning: This pattern is interpreted as a regular expression, and has match groups. To actually get the groups, use str.extract.\n",
      "  breeds_founded = dataset_breed_dogs[dataset_breed_dogs['breed'].apply(str.lower).str.contains(str(breed_name).lower(), case=False)]\n",
      " 37%|███▋      | 49582/134291 [11:43<28:39, 49.26it/s]/tmp/ipykernel_568454/3690741364.py:8: UserWarning: This pattern is interpreted as a regular expression, and has match groups. To actually get the groups, use str.extract.\n",
      "  breeds_founded = dataset_breed_dogs[dataset_breed_dogs['breed'].apply(str.lower).str.contains(str(breed_name).lower(), case=False)]\n",
      " 48%|████▊     | 64272/134291 [17:06<27:48, 41.97it/s]/tmp/ipykernel_568454/3690741364.py:8: UserWarning: This pattern is interpreted as a regular expression, and has match groups. To actually get the groups, use str.extract.\n",
      "  breeds_founded = dataset_breed_dogs[dataset_breed_dogs['breed'].apply(str.lower).str.contains(str(breed_name).lower(), case=False)]\n",
      "100%|██████████| 134291/134291 [31:53<00:00, 70.17it/s] \n"
     ]
    }
   ],
   "source": [
    "import base64\n",
    "from PIL import Image\n",
    "from tqdm import tqdm\n",
    "\n",
    "def find_image_from_name_dog(breed_name):\n",
    "    if breed_name == 'Unknown' or not breed_name:\n",
    "        return None, dataset_breed_dogs\n",
    "    breeds_founded = dataset_breed_dogs[dataset_breed_dogs['breed'].apply(str.lower).str.contains(str(breed_name).lower(), case=False)]\n",
    "    \n",
    "    if breeds_founded.empty:\n",
    "        return None, dataset_breed_dogs\n",
    "    \n",
    "    first_breed = breeds_founded.iloc[0]\n",
    "    df = dataset_breed_dogs.drop(breeds_founded.index[0])\n",
    "    info_breed = first_breed.to_dict()\n",
    "    indice_arquivo = arquivos_jpg.index(f\"{info_breed['id']}.jpg\")\n",
    "    nome_arquivo = arquivos_jpg[indice_arquivo]\n",
    "    caminho_completo = os.path.join(dir_destino, nome_arquivo)\n",
    "    img = Image.open(caminho_completo)\n",
    "    img_bytes = img.tobytes()\n",
    "    return base64.b64encode(img_bytes).decode('utf-8'), df\n",
    "\n",
    "try:\n",
    "    for index, row in tqdm(union_dataset.iterrows(), total=len(union_dataset)):\n",
    "        image_base64, df = find_image_from_name_dog(row['BreedName'])\n",
    "        dataset_breed_dogs = df\n",
    "        if row[\"Image\"] and row[\"Type\"] == \"Dog\" and not is_base64(row[\"Image\"]):\n",
    "            union_dataset.loc[index, 'Image'] = image_base64\n",
    "except Exception as error:\n",
    "    print(error)\n",
    "\n",
    "union_dataset.to_csv(\"../../data/dataset_union.csv\")"
   ]
  },
  {
   "attachments": {},
   "cell_type": "markdown",
   "metadata": {},
   "source": [
    "<h3>Tratar valores nulos nos dados de gatos utilizando média de outro dataset</h3>"
   ]
  },
  {
   "cell_type": "code",
   "execution_count": 35,
   "metadata": {},
   "outputs": [],
   "source": [
    "dataset_names_cat = pd.read_csv('../../data/2022-licenced-cat-names.csv')"
   ]
  },
  {
   "cell_type": "code",
   "execution_count": 36,
   "metadata": {},
   "outputs": [],
   "source": [
    "nomesGato = np.array(dataset_names_cat['names'])\n",
    "\n",
    "def getNameCat():\n",
    "    return np.random.choice(nomesGato)\n",
    "\n",
    "union_dataset['AnimalName'] = union_dataset['AnimalName'].map(lambda name: getNameCat() if not name else name)"
   ]
  },
  {
   "cell_type": "code",
   "execution_count": 37,
   "metadata": {},
   "outputs": [],
   "source": [
    "mesGato = np.array(union_dataset['AnimalBirthMonth'])\n",
    "\n",
    "mesGatoFiltrado = list(filter(lambda mes: mes != None, mesGato))\n",
    "\n",
    "def getBirthMonth():\n",
    "    return np.random.choice(mesGatoFiltrado)\n",
    "\n",
    "union_dataset['AnimalBirthMonth'] = union_dataset['AnimalBirthMonth'].map(lambda month: getBirthMonth() if not month else month)"
   ]
  },
  {
   "cell_type": "code",
   "execution_count": 38,
   "metadata": {},
   "outputs": [],
   "source": [
    "union_dataset.to_csv(\"../../data/dataset_union.csv\")"
   ]
  },
  {
   "cell_type": "code",
   "execution_count": 4,
   "metadata": {},
   "outputs": [
    {
     "name": "stderr",
     "output_type": "stream",
     "text": [
      "/tmp/ipykernel_631571/364451176.py:2: DtypeWarning: Columns (2,4) have mixed types. Specify dtype option on import or set low_memory=False.\n",
      "  final_dataset = pd.read_csv(\"../data/dataset_union.csv\")\n"
     ]
    }
   ],
   "source": [
    "import pandas as pd\n",
    "final_dataset = pd.read_csv(\"../data/dataset_union.csv\")"
   ]
  },
  {
   "cell_type": "code",
   "execution_count": 5,
   "metadata": {},
   "outputs": [
    {
     "data": {
      "text/html": [
       "<div>\n",
       "<style scoped>\n",
       "    .dataframe tbody tr th:only-of-type {\n",
       "        vertical-align: middle;\n",
       "    }\n",
       "\n",
       "    .dataframe tbody tr th {\n",
       "        vertical-align: top;\n",
       "    }\n",
       "\n",
       "    .dataframe thead th {\n",
       "        text-align: right;\n",
       "    }\n",
       "</style>\n",
       "<table border=\"1\" class=\"dataframe\">\n",
       "  <thead>\n",
       "    <tr style=\"text-align: right;\">\n",
       "      <th></th>\n",
       "      <th>Unnamed: 0.1</th>\n",
       "      <th>Unnamed: 0</th>\n",
       "      <th>AnimalName</th>\n",
       "      <th>AnimalGender</th>\n",
       "      <th>AnimalBirthMonth</th>\n",
       "      <th>BreedName</th>\n",
       "      <th>Borough</th>\n",
       "      <th>ZipCode</th>\n",
       "      <th>Type</th>\n",
       "      <th>Image</th>\n",
       "    </tr>\n",
       "  </thead>\n",
       "  <tbody>\n",
       "    <tr>\n",
       "      <th>0</th>\n",
       "      <td>0</td>\n",
       "      <td>0</td>\n",
       "      <td>SHADOW</td>\n",
       "      <td>M</td>\n",
       "      <td>01/01/2000</td>\n",
       "      <td>Beagle</td>\n",
       "      <td>Gravataí/RS</td>\n",
       "      <td>94055030</td>\n",
       "      <td>Dog</td>\n",
       "      <td>SWcnFzUAI0AIHTkIABIAHTkTCyUIGzUaABwFABsCEzEXBS...</td>\n",
       "    </tr>\n",
       "    <tr>\n",
       "      <th>1</th>\n",
       "      <td>1</td>\n",
       "      <td>1</td>\n",
       "      <td>ROCCO</td>\n",
       "      <td>M</td>\n",
       "      <td>10/01/2011</td>\n",
       "      <td>Boxer</td>\n",
       "      <td>Várzea Grande/MT</td>\n",
       "      <td>78115646</td>\n",
       "      <td>Dog</td>\n",
       "      <td>KColKColKColJigjISMeGx0YFRcSERMODxEMDxEMDhALDh...</td>\n",
       "    </tr>\n",
       "    <tr>\n",
       "      <th>2</th>\n",
       "      <td>2</td>\n",
       "      <td>2</td>\n",
       "      <td>LUIGI</td>\n",
       "      <td>M</td>\n",
       "      <td>09/01/2005</td>\n",
       "      <td>Maltese</td>\n",
       "      <td>Mossoró/RN</td>\n",
       "      <td>59633636</td>\n",
       "      <td>Dog</td>\n",
       "      <td>bzgzajMucjs2XygjazYwWyYgZC8pWiUfTBoTXSskShkSXy...</td>\n",
       "    </tr>\n",
       "    <tr>\n",
       "      <th>3</th>\n",
       "      <td>3</td>\n",
       "      <td>3</td>\n",
       "      <td>PETUNIA</td>\n",
       "      <td>F</td>\n",
       "      <td>08/01/2013</td>\n",
       "      <td>Pug</td>\n",
       "      <td>Mossoró/RN</td>\n",
       "      <td>59615377</td>\n",
       "      <td>Dog</td>\n",
       "      <td>aXp0aHlzZndxY3RuYnNtYnNtYnNtY3RuaXp0a3x2b4B6c4...</td>\n",
       "    </tr>\n",
       "    <tr>\n",
       "      <th>4</th>\n",
       "      <td>4</td>\n",
       "      <td>4</td>\n",
       "      <td>ROMEO</td>\n",
       "      <td>M</td>\n",
       "      <td>10/01/2008</td>\n",
       "      <td>Maltese</td>\n",
       "      <td>Itaguaí/RJ</td>\n",
       "      <td>23840240</td>\n",
       "      <td>Dog</td>\n",
       "      <td>W6nQXqzTYa/WX63UXKrRWqjPW6nQXavSX63UYa/WYrDXYr...</td>\n",
       "    </tr>\n",
       "  </tbody>\n",
       "</table>\n",
       "</div>"
      ],
      "text/plain": [
       "   Unnamed: 0.1  Unnamed: 0 AnimalName AnimalGender AnimalBirthMonth  \\\n",
       "0             0           0    SHADOW             M       01/01/2000   \n",
       "1             1           1      ROCCO            M       10/01/2011   \n",
       "2             2           2      LUIGI            M       09/01/2005   \n",
       "3             3           3    PETUNIA            F       08/01/2013   \n",
       "4             4           4      ROMEO            M       10/01/2008   \n",
       "\n",
       "  BreedName           Borough   ZipCode Type  \\\n",
       "0    Beagle       Gravataí/RS  94055030  Dog   \n",
       "1     Boxer  Várzea Grande/MT  78115646  Dog   \n",
       "2   Maltese        Mossoró/RN  59633636  Dog   \n",
       "3       Pug        Mossoró/RN  59615377  Dog   \n",
       "4   Maltese        Itaguaí/RJ  23840240  Dog   \n",
       "\n",
       "                                               Image  \n",
       "0  SWcnFzUAI0AIHTkIABIAHTkTCyUIGzUaABwFABsCEzEXBS...  \n",
       "1  KColKColKColJigjISMeGx0YFRcSERMODxEMDxEMDhALDh...  \n",
       "2  bzgzajMucjs2XygjazYwWyYgZC8pWiUfTBoTXSskShkSXy...  \n",
       "3  aXp0aHlzZndxY3RuYnNtYnNtYnNtY3RuaXp0a3x2b4B6c4...  \n",
       "4  W6nQXqzTYa/WX63UXKrRWqjPW6nQXavSX63UYa/WYrDXYr...  "
      ]
     },
     "execution_count": 5,
     "metadata": {},
     "output_type": "execute_result"
    }
   ],
   "source": [
    "final_dataset.head(5)"
   ]
  },
  {
   "cell_type": "code",
   "execution_count": 6,
   "metadata": {},
   "outputs": [
    {
     "ename": "KeyError",
     "evalue": "\"['ID'] not found in axis\"",
     "output_type": "error",
     "traceback": [
      "\u001b[0;31m---------------------------------------------------------------------------\u001b[0m",
      "\u001b[0;31mKeyError\u001b[0m                                  Traceback (most recent call last)",
      "Cell \u001b[0;32mIn[6], line 1\u001b[0m\n\u001b[0;32m----> 1\u001b[0m final_dataset\u001b[39m.\u001b[39;49mdrop([\u001b[39m'\u001b[39;49m\u001b[39mID\u001b[39;49m\u001b[39m'\u001b[39;49m], axis\u001b[39m=\u001b[39;49m\u001b[39m1\u001b[39;49m, inplace\u001b[39m=\u001b[39;49m\u001b[39mTrue\u001b[39;49;00m)\n",
      "File \u001b[0;32m~/.local/lib/python3.10/site-packages/pandas/util/_decorators.py:331\u001b[0m, in \u001b[0;36mdeprecate_nonkeyword_arguments.<locals>.decorate.<locals>.wrapper\u001b[0;34m(*args, **kwargs)\u001b[0m\n\u001b[1;32m    325\u001b[0m \u001b[39mif\u001b[39;00m \u001b[39mlen\u001b[39m(args) \u001b[39m>\u001b[39m num_allow_args:\n\u001b[1;32m    326\u001b[0m     warnings\u001b[39m.\u001b[39mwarn(\n\u001b[1;32m    327\u001b[0m         msg\u001b[39m.\u001b[39mformat(arguments\u001b[39m=\u001b[39m_format_argument_list(allow_args)),\n\u001b[1;32m    328\u001b[0m         \u001b[39mFutureWarning\u001b[39;00m,\n\u001b[1;32m    329\u001b[0m         stacklevel\u001b[39m=\u001b[39mfind_stack_level(),\n\u001b[1;32m    330\u001b[0m     )\n\u001b[0;32m--> 331\u001b[0m \u001b[39mreturn\u001b[39;00m func(\u001b[39m*\u001b[39;49margs, \u001b[39m*\u001b[39;49m\u001b[39m*\u001b[39;49mkwargs)\n",
      "File \u001b[0;32m~/.local/lib/python3.10/site-packages/pandas/core/frame.py:5399\u001b[0m, in \u001b[0;36mDataFrame.drop\u001b[0;34m(self, labels, axis, index, columns, level, inplace, errors)\u001b[0m\n\u001b[1;32m   5251\u001b[0m \u001b[39m@deprecate_nonkeyword_arguments\u001b[39m(version\u001b[39m=\u001b[39m\u001b[39mNone\u001b[39;00m, allowed_args\u001b[39m=\u001b[39m[\u001b[39m\"\u001b[39m\u001b[39mself\u001b[39m\u001b[39m\"\u001b[39m, \u001b[39m\"\u001b[39m\u001b[39mlabels\u001b[39m\u001b[39m\"\u001b[39m])\n\u001b[1;32m   5252\u001b[0m \u001b[39mdef\u001b[39;00m \u001b[39mdrop\u001b[39m(  \u001b[39m# type: ignore[override]\u001b[39;00m\n\u001b[1;32m   5253\u001b[0m     \u001b[39mself\u001b[39m,\n\u001b[0;32m   (...)\u001b[0m\n\u001b[1;32m   5260\u001b[0m     errors: IgnoreRaise \u001b[39m=\u001b[39m \u001b[39m\"\u001b[39m\u001b[39mraise\u001b[39m\u001b[39m\"\u001b[39m,\n\u001b[1;32m   5261\u001b[0m ) \u001b[39m-\u001b[39m\u001b[39m>\u001b[39m DataFrame \u001b[39m|\u001b[39m \u001b[39mNone\u001b[39;00m:\n\u001b[1;32m   5262\u001b[0m \u001b[39m    \u001b[39m\u001b[39m\"\"\"\u001b[39;00m\n\u001b[1;32m   5263\u001b[0m \u001b[39m    Drop specified labels from rows or columns.\u001b[39;00m\n\u001b[1;32m   5264\u001b[0m \n\u001b[0;32m   (...)\u001b[0m\n\u001b[1;32m   5397\u001b[0m \u001b[39m            weight  1.0     0.8\u001b[39;00m\n\u001b[1;32m   5398\u001b[0m \u001b[39m    \"\"\"\u001b[39;00m\n\u001b[0;32m-> 5399\u001b[0m     \u001b[39mreturn\u001b[39;00m \u001b[39msuper\u001b[39;49m()\u001b[39m.\u001b[39;49mdrop(\n\u001b[1;32m   5400\u001b[0m         labels\u001b[39m=\u001b[39;49mlabels,\n\u001b[1;32m   5401\u001b[0m         axis\u001b[39m=\u001b[39;49maxis,\n\u001b[1;32m   5402\u001b[0m         index\u001b[39m=\u001b[39;49mindex,\n\u001b[1;32m   5403\u001b[0m         columns\u001b[39m=\u001b[39;49mcolumns,\n\u001b[1;32m   5404\u001b[0m         level\u001b[39m=\u001b[39;49mlevel,\n\u001b[1;32m   5405\u001b[0m         inplace\u001b[39m=\u001b[39;49minplace,\n\u001b[1;32m   5406\u001b[0m         errors\u001b[39m=\u001b[39;49merrors,\n\u001b[1;32m   5407\u001b[0m     )\n",
      "File \u001b[0;32m~/.local/lib/python3.10/site-packages/pandas/util/_decorators.py:331\u001b[0m, in \u001b[0;36mdeprecate_nonkeyword_arguments.<locals>.decorate.<locals>.wrapper\u001b[0;34m(*args, **kwargs)\u001b[0m\n\u001b[1;32m    325\u001b[0m \u001b[39mif\u001b[39;00m \u001b[39mlen\u001b[39m(args) \u001b[39m>\u001b[39m num_allow_args:\n\u001b[1;32m    326\u001b[0m     warnings\u001b[39m.\u001b[39mwarn(\n\u001b[1;32m    327\u001b[0m         msg\u001b[39m.\u001b[39mformat(arguments\u001b[39m=\u001b[39m_format_argument_list(allow_args)),\n\u001b[1;32m    328\u001b[0m         \u001b[39mFutureWarning\u001b[39;00m,\n\u001b[1;32m    329\u001b[0m         stacklevel\u001b[39m=\u001b[39mfind_stack_level(),\n\u001b[1;32m    330\u001b[0m     )\n\u001b[0;32m--> 331\u001b[0m \u001b[39mreturn\u001b[39;00m func(\u001b[39m*\u001b[39;49margs, \u001b[39m*\u001b[39;49m\u001b[39m*\u001b[39;49mkwargs)\n",
      "File \u001b[0;32m~/.local/lib/python3.10/site-packages/pandas/core/generic.py:4505\u001b[0m, in \u001b[0;36mNDFrame.drop\u001b[0;34m(self, labels, axis, index, columns, level, inplace, errors)\u001b[0m\n\u001b[1;32m   4503\u001b[0m \u001b[39mfor\u001b[39;00m axis, labels \u001b[39min\u001b[39;00m axes\u001b[39m.\u001b[39mitems():\n\u001b[1;32m   4504\u001b[0m     \u001b[39mif\u001b[39;00m labels \u001b[39mis\u001b[39;00m \u001b[39mnot\u001b[39;00m \u001b[39mNone\u001b[39;00m:\n\u001b[0;32m-> 4505\u001b[0m         obj \u001b[39m=\u001b[39m obj\u001b[39m.\u001b[39;49m_drop_axis(labels, axis, level\u001b[39m=\u001b[39;49mlevel, errors\u001b[39m=\u001b[39;49merrors)\n\u001b[1;32m   4507\u001b[0m \u001b[39mif\u001b[39;00m inplace:\n\u001b[1;32m   4508\u001b[0m     \u001b[39mself\u001b[39m\u001b[39m.\u001b[39m_update_inplace(obj)\n",
      "File \u001b[0;32m~/.local/lib/python3.10/site-packages/pandas/core/generic.py:4546\u001b[0m, in \u001b[0;36mNDFrame._drop_axis\u001b[0;34m(self, labels, axis, level, errors, only_slice)\u001b[0m\n\u001b[1;32m   4544\u001b[0m         new_axis \u001b[39m=\u001b[39m axis\u001b[39m.\u001b[39mdrop(labels, level\u001b[39m=\u001b[39mlevel, errors\u001b[39m=\u001b[39merrors)\n\u001b[1;32m   4545\u001b[0m     \u001b[39melse\u001b[39;00m:\n\u001b[0;32m-> 4546\u001b[0m         new_axis \u001b[39m=\u001b[39m axis\u001b[39m.\u001b[39;49mdrop(labels, errors\u001b[39m=\u001b[39;49merrors)\n\u001b[1;32m   4547\u001b[0m     indexer \u001b[39m=\u001b[39m axis\u001b[39m.\u001b[39mget_indexer(new_axis)\n\u001b[1;32m   4549\u001b[0m \u001b[39m# Case for non-unique axis\u001b[39;00m\n\u001b[1;32m   4550\u001b[0m \u001b[39melse\u001b[39;00m:\n",
      "File \u001b[0;32m~/.local/lib/python3.10/site-packages/pandas/core/indexes/base.py:6934\u001b[0m, in \u001b[0;36mIndex.drop\u001b[0;34m(self, labels, errors)\u001b[0m\n\u001b[1;32m   6932\u001b[0m \u001b[39mif\u001b[39;00m mask\u001b[39m.\u001b[39many():\n\u001b[1;32m   6933\u001b[0m     \u001b[39mif\u001b[39;00m errors \u001b[39m!=\u001b[39m \u001b[39m\"\u001b[39m\u001b[39mignore\u001b[39m\u001b[39m\"\u001b[39m:\n\u001b[0;32m-> 6934\u001b[0m         \u001b[39mraise\u001b[39;00m \u001b[39mKeyError\u001b[39;00m(\u001b[39mf\u001b[39m\u001b[39m\"\u001b[39m\u001b[39m{\u001b[39;00m\u001b[39mlist\u001b[39m(labels[mask])\u001b[39m}\u001b[39;00m\u001b[39m not found in axis\u001b[39m\u001b[39m\"\u001b[39m)\n\u001b[1;32m   6935\u001b[0m     indexer \u001b[39m=\u001b[39m indexer[\u001b[39m~\u001b[39mmask]\n\u001b[1;32m   6936\u001b[0m \u001b[39mreturn\u001b[39;00m \u001b[39mself\u001b[39m\u001b[39m.\u001b[39mdelete(indexer)\n",
      "\u001b[0;31mKeyError\u001b[0m: \"['ID'] not found in axis\""
     ]
    }
   ],
   "source": [
    "final_dataset.drop(['ID'], axis=1, inplace=True)"
   ]
  },
  {
   "cell_type": "code",
   "execution_count": null,
   "metadata": {},
   "outputs": [],
   "source": [
    "final_dataset.insert(0, 'ID', range(1, len(final_dataset) + 1))"
   ]
  },
  {
   "cell_type": "code",
   "execution_count": null,
   "metadata": {},
   "outputs": [],
   "source": [
    "final_dataset.to_csv(\"../../data/dataset_union.csv\", index=False)"
   ]
  }
 ],
 "metadata": {
  "kernelspec": {
   "display_name": "Python 3",
   "language": "python",
   "name": "python3"
  },
  "language_info": {
   "codemirror_mode": {
    "name": "ipython",
    "version": 3
   },
   "file_extension": ".py",
   "mimetype": "text/x-python",
   "name": "python",
   "nbconvert_exporter": "python",
   "pygments_lexer": "ipython3",
   "version": "3.10.10"
  },
  "orig_nbformat": 4,
  "vscode": {
   "interpreter": {
    "hash": "d2152fd7f0bbc62aa1baff8c990435d1e2c7175d001561303988032604c11a48"
   }
  }
 },
 "nbformat": 4,
 "nbformat_minor": 2
}
