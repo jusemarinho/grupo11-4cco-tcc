{
 "cells": [
  {
   "cell_type": "code",
   "execution_count": 15,
   "metadata": {},
   "outputs": [],
   "source": [
    "import pandas as pd\n",
    "import numpy as np\n",
    "from tqdm import tqdm\n",
    "import os\n",
    "import asyncio\n",
    "import boto3\n",
    "import aioboto3\n",
    "from dotenv import load_dotenv, find_dotenv\n",
    "import random"
   ]
  },
  {
   "cell_type": "code",
   "execution_count": 8,
   "metadata": {},
   "outputs": [
    {
     "data": {
      "text/plain": [
       "True"
      ]
     },
     "execution_count": 8,
     "metadata": {},
     "output_type": "execute_result"
    }
   ],
   "source": [
    "parent_dir = os.path.abspath(os.path.join(os.getcwd(), os.pardir))\n",
    "# Encontra o arquivo .env no diretório pai\n",
    "dotenv_path = find_dotenv()\n",
    "\n",
    "# Carrega as variáveis de ambiente do arquivo .env encontrado\n",
    "load_dotenv(dotenv_path)"
   ]
  },
  {
   "cell_type": "code",
   "execution_count": 9,
   "metadata": {},
   "outputs": [],
   "source": [
    "dataset_peoples = pd.read_csv('../data/peoples.csv')\n",
    "dataset_pets = pd.read_csv('../data/dataset_union.csv')"
   ]
  },
  {
   "cell_type": "code",
   "execution_count": 10,
   "metadata": {},
   "outputs": [],
   "source": [
    "uuids_peoples = dataset_peoples['ID'].to_list()\n",
    "ids_pets = dataset_pets['ID'].to_list()"
   ]
  },
  {
   "cell_type": "code",
   "execution_count": 11,
   "metadata": {},
   "outputs": [],
   "source": [
    "from collections import namedtuple\n",
    "\n",
    "Pet = namedtuple('Pet', ['id', 'animal_name', 'animal_gender', 'breed_name', 'borough', 'zip_code', 'type', 'image'])"
   ]
  },
  {
   "cell_type": "code",
   "execution_count": 12,
   "metadata": {},
   "outputs": [
    {
     "name": "stdout",
     "output_type": "stream",
     "text": [
      "134291\n"
     ]
    }
   ],
   "source": [
    "print(len(dataset_pets))"
   ]
  },
  {
   "cell_type": "code",
   "execution_count": 13,
   "metadata": {},
   "outputs": [
    {
     "name": "stderr",
     "output_type": "stream",
     "text": [
      "100%|██████████| 24500/24500 [00:00<00:00, 32219.07it/s]\n"
     ]
    }
   ],
   "source": [
    "dict_people_pet = {}\n",
    "\n",
    "# garantindo que todo usuário terá um animal\n",
    "for index, id in tqdm(enumerate(uuids_peoples), total=len(uuids_peoples)):\n",
    "    pet = dataset_pets.loc[dataset_pets.index[index]]\n",
    "    dict_people_pet[f\"{id}\"] = [Pet(id = pet['ID'], animal_name = pet['AnimalName'], animal_gender = pet['AnimalGender'], breed_name = pet['BreedName'], borough = pet['Borough'],  zip_code = str(pet['ZipCode']), type = pet['Type'], image = pet['Image'])]\n",
    "    # if index in dataset_pets.index:\n",
    "    #     dataset_pets = dataset_pets.drop(index)"
   ]
  },
  {
   "cell_type": "code",
   "execution_count": 16,
   "metadata": {},
   "outputs": [
    {
     "name": "stderr",
     "output_type": "stream",
     "text": [
      "Handing out pets...:  58%|█████▊    | 77721/134291 [01:23<01:00, 933.73it/s] "
     ]
    },
    {
     "name": "stdout",
     "output_type": "stream",
     "text": [
      "Done handing out pets!\n"
     ]
    },
    {
     "name": "stderr",
     "output_type": "stream",
     "text": [
      "\n"
     ]
    }
   ],
   "source": [
    "count_pets = len(ids_pets)\n",
    "count_users = len(uuids_peoples)\n",
    "\n",
    "dict_people_pet_final = {}\n",
    "people_keys = list(uuids_peoples)\n",
    "random.shuffle(people_keys)\n",
    "\n",
    "with tqdm(total=count_pets, desc=f\"Handing out pets...\") as inner_tqdm:\n",
    "    for person_id in people_keys:\n",
    "        quantity_pets = np.random.randint(1, 9)\n",
    "\n",
    "        # Gera aleatoriamente uma lista de índices de animais\n",
    "        pet_indices = np.random.choice(dataset_pets.index, size=quantity_pets, replace=False)\n",
    "        person_pets = []\n",
    "\n",
    "        for pet_index in pet_indices:\n",
    "            pet = dataset_pets.loc[pet_index]\n",
    "            person_pets.append(Pet(id=pet['ID'], animal_name=pet['AnimalName'], animal_gender=pet['AnimalGender'], breed_name=pet['BreedName'], borough=pet['Borough'], zip_code=str(pet['ZipCode']), type=pet['Type'], image=pet['Image']))\n",
    "\n",
    "        dict_people_pet_final[person_id] = person_pets\n",
    "        inner_tqdm.update(quantity_pets)\n",
    "\n",
    "        if len(dataset_pets) < quantity_pets:\n",
    "            break\n",
    "\n",
    "        # Marca os animais que foram distribuídos como indisponíveis\n",
    "        dataset_pets = dataset_pets.drop(index=pet_indices)\n",
    "\n",
    "print(\"Done handing out pets!\")"
   ]
  },
  {
   "cell_type": "code",
   "execution_count": 17,
   "metadata": {},
   "outputs": [],
   "source": [
    "session = aioboto3.Session(\n",
    "    aws_access_key_id       = os.getenv('AWS_ACCESS_KEY_ID'),  \n",
    "    aws_secret_access_key   = os.getenv('AWS_SECRET_ACCESS_KEY'),\n",
    "    region_name             = os.getenv('AWS_DEFAULT_REGION'), \n",
    "    aws_session_token       = os.getenv('AWS_ACCESS_TOKEN')\n",
    ")"
   ]
  },
  {
   "cell_type": "code",
   "execution_count": 18,
   "metadata": {},
   "outputs": [
    {
     "name": "stderr",
     "output_type": "stream",
     "text": [
      "/var/folders/9p/bjctjlpd1c9dk82v6v2nqmdh0000gn/T/ipykernel_52465/2104096300.py:1: RuntimeWarning: coroutine 'AioSession._create_client' was never awaited\n",
      "  s3 = session.resource(\"s3\")\n",
      "RuntimeWarning: Enable tracemalloc to get the object allocation traceback\n"
     ]
    }
   ],
   "source": [
    "s3 = session.resource(\"s3\")"
   ]
  },
  {
   "cell_type": "code",
   "execution_count": 29,
   "metadata": {},
   "outputs": [],
   "source": [
    "async def directory_exists(bucket_name, directory_name):\n",
    "    try:\n",
    "        async with session.resource(\"s3\") as s3:\n",
    "            bucket = await s3.Bucket(bucket_name)\n",
    "            await bucket.head_object(Bucket=bucket_name, Key=directory_name)\n",
    "        return True\n",
    "    except:\n",
    "        return False"
   ]
  },
  {
   "cell_type": "code",
   "execution_count": 22,
   "metadata": {},
   "outputs": [],
   "source": [
    "import os\n",
    "\n",
    "file_list = []\n",
    "dir_atual = os.getcwd()\n",
    "dir_destino = os.path.abspath(f'{os.pardir}/inteligencia_artificial/train')\n",
    "\n",
    "os.chdir(dir_destino)\n",
    "\n",
    "arquivos_jpg = [f for f in os.listdir() if f.endswith('.jpg')]\n",
    "fotos = set(arquivos_jpg)"
   ]
  },
  {
   "cell_type": "code",
   "execution_count": 23,
   "metadata": {},
   "outputs": [
    {
     "data": {
      "text/plain": [
       "75501"
      ]
     },
     "execution_count": 23,
     "metadata": {},
     "output_type": "execute_result"
    }
   ],
   "source": [
    "len(fotos)"
   ]
  },
  {
   "cell_type": "code",
   "execution_count": 30,
   "metadata": {},
   "outputs": [],
   "source": [
    "bucket_name = 'pilha-nuvem-tcc-sptech-bucket'\n",
    "\n",
    "async def send_image_to_s3(md5_hash, folder, pet_name):\n",
    "    image_with_extension = f\"{md5_hash}.jpg\"\n",
    "    image_path = f\"{dir_destino}/{image_with_extension}\"\n",
    "    data = open(image_path, 'rb')\n",
    "    async with session.resource(\"s3\") as s3:\n",
    "        bucket = await s3.Bucket(bucket_name)\n",
    "        await bucket.put_object(Key = f\"{folder}/{pet_name}_{image_with_extension}\", Body=data)"
   ]
  },
  {
   "cell_type": "code",
   "execution_count": 31,
   "metadata": {},
   "outputs": [
    {
     "name": "stderr",
     "output_type": "stream",
     "text": [
      "  0%|          | 38/17251 [03:23<25:37:36,  5.36s/it]\n"
     ]
    },
    {
     "ename": "CancelledError",
     "evalue": "",
     "output_type": "error",
     "traceback": [
      "\u001b[0;31m---------------------------------------------------------------------------\u001b[0m",
      "\u001b[0;31mCancelledError\u001b[0m                            Traceback (most recent call last)",
      "Cell \u001b[0;32mIn[31], line 6\u001b[0m\n\u001b[1;32m      4\u001b[0m \u001b[39mfor\u001b[39;00m pet \u001b[39min\u001b[39;00m pets:\n\u001b[1;32m      5\u001b[0m     \u001b[39mif\u001b[39;00m pet\u001b[39m.\u001b[39mimage:\n\u001b[0;32m----> 6\u001b[0m         \u001b[39mawait\u001b[39;00m send_image_to_s3(pet\u001b[39m.\u001b[39mimage, \u001b[39mf\u001b[39m\u001b[39m\"\u001b[39m\u001b[39m{\u001b[39;00muser_folder\u001b[39m}\u001b[39;00m\u001b[39m/\u001b[39m\u001b[39m{\u001b[39;00mpet\u001b[39m.\u001b[39mid\u001b[39m}\u001b[39;00m\u001b[39m\"\u001b[39m, pet\u001b[39m.\u001b[39manimal_name)\n",
      "Cell \u001b[0;32mIn[30], line 9\u001b[0m, in \u001b[0;36msend_image_to_s3\u001b[0;34m(md5_hash, folder, pet_name)\u001b[0m\n\u001b[1;32m      7\u001b[0m \u001b[39masync\u001b[39;00m \u001b[39mwith\u001b[39;00m session\u001b[39m.\u001b[39mresource(\u001b[39m\"\u001b[39m\u001b[39ms3\u001b[39m\u001b[39m\"\u001b[39m) \u001b[39mas\u001b[39;00m s3:\n\u001b[1;32m      8\u001b[0m     bucket \u001b[39m=\u001b[39m \u001b[39mawait\u001b[39;00m s3\u001b[39m.\u001b[39mBucket(bucket_name)\n\u001b[0;32m----> 9\u001b[0m     \u001b[39mawait\u001b[39;00m bucket\u001b[39m.\u001b[39mput_object(Key \u001b[39m=\u001b[39m \u001b[39mf\u001b[39m\u001b[39m\"\u001b[39m\u001b[39m{\u001b[39;00mfolder\u001b[39m}\u001b[39;00m\u001b[39m/\u001b[39m\u001b[39m{\u001b[39;00mpet_name\u001b[39m}\u001b[39;00m\u001b[39m_\u001b[39m\u001b[39m{\u001b[39;00mimage_with_extension\u001b[39m}\u001b[39;00m\u001b[39m\"\u001b[39m, Body\u001b[39m=\u001b[39mdata)\n",
      "File \u001b[0;32m/opt/homebrew/lib/python3.11/site-packages/aioboto3/resources/factory.py:269\u001b[0m, in \u001b[0;36mAIOBoto3ResourceFactory._create_action.<locals>.do_action\u001b[0;34m(self, *args, **kwargs)\u001b[0m\n\u001b[1;32m    268\u001b[0m \u001b[39masync\u001b[39;00m \u001b[39mdef\u001b[39;00m \u001b[39mdo_action\u001b[39m(\u001b[39mself\u001b[39m, \u001b[39m*\u001b[39margs, \u001b[39m*\u001b[39m\u001b[39m*\u001b[39mkwargs):\n\u001b[0;32m--> 269\u001b[0m     response \u001b[39m=\u001b[39m \u001b[39mawait\u001b[39;00m action(\u001b[39mself\u001b[39m, \u001b[39m*\u001b[39margs, \u001b[39m*\u001b[39m\u001b[39m*\u001b[39mkwargs)\n\u001b[1;32m    271\u001b[0m     \u001b[39mif\u001b[39;00m \u001b[39mhasattr\u001b[39m(\u001b[39mself\u001b[39m, \u001b[39m'\u001b[39m\u001b[39mload\u001b[39m\u001b[39m'\u001b[39m):\n\u001b[1;32m    272\u001b[0m         \u001b[39m# Clear cached data. It will be reloaded the next\u001b[39;00m\n\u001b[1;32m    273\u001b[0m         \u001b[39m# time that an attribute is accessed.\u001b[39;00m\n\u001b[1;32m    274\u001b[0m         \u001b[39m# TODO: Make this configurable in the future?\u001b[39;00m\n\u001b[1;32m    275\u001b[0m         \u001b[39mself\u001b[39m\u001b[39m.\u001b[39mmeta\u001b[39m.\u001b[39mdata \u001b[39m=\u001b[39m \u001b[39mNone\u001b[39;00m\n",
      "File \u001b[0;32m/opt/homebrew/lib/python3.11/site-packages/aioboto3/resources/action.py:42\u001b[0m, in \u001b[0;36mAIOServiceAction.__call__\u001b[0;34m(self, parent, *args, **kwargs)\u001b[0m\n\u001b[1;32m     37\u001b[0m params\u001b[39m.\u001b[39mupdate(kwargs)\n\u001b[1;32m     39\u001b[0m logger\u001b[39m.\u001b[39mdebug(\u001b[39m'\u001b[39m\u001b[39mCalling \u001b[39m\u001b[39m%s\u001b[39;00m\u001b[39m:\u001b[39m\u001b[39m%s\u001b[39;00m\u001b[39m with \u001b[39m\u001b[39m%r\u001b[39;00m\u001b[39m'\u001b[39m, parent\u001b[39m.\u001b[39mmeta\u001b[39m.\u001b[39mservice_name,\n\u001b[1;32m     40\u001b[0m              operation_name, params)\n\u001b[0;32m---> 42\u001b[0m response \u001b[39m=\u001b[39m \u001b[39mawait\u001b[39;00m \u001b[39mgetattr\u001b[39m(parent\u001b[39m.\u001b[39mmeta\u001b[39m.\u001b[39mclient, operation_name)(\u001b[39m*\u001b[39margs, \u001b[39m*\u001b[39m\u001b[39m*\u001b[39mparams)\n\u001b[1;32m     44\u001b[0m logger\u001b[39m.\u001b[39mdebug(\u001b[39m'\u001b[39m\u001b[39mResponse: \u001b[39m\u001b[39m%r\u001b[39;00m\u001b[39m'\u001b[39m, response)\n\u001b[1;32m     46\u001b[0m \u001b[39mreturn\u001b[39;00m \u001b[39mawait\u001b[39;00m \u001b[39mself\u001b[39m\u001b[39m.\u001b[39m_response_handler(parent, params, response)\n",
      "File \u001b[0;32m/opt/homebrew/lib/python3.11/site-packages/aiobotocore/client.py:354\u001b[0m, in \u001b[0;36mAioBaseClient._make_api_call\u001b[0;34m(self, operation_name, api_params)\u001b[0m\n\u001b[1;32m    352\u001b[0m \u001b[39melse\u001b[39;00m:\n\u001b[1;32m    353\u001b[0m     apply_request_checksum(request_dict)\n\u001b[0;32m--> 354\u001b[0m     http, parsed_response \u001b[39m=\u001b[39m \u001b[39mawait\u001b[39;00m \u001b[39mself\u001b[39m\u001b[39m.\u001b[39m_make_request(\n\u001b[1;32m    355\u001b[0m         operation_model, request_dict, request_context\n\u001b[1;32m    356\u001b[0m     )\n\u001b[1;32m    358\u001b[0m \u001b[39mawait\u001b[39;00m \u001b[39mself\u001b[39m\u001b[39m.\u001b[39mmeta\u001b[39m.\u001b[39mevents\u001b[39m.\u001b[39memit(\n\u001b[1;32m    359\u001b[0m     \u001b[39m'\u001b[39m\u001b[39mafter-call.\u001b[39m\u001b[39m{service_id}\u001b[39;00m\u001b[39m.\u001b[39m\u001b[39m{operation_name}\u001b[39;00m\u001b[39m'\u001b[39m\u001b[39m.\u001b[39mformat(\n\u001b[1;32m    360\u001b[0m         service_id\u001b[39m=\u001b[39mservice_id, operation_name\u001b[39m=\u001b[39moperation_name\n\u001b[0;32m   (...)\u001b[0m\n\u001b[1;32m    365\u001b[0m     context\u001b[39m=\u001b[39mrequest_context,\n\u001b[1;32m    366\u001b[0m )\n\u001b[1;32m    368\u001b[0m \u001b[39mif\u001b[39;00m http\u001b[39m.\u001b[39mstatus_code \u001b[39m>\u001b[39m\u001b[39m=\u001b[39m \u001b[39m300\u001b[39m:\n",
      "File \u001b[0;32m/opt/homebrew/lib/python3.11/site-packages/aiobotocore/client.py:379\u001b[0m, in \u001b[0;36mAioBaseClient._make_request\u001b[0;34m(self, operation_model, request_dict, request_context)\u001b[0m\n\u001b[1;32m    375\u001b[0m \u001b[39masync\u001b[39;00m \u001b[39mdef\u001b[39;00m \u001b[39m_make_request\u001b[39m(\n\u001b[1;32m    376\u001b[0m     \u001b[39mself\u001b[39m, operation_model, request_dict, request_context\n\u001b[1;32m    377\u001b[0m ):\n\u001b[1;32m    378\u001b[0m     \u001b[39mtry\u001b[39;00m:\n\u001b[0;32m--> 379\u001b[0m         \u001b[39mreturn\u001b[39;00m \u001b[39mawait\u001b[39;00m \u001b[39mself\u001b[39m\u001b[39m.\u001b[39m_endpoint\u001b[39m.\u001b[39mmake_request(\n\u001b[1;32m    380\u001b[0m             operation_model, request_dict\n\u001b[1;32m    381\u001b[0m         )\n\u001b[1;32m    382\u001b[0m     \u001b[39mexcept\u001b[39;00m \u001b[39mException\u001b[39;00m \u001b[39mas\u001b[39;00m e:\n\u001b[1;32m    383\u001b[0m         \u001b[39mawait\u001b[39;00m \u001b[39mself\u001b[39m\u001b[39m.\u001b[39mmeta\u001b[39m.\u001b[39mevents\u001b[39m.\u001b[39memit(\n\u001b[1;32m    384\u001b[0m             \u001b[39m'\u001b[39m\u001b[39mafter-call-error.\u001b[39m\u001b[39m{service_id}\u001b[39;00m\u001b[39m.\u001b[39m\u001b[39m{operation_name}\u001b[39;00m\u001b[39m'\u001b[39m\u001b[39m.\u001b[39mformat(\n\u001b[1;32m    385\u001b[0m                 service_id\u001b[39m=\u001b[39m\u001b[39mself\u001b[39m\u001b[39m.\u001b[39m_service_model\u001b[39m.\u001b[39mservice_id\u001b[39m.\u001b[39mhyphenize(),\n\u001b[0;32m   (...)\u001b[0m\n\u001b[1;32m    389\u001b[0m             context\u001b[39m=\u001b[39mrequest_context,\n\u001b[1;32m    390\u001b[0m         )\n",
      "File \u001b[0;32m/opt/homebrew/lib/python3.11/site-packages/aiobotocore/endpoint.py:97\u001b[0m, in \u001b[0;36mAioEndpoint._send_request\u001b[0;34m(self, request_dict, operation_model)\u001b[0m\n\u001b[1;32m     95\u001b[0m \u001b[39mself\u001b[39m\u001b[39m.\u001b[39m_update_retries_context(context, attempts)\n\u001b[1;32m     96\u001b[0m request \u001b[39m=\u001b[39m \u001b[39mawait\u001b[39;00m \u001b[39mself\u001b[39m\u001b[39m.\u001b[39mcreate_request(request_dict, operation_model)\n\u001b[0;32m---> 97\u001b[0m success_response, exception \u001b[39m=\u001b[39m \u001b[39mawait\u001b[39;00m \u001b[39mself\u001b[39m\u001b[39m.\u001b[39m_get_response(\n\u001b[1;32m     98\u001b[0m     request, operation_model, context\n\u001b[1;32m     99\u001b[0m )\n\u001b[1;32m    100\u001b[0m \u001b[39mwhile\u001b[39;00m \u001b[39mawait\u001b[39;00m \u001b[39mself\u001b[39m\u001b[39m.\u001b[39m_needs_retry(\n\u001b[1;32m    101\u001b[0m     attempts,\n\u001b[1;32m    102\u001b[0m     operation_model,\n\u001b[0;32m   (...)\u001b[0m\n\u001b[1;32m    105\u001b[0m     exception,\n\u001b[1;32m    106\u001b[0m ):\n\u001b[1;32m    107\u001b[0m     attempts \u001b[39m+\u001b[39m\u001b[39m=\u001b[39m \u001b[39m1\u001b[39m\n",
      "File \u001b[0;32m/opt/homebrew/lib/python3.11/site-packages/aiobotocore/endpoint.py:139\u001b[0m, in \u001b[0;36mAioEndpoint._get_response\u001b[0;34m(self, request, operation_model, context)\u001b[0m\n\u001b[1;32m    133\u001b[0m \u001b[39masync\u001b[39;00m \u001b[39mdef\u001b[39;00m \u001b[39m_get_response\u001b[39m(\u001b[39mself\u001b[39m, request, operation_model, context):\n\u001b[1;32m    134\u001b[0m     \u001b[39m# This will return a tuple of (success_response, exception)\u001b[39;00m\n\u001b[1;32m    135\u001b[0m     \u001b[39m# and success_response is itself a tuple of\u001b[39;00m\n\u001b[1;32m    136\u001b[0m     \u001b[39m# (http_response, parsed_dict).\u001b[39;00m\n\u001b[1;32m    137\u001b[0m     \u001b[39m# If an exception occurs then the success_response is None.\u001b[39;00m\n\u001b[1;32m    138\u001b[0m     \u001b[39m# If no exception occurs then exception is None.\u001b[39;00m\n\u001b[0;32m--> 139\u001b[0m     success_response, exception \u001b[39m=\u001b[39m \u001b[39mawait\u001b[39;00m \u001b[39mself\u001b[39m\u001b[39m.\u001b[39m_do_get_response(\n\u001b[1;32m    140\u001b[0m         request, operation_model, context\n\u001b[1;32m    141\u001b[0m     )\n\u001b[1;32m    142\u001b[0m     kwargs_to_emit \u001b[39m=\u001b[39m {\n\u001b[1;32m    143\u001b[0m         \u001b[39m'\u001b[39m\u001b[39mresponse_dict\u001b[39m\u001b[39m'\u001b[39m: \u001b[39mNone\u001b[39;00m,\n\u001b[1;32m    144\u001b[0m         \u001b[39m'\u001b[39m\u001b[39mparsed_response\u001b[39m\u001b[39m'\u001b[39m: \u001b[39mNone\u001b[39;00m,\n\u001b[1;32m    145\u001b[0m         \u001b[39m'\u001b[39m\u001b[39mcontext\u001b[39m\u001b[39m'\u001b[39m: context,\n\u001b[1;32m    146\u001b[0m         \u001b[39m'\u001b[39m\u001b[39mexception\u001b[39m\u001b[39m'\u001b[39m: exception,\n\u001b[1;32m    147\u001b[0m     }\n\u001b[1;32m    148\u001b[0m     \u001b[39mif\u001b[39;00m success_response \u001b[39mis\u001b[39;00m \u001b[39mnot\u001b[39;00m \u001b[39mNone\u001b[39;00m:\n",
      "File \u001b[0;32m/opt/homebrew/lib/python3.11/site-packages/aiobotocore/endpoint.py:181\u001b[0m, in \u001b[0;36mAioEndpoint._do_get_response\u001b[0;34m(self, request, operation_model, context)\u001b[0m\n\u001b[1;32m    179\u001b[0m     http_response \u001b[39m=\u001b[39m first_non_none_response(responses)\n\u001b[1;32m    180\u001b[0m     \u001b[39mif\u001b[39;00m http_response \u001b[39mis\u001b[39;00m \u001b[39mNone\u001b[39;00m:\n\u001b[0;32m--> 181\u001b[0m         http_response \u001b[39m=\u001b[39m \u001b[39mawait\u001b[39;00m \u001b[39mself\u001b[39m\u001b[39m.\u001b[39m_send(request)\n\u001b[1;32m    182\u001b[0m \u001b[39mexcept\u001b[39;00m HTTPClientError \u001b[39mas\u001b[39;00m e:\n\u001b[1;32m    183\u001b[0m     \u001b[39mreturn\u001b[39;00m (\u001b[39mNone\u001b[39;00m, e)\n",
      "File \u001b[0;32m/opt/homebrew/lib/python3.11/site-packages/aiobotocore/endpoint.py:285\u001b[0m, in \u001b[0;36mAioEndpoint._send\u001b[0;34m(self, request)\u001b[0m\n\u001b[1;32m    284\u001b[0m \u001b[39masync\u001b[39;00m \u001b[39mdef\u001b[39;00m \u001b[39m_send\u001b[39m(\u001b[39mself\u001b[39m, request):\n\u001b[0;32m--> 285\u001b[0m     \u001b[39mreturn\u001b[39;00m \u001b[39mawait\u001b[39;00m \u001b[39mself\u001b[39m\u001b[39m.\u001b[39mhttp_session\u001b[39m.\u001b[39msend(request)\n",
      "File \u001b[0;32m/opt/homebrew/lib/python3.11/site-packages/aiobotocore/httpsession.py:208\u001b[0m, in \u001b[0;36mAIOHTTPSession.send\u001b[0;34m(self, request)\u001b[0m\n\u001b[1;32m    205\u001b[0m     data \u001b[39m=\u001b[39m _IOBaseWrapper(data)\n\u001b[1;32m    207\u001b[0m url \u001b[39m=\u001b[39m URL(url, encoded\u001b[39m=\u001b[39m\u001b[39mTrue\u001b[39;00m)\n\u001b[0;32m--> 208\u001b[0m response \u001b[39m=\u001b[39m \u001b[39mawait\u001b[39;00m \u001b[39mself\u001b[39m\u001b[39m.\u001b[39m_session\u001b[39m.\u001b[39mrequest(\n\u001b[1;32m    209\u001b[0m     request\u001b[39m.\u001b[39mmethod,\n\u001b[1;32m    210\u001b[0m     url\u001b[39m=\u001b[39murl,\n\u001b[1;32m    211\u001b[0m     chunked\u001b[39m=\u001b[39mchunked,\n\u001b[1;32m    212\u001b[0m     headers\u001b[39m=\u001b[39mheaders_,\n\u001b[1;32m    213\u001b[0m     data\u001b[39m=\u001b[39mdata,\n\u001b[1;32m    214\u001b[0m     proxy\u001b[39m=\u001b[39mproxy_url,\n\u001b[1;32m    215\u001b[0m     proxy_headers\u001b[39m=\u001b[39mproxy_headers,\n\u001b[1;32m    216\u001b[0m )\n\u001b[1;32m    218\u001b[0m http_response \u001b[39m=\u001b[39m aiobotocore\u001b[39m.\u001b[39mawsrequest\u001b[39m.\u001b[39mAioAWSResponse(\n\u001b[1;32m    219\u001b[0m     \u001b[39mstr\u001b[39m(response\u001b[39m.\u001b[39murl), response\u001b[39m.\u001b[39mstatus, response\u001b[39m.\u001b[39mheaders, response\n\u001b[1;32m    220\u001b[0m )\n\u001b[1;32m    222\u001b[0m \u001b[39mif\u001b[39;00m \u001b[39mnot\u001b[39;00m request\u001b[39m.\u001b[39mstream_output:\n\u001b[1;32m    223\u001b[0m     \u001b[39m# Cause the raw stream to be exhausted immediately. We do it\u001b[39;00m\n\u001b[1;32m    224\u001b[0m     \u001b[39m# this way instead of using preload_content because\u001b[39;00m\n\u001b[1;32m    225\u001b[0m     \u001b[39m# preload_content will never buffer chunked responses\u001b[39;00m\n",
      "File \u001b[0;32m/opt/homebrew/lib/python3.11/site-packages/aiohttp/client.py:560\u001b[0m, in \u001b[0;36mClientSession._request\u001b[0;34m(self, method, str_or_url, params, data, json, cookies, headers, skip_auto_headers, auth, allow_redirects, max_redirects, compress, chunked, expect100, raise_for_status, read_until_eof, proxy, proxy_auth, timeout, verify_ssl, fingerprint, ssl_context, ssl, proxy_headers, trace_request_ctx, read_bufsize)\u001b[0m\n\u001b[1;32m    558\u001b[0m resp \u001b[39m=\u001b[39m \u001b[39mawait\u001b[39;00m req\u001b[39m.\u001b[39msend(conn)\n\u001b[1;32m    559\u001b[0m \u001b[39mtry\u001b[39;00m:\n\u001b[0;32m--> 560\u001b[0m     \u001b[39mawait\u001b[39;00m resp\u001b[39m.\u001b[39mstart(conn)\n\u001b[1;32m    561\u001b[0m \u001b[39mexcept\u001b[39;00m \u001b[39mBaseException\u001b[39;00m:\n\u001b[1;32m    562\u001b[0m     resp\u001b[39m.\u001b[39mclose()\n",
      "File \u001b[0;32m/opt/homebrew/lib/python3.11/site-packages/aiohttp/client_reqrep.py:899\u001b[0m, in \u001b[0;36mClientResponse.start\u001b[0;34m(self, connection)\u001b[0m\n\u001b[1;32m    897\u001b[0m \u001b[39mtry\u001b[39;00m:\n\u001b[1;32m    898\u001b[0m     protocol \u001b[39m=\u001b[39m \u001b[39mself\u001b[39m\u001b[39m.\u001b[39m_protocol\n\u001b[0;32m--> 899\u001b[0m     message, payload \u001b[39m=\u001b[39m \u001b[39mawait\u001b[39;00m protocol\u001b[39m.\u001b[39mread()  \u001b[39m# type: ignore[union-attr]\u001b[39;00m\n\u001b[1;32m    900\u001b[0m \u001b[39mexcept\u001b[39;00m http\u001b[39m.\u001b[39mHttpProcessingError \u001b[39mas\u001b[39;00m exc:\n\u001b[1;32m    901\u001b[0m     \u001b[39mraise\u001b[39;00m ClientResponseError(\n\u001b[1;32m    902\u001b[0m         \u001b[39mself\u001b[39m\u001b[39m.\u001b[39mrequest_info,\n\u001b[1;32m    903\u001b[0m         \u001b[39mself\u001b[39m\u001b[39m.\u001b[39mhistory,\n\u001b[0;32m   (...)\u001b[0m\n\u001b[1;32m    906\u001b[0m         headers\u001b[39m=\u001b[39mexc\u001b[39m.\u001b[39mheaders,\n\u001b[1;32m    907\u001b[0m     ) \u001b[39mfrom\u001b[39;00m \u001b[39mexc\u001b[39;00m\n",
      "File \u001b[0;32m/opt/homebrew/lib/python3.11/site-packages/aiohttp/streams.py:616\u001b[0m, in \u001b[0;36mDataQueue.read\u001b[0;34m(self)\u001b[0m\n\u001b[1;32m    614\u001b[0m \u001b[39mself\u001b[39m\u001b[39m.\u001b[39m_waiter \u001b[39m=\u001b[39m \u001b[39mself\u001b[39m\u001b[39m.\u001b[39m_loop\u001b[39m.\u001b[39mcreate_future()\n\u001b[1;32m    615\u001b[0m \u001b[39mtry\u001b[39;00m:\n\u001b[0;32m--> 616\u001b[0m     \u001b[39mawait\u001b[39;00m \u001b[39mself\u001b[39m\u001b[39m.\u001b[39m_waiter\n\u001b[1;32m    617\u001b[0m \u001b[39mexcept\u001b[39;00m (asyncio\u001b[39m.\u001b[39mCancelledError, asyncio\u001b[39m.\u001b[39mTimeoutError):\n\u001b[1;32m    618\u001b[0m     \u001b[39mself\u001b[39m\u001b[39m.\u001b[39m_waiter \u001b[39m=\u001b[39m \u001b[39mNone\u001b[39;00m\n",
      "\u001b[0;31mCancelledError\u001b[0m: "
     ]
    }
   ],
   "source": [
    "for user_id, pets in tqdm(dict_people_pet_final.items()):\n",
    "    user_folder = f\"train/{user_id}\"\n",
    "    if not await directory_exists(bucket_name = bucket_name, directory_name = user_folder):\n",
    "        for pet in pets:\n",
    "            if pet.image:\n",
    "                await send_image_to_s3(pet.image, f\"{user_folder}/{pet.id}\", pet.animal_name)"
   ]
  },
  {
   "cell_type": "code",
   "execution_count": null,
   "metadata": {},
   "outputs": [],
   "source": []
  }
 ],
 "metadata": {
  "kernelspec": {
   "display_name": "Python 3",
   "language": "python",
   "name": "python3"
  },
  "language_info": {
   "codemirror_mode": {
    "name": "ipython",
    "version": 3
   },
   "file_extension": ".py",
   "mimetype": "text/x-python",
   "name": "python",
   "nbconvert_exporter": "python",
   "pygments_lexer": "ipython3",
   "version": "3.11.2"
  },
  "orig_nbformat": 4,
  "vscode": {
   "interpreter": {
    "hash": "d2152fd7f0bbc62aa1baff8c990435d1e2c7175d001561303988032604c11a48"
   }
  }
 },
 "nbformat": 4,
 "nbformat_minor": 2
}
