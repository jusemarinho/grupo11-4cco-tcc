{
 "cells": [
  {
   "cell_type": "markdown",
   "metadata": {},
   "source": [
    "<h3>Tratar valores nulos nos dados de gatos utilizando média de outro dataset</h3>"
   ]
  },
  {
   "cell_type": "code",
   "execution_count": 1,
   "metadata": {},
   "outputs": [],
   "source": [
    "import pandas as pd\n",
    "dataset_dogs = pd.read_csv('../data/NYC_Dog_Licensing_Dataset.csv')"
   ]
  },
  {
   "cell_type": "markdown",
   "metadata": {},
   "source": [
    "<b>Removendo colunas que não iremos utilizar</b>"
   ]
  },
  {
   "cell_type": "code",
   "execution_count": 2,
   "metadata": {},
   "outputs": [],
   "source": [
    "dataset_dogs.drop(['RowNumber', 'CensusTract2010', 'NTA', 'CityCouncilDistrict', 'CommunityDistrict', 'CongressionalDistrict', 'StateSenatorialDistrict', 'LicenseIssuedDate', 'LicenseExpiredDate'], axis=1, inplace=True)\n",
    "dataset_dogs.drop(dataset_dogs.index[67146:122203], axis=0, inplace=True)"
   ]
  },
  {
   "cell_type": "code",
   "execution_count": 3,
   "metadata": {},
   "outputs": [],
   "source": [
    "from datetime import datetime\n",
    "\n",
    "# substituindo os valores do campo AnimalBirthMonth para retirar a hora deixa somente a data\n",
    "dataset_dogs['AnimalBirthMonth'] = pd.to_datetime(dataset_dogs['AnimalBirthMonth'], format=\"%d/%m/%Y %H:%M:%S %p\")\n",
    "dataset_dogs['AnimalBirthMonth'] = pd.to_datetime(dataset_dogs['AnimalBirthMonth'])\n",
    "dataset_dogs['AnimalBirthMonth'] = dataset_dogs['AnimalBirthMonth'].map(lambda x: datetime.strftime(x,\"%d/%m/%Y\"), na_action='ignore')"
   ]
  },
  {
   "cell_type": "code",
   "execution_count": 4,
   "metadata": {},
   "outputs": [],
   "source": [
    "dataset_dogs.to_csv('../data/dogs_clean.csv')"
   ]
  },
  {
   "cell_type": "code",
   "execution_count": 5,
   "metadata": {},
   "outputs": [],
   "source": [
    "import os\n",
    "\n",
    "dir_atual = os.getcwd()\n",
    "dir_destino = os.path.abspath(os.path.join(dir_atual, os.pardir, '/home/yoseph/Documentos/sptech/tcc/grupo11-4cco-tcc/src/inteligencia_artificial/train/'))\n",
    "\n",
    "os.chdir(dir_destino)\n",
    "\n",
    "arquivos_jpg = [f for f in os.listdir() if f.endswith('.jpg')]\n",
    "fotos = set(arquivos_jpg)"
   ]
  },
  {
   "cell_type": "code",
   "execution_count": 6,
   "metadata": {},
   "outputs": [],
   "source": [
    "dataset_breed_dogs = pd.read_csv('../../data/labels.csv')"
   ]
  },
  {
   "cell_type": "code",
   "execution_count": 7,
   "metadata": {},
   "outputs": [],
   "source": [
    "import base64\n",
    "\n",
    "def is_base64(s):\n",
    "    try:\n",
    "        base64.b64decode(s)\n",
    "        return True\n",
    "    except Exception:\n",
    "        return False"
   ]
  },
  {
   "attachments": {},
   "cell_type": "markdown",
   "metadata": {},
   "source": [
    "<h3>Adequação das raças de cachorros</h3>"
   ]
  },
  {
   "cell_type": "code",
   "execution_count": 8,
   "metadata": {},
   "outputs": [],
   "source": [
    "breed_sample = dataset_breed_dogs.sample(n=len(dataset_dogs), replace=True)\n",
    "\n",
    "# redefina o índice do DataFrame de raças\n",
    "breed_sample = breed_sample.reset_index(drop=True)\n",
    "\n",
    "# atualize a coluna 'BreedName' do DataFrame de cães com a coluna 'breed' do DataFrame de raças amostrado\n",
    "dataset_dogs['BreedName'] = breed_sample['breed']\n",
    "\n",
    "# salve o DataFrame atualizado em um novo arquivo CSV\n",
    "dataset_dogs.to_csv('../../data/dogs_clean.csv', index=False)"
   ]
  },
  {
   "cell_type": "code",
   "execution_count": 9,
   "metadata": {},
   "outputs": [],
   "source": [
    "dataset_dogs['BreedName'] = dataset_dogs['BreedName'].replace('Unknown', pd.NA)\n",
    "breed_mean = dataset_dogs['BreedName'].dropna().mode()[0]\n",
    "dataset_dogs['BreedName'] = dataset_dogs['BreedName'].fillna(breed_mean)\n",
    "\n",
    "dataset_dogs.to_csv('../../data/dogs_clean.csv')"
   ]
  },
  {
   "cell_type": "code",
   "execution_count": 10,
   "metadata": {},
   "outputs": [],
   "source": [
    "dataset_dogs['Image'] = None"
   ]
  },
  {
   "cell_type": "code",
   "execution_count": 11,
   "metadata": {},
   "outputs": [
    {
     "data": {
      "text/html": [
       "<div>\n",
       "<style scoped>\n",
       "    .dataframe tbody tr th:only-of-type {\n",
       "        vertical-align: middle;\n",
       "    }\n",
       "\n",
       "    .dataframe tbody tr th {\n",
       "        vertical-align: top;\n",
       "    }\n",
       "\n",
       "    .dataframe thead th {\n",
       "        text-align: right;\n",
       "    }\n",
       "</style>\n",
       "<table border=\"1\" class=\"dataframe\">\n",
       "  <thead>\n",
       "    <tr style=\"text-align: right;\">\n",
       "      <th></th>\n",
       "      <th>AnimalName</th>\n",
       "      <th>AnimalGender</th>\n",
       "      <th>AnimalBirthMonth</th>\n",
       "      <th>BreedName</th>\n",
       "      <th>Borough</th>\n",
       "      <th>ZipCode</th>\n",
       "      <th>Image</th>\n",
       "    </tr>\n",
       "  </thead>\n",
       "  <tbody>\n",
       "    <tr>\n",
       "      <th>0</th>\n",
       "      <td>SHADOW</td>\n",
       "      <td>M</td>\n",
       "      <td>01/01/2000</td>\n",
       "      <td>eskimo_dog</td>\n",
       "      <td>Brooklyn</td>\n",
       "      <td>11236.0</td>\n",
       "      <td>None</td>\n",
       "    </tr>\n",
       "    <tr>\n",
       "      <th>1</th>\n",
       "      <td>ROCCO</td>\n",
       "      <td>M</td>\n",
       "      <td>10/01/2011</td>\n",
       "      <td>saluki</td>\n",
       "      <td>Brooklyn</td>\n",
       "      <td>11210.0</td>\n",
       "      <td>None</td>\n",
       "    </tr>\n",
       "    <tr>\n",
       "      <th>2</th>\n",
       "      <td>LUIGI</td>\n",
       "      <td>M</td>\n",
       "      <td>09/01/2005</td>\n",
       "      <td>tibetan_terrier</td>\n",
       "      <td>Bronx</td>\n",
       "      <td>10464.0</td>\n",
       "      <td>None</td>\n",
       "    </tr>\n",
       "  </tbody>\n",
       "</table>\n",
       "</div>"
      ],
      "text/plain": [
       "  AnimalName AnimalGender AnimalBirthMonth        BreedName   Borough  \\\n",
       "0    SHADOW             M       01/01/2000       eskimo_dog  Brooklyn   \n",
       "1      ROCCO            M       10/01/2011           saluki  Brooklyn   \n",
       "2      LUIGI            M       09/01/2005  tibetan_terrier     Bronx   \n",
       "\n",
       "   ZipCode Image  \n",
       "0  11236.0  None  \n",
       "1  11210.0  None  \n",
       "2  10464.0  None  "
      ]
     },
     "execution_count": 11,
     "metadata": {},
     "output_type": "execute_result"
    }
   ],
   "source": [
    "dataset_dogs.head(3)"
   ]
  },
  {
   "cell_type": "code",
   "execution_count": 12,
   "metadata": {},
   "outputs": [
    {
     "name": "stderr",
     "output_type": "stream",
     "text": [
      " 11%|█         | 7224/67146 [02:53<26:48:12,  1.61s/it]"
     ]
    }
   ],
   "source": [
    "import base64\n",
    "from PIL import Image\n",
    "from tqdm import tqdm\n",
    "\n",
    "def find_image_from_name_dog(breed_name):\n",
    "    if breed_name == 'Unknown' or not breed_name:\n",
    "        return None, dataset_breed_dogs\n",
    "    breed_name_lower = str(breed_name).lower()\n",
    "    breeds_founded = dataset_breed_dogs[dataset_breed_dogs['breed'].str.lower().str.contains(breed_name_lower, case=False, regex=False)]\n",
    "    \n",
    "    if breeds_founded.empty:\n",
    "        return None, dataset_breed_dogs\n",
    "    \n",
    "    first_breed = breeds_founded.iloc[0]\n",
    "    df = dataset_breed_dogs.drop(breeds_founded.index[0])\n",
    "    info_breed = first_breed.to_dict()\n",
    "    indice_arquivo = arquivos_jpg.index(f\"{info_breed['id']}.jpg\")\n",
    "    nome_arquivo = arquivos_jpg[indice_arquivo]\n",
    "    caminho_completo = os.path.join(dir_destino, nome_arquivo)\n",
    "    img = Image.open(caminho_completo)\n",
    "    img_bytes = img.tobytes()\n",
    "    return base64.b64encode(img_bytes).decode('utf-8'), df\n",
    "\n",
    "try:\n",
    "    for index, row in tqdm(dataset_dogs.iterrows(), total=len(dataset_dogs)):\n",
    "        image_base64, df = find_image_from_name_dog(row['BreedName'])\n",
    "        dataset_breed_dogs = df\n",
    "        if not is_base64(row[\"Image\"]):\n",
    "            dataset_dogs.loc[index, 'Image'] = image_base64\n",
    "except Exception as error:\n",
    "    print(error)"
   ]
  },
  {
   "cell_type": "code",
   "execution_count": null,
   "metadata": {},
   "outputs": [
    {
     "data": {
      "text/html": [
       "<div>\n",
       "<style scoped>\n",
       "    .dataframe tbody tr th:only-of-type {\n",
       "        vertical-align: middle;\n",
       "    }\n",
       "\n",
       "    .dataframe tbody tr th {\n",
       "        vertical-align: top;\n",
       "    }\n",
       "\n",
       "    .dataframe thead th {\n",
       "        text-align: right;\n",
       "    }\n",
       "</style>\n",
       "<table border=\"1\" class=\"dataframe\">\n",
       "  <thead>\n",
       "    <tr style=\"text-align: right;\">\n",
       "      <th></th>\n",
       "      <th>id</th>\n",
       "      <th>breed</th>\n",
       "    </tr>\n",
       "  </thead>\n",
       "  <tbody>\n",
       "  </tbody>\n",
       "</table>\n",
       "</div>"
      ],
      "text/plain": [
       "Empty DataFrame\n",
       "Columns: [id, breed]\n",
       "Index: []"
      ]
     },
     "execution_count": 20,
     "metadata": {},
     "output_type": "execute_result"
    }
   ],
   "source": [
    "dataset_breed_dogs.tail(2)"
   ]
  },
  {
   "cell_type": "code",
   "execution_count": null,
   "metadata": {},
   "outputs": [
    {
     "data": {
      "text/html": [
       "<div>\n",
       "<style scoped>\n",
       "    .dataframe tbody tr th:only-of-type {\n",
       "        vertical-align: middle;\n",
       "    }\n",
       "\n",
       "    .dataframe tbody tr th {\n",
       "        vertical-align: top;\n",
       "    }\n",
       "\n",
       "    .dataframe thead th {\n",
       "        text-align: right;\n",
       "    }\n",
       "</style>\n",
       "<table border=\"1\" class=\"dataframe\">\n",
       "  <thead>\n",
       "    <tr style=\"text-align: right;\">\n",
       "      <th></th>\n",
       "      <th>AnimalName</th>\n",
       "      <th>AnimalGender</th>\n",
       "      <th>AnimalBirthMonth</th>\n",
       "      <th>BreedName</th>\n",
       "      <th>Borough</th>\n",
       "      <th>ZipCode</th>\n",
       "      <th>Image</th>\n",
       "    </tr>\n",
       "  </thead>\n",
       "  <tbody>\n",
       "    <tr>\n",
       "      <th>0</th>\n",
       "      <td>SHADOW</td>\n",
       "      <td>M</td>\n",
       "      <td>01/01/2000</td>\n",
       "      <td>japanese_spaniel</td>\n",
       "      <td>Brooklyn</td>\n",
       "      <td>11236.0</td>\n",
       "      <td>AAEAAwQAAQIABAUAAAEAAAEADhAPAAEAAAMEAAMEAAIBAA...</td>\n",
       "    </tr>\n",
       "    <tr>\n",
       "      <th>1</th>\n",
       "      <td>ROCCO</td>\n",
       "      <td>M</td>\n",
       "      <td>10/01/2011</td>\n",
       "      <td>dhole</td>\n",
       "      <td>Brooklyn</td>\n",
       "      <td>11210.0</td>\n",
       "      <td>WYlZTHxMP289Pm46SHdDUoFKVYRNU4NHYpBSYpBPY5BPYo...</td>\n",
       "    </tr>\n",
       "    <tr>\n",
       "      <th>2</th>\n",
       "      <td>LUIGI</td>\n",
       "      <td>M</td>\n",
       "      <td>09/01/2005</td>\n",
       "      <td>briard</td>\n",
       "      <td>Bronx</td>\n",
       "      <td>10464.0</td>\n",
       "      <td>aoNjaYJiaIFhZ4BgZ4BgaYJia4RkbYZma4Rka4Rka4RkbI...</td>\n",
       "    </tr>\n",
       "    <tr>\n",
       "      <th>3</th>\n",
       "      <td>PETUNIA</td>\n",
       "      <td>F</td>\n",
       "      <td>08/01/2013</td>\n",
       "      <td>schipperke</td>\n",
       "      <td>Brooklyn</td>\n",
       "      <td>11221.0</td>\n",
       "      <td>/////////////////////////////////f39/v7+/f39+v...</td>\n",
       "    </tr>\n",
       "    <tr>\n",
       "      <th>4</th>\n",
       "      <td>ROMEO</td>\n",
       "      <td>M</td>\n",
       "      <td>10/01/2008</td>\n",
       "      <td>old_english_sheepdog</td>\n",
       "      <td>Bronx</td>\n",
       "      <td>10451.0</td>\n",
       "      <td>IiATIiATIyEUJCIVJCIVIyEUIiATIiATJCIVJCIVJSMWJi...</td>\n",
       "    </tr>\n",
       "    <tr>\n",
       "      <th>5</th>\n",
       "      <td>BRANDY</td>\n",
       "      <td>M</td>\n",
       "      <td>01/01/2004</td>\n",
       "      <td>italian_greyhound</td>\n",
       "      <td>Brooklyn</td>\n",
       "      <td>11225.0</td>\n",
       "      <td>eAIAeAIAeAIAeAIAeQEAeQEAeQEAeQEAfAIBfAIBfQEBfQ...</td>\n",
       "    </tr>\n",
       "    <tr>\n",
       "      <th>6</th>\n",
       "      <td>SAM</td>\n",
       "      <td>M</td>\n",
       "      <td>05/01/2011</td>\n",
       "      <td>affenpinscher</td>\n",
       "      <td>Manhattan</td>\n",
       "      <td>10021.0</td>\n",
       "      <td>q3NOqnJNqHJMp3FLpnBKpnBKpnJLpnJLr35Ws4JatoVdto...</td>\n",
       "    </tr>\n",
       "    <tr>\n",
       "      <th>7</th>\n",
       "      <td>MAY</td>\n",
       "      <td>F</td>\n",
       "      <td>05/01/2004</td>\n",
       "      <td>kelpie</td>\n",
       "      <td>Staten Island</td>\n",
       "      <td>10305.0</td>\n",
       "      <td>4uTj5Obl5+no6+3s8PLx8/X09vj39/n4+fv6+fv6+vz7+/...</td>\n",
       "    </tr>\n",
       "    <tr>\n",
       "      <th>8</th>\n",
       "      <td>RUBY</td>\n",
       "      <td>F</td>\n",
       "      <td>04/01/2010</td>\n",
       "      <td>italian_greyhound</td>\n",
       "      <td>Brooklyn</td>\n",
       "      <td>11220.0</td>\n",
       "      <td>HyMkHyMkHyMkHyMkHyMkHyMkHyMkHyMkHSEiHSEiHSEiHS...</td>\n",
       "    </tr>\n",
       "    <tr>\n",
       "      <th>9</th>\n",
       "      <td>LEO</td>\n",
       "      <td>M</td>\n",
       "      <td>01/01/2014</td>\n",
       "      <td>norwich_terrier</td>\n",
       "      <td>Bronx</td>\n",
       "      <td>10468.0</td>\n",
       "      <td>CAMAEQoEEQQAIxMGEQAAJA4AHQkAGAYAEQAADgAAFgYGDw...</td>\n",
       "    </tr>\n",
       "  </tbody>\n",
       "</table>\n",
       "</div>"
      ],
      "text/plain": [
       "  AnimalName AnimalGender AnimalBirthMonth             BreedName  \\\n",
       "0    SHADOW             M       01/01/2000      japanese_spaniel   \n",
       "1      ROCCO            M       10/01/2011                 dhole   \n",
       "2      LUIGI            M       09/01/2005                briard   \n",
       "3    PETUNIA            F       08/01/2013            schipperke   \n",
       "4      ROMEO            M       10/01/2008  old_english_sheepdog   \n",
       "5    BRANDY             M       01/01/2004     italian_greyhound   \n",
       "6        SAM            M       05/01/2011         affenpinscher   \n",
       "7       MAY             F       05/01/2004                kelpie   \n",
       "8       RUBY            F       04/01/2010     italian_greyhound   \n",
       "9        LEO            M       01/01/2014       norwich_terrier   \n",
       "\n",
       "         Borough  ZipCode                                              Image  \n",
       "0       Brooklyn  11236.0  AAEAAwQAAQIABAUAAAEAAAEADhAPAAEAAAMEAAMEAAIBAA...  \n",
       "1       Brooklyn  11210.0  WYlZTHxMP289Pm46SHdDUoFKVYRNU4NHYpBSYpBPY5BPYo...  \n",
       "2          Bronx  10464.0  aoNjaYJiaIFhZ4BgZ4BgaYJia4RkbYZma4Rka4Rka4RkbI...  \n",
       "3       Brooklyn  11221.0  /////////////////////////////////f39/v7+/f39+v...  \n",
       "4          Bronx  10451.0  IiATIiATIyEUJCIVJCIVIyEUIiATIiATJCIVJCIVJSMWJi...  \n",
       "5       Brooklyn  11225.0  eAIAeAIAeAIAeAIAeQEAeQEAeQEAeQEAfAIBfAIBfQEBfQ...  \n",
       "6      Manhattan  10021.0  q3NOqnJNqHJMp3FLpnBKpnBKpnJLpnJLr35Ws4JatoVdto...  \n",
       "7  Staten Island  10305.0  4uTj5Obl5+no6+3s8PLx8/X09vj39/n4+fv6+fv6+vz7+/...  \n",
       "8       Brooklyn  11220.0  HyMkHyMkHyMkHyMkHyMkHyMkHyMkHyMkHSEiHSEiHSEiHS...  \n",
       "9          Bronx  10468.0  CAMAEQoEEQQAIxMGEQAAJA4AHQkAGAYAEQAADgAAFgYGDw...  "
      ]
     },
     "execution_count": 22,
     "metadata": {},
     "output_type": "execute_result"
    }
   ],
   "source": [
    "dataset_dogs.head(10)"
   ]
  },
  {
   "cell_type": "code",
   "execution_count": null,
   "metadata": {},
   "outputs": [],
   "source": [
    "dataset_dogs.to_csv('../../data/dogs_clean.csv')"
   ]
  }
 ],
 "metadata": {
  "kernelspec": {
   "display_name": "Python 3",
   "language": "python",
   "name": "python3"
  },
  "language_info": {
   "codemirror_mode": {
    "name": "ipython",
    "version": 3
   },
   "file_extension": ".py",
   "mimetype": "text/x-python",
   "name": "python",
   "nbconvert_exporter": "python",
   "pygments_lexer": "ipython3",
   "version": "3.11.1"
  },
  "orig_nbformat": 4,
  "vscode": {
   "interpreter": {
    "hash": "ead1b95f633dc9c51826328e1846203f51a198c6fb5f2884a80417ba131d4e82"
   }
  }
 },
 "nbformat": 4,
 "nbformat_minor": 2
}
