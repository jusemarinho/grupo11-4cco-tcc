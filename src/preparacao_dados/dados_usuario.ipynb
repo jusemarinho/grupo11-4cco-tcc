{
 "cells": [
  {
   "cell_type": "code",
   "execution_count": 100,
   "metadata": {},
   "outputs": [],
   "source": [
    "peoples_number = 24_500"
   ]
  },
  {
   "cell_type": "code",
   "execution_count": 101,
   "metadata": {},
   "outputs": [],
   "source": [
    "import uuid\n",
    "\n",
    "array_uuids = []\n",
    "\n",
    "for i in range(peoples_number):\n",
    "    array_uuids.append(str(uuid.uuid4()))"
   ]
  },
  {
   "cell_type": "code",
   "execution_count": null,
   "metadata": {},
   "outputs": [],
   "source": [
    "from fordev.generators import people\n",
    "import random\n",
    "\n",
    "def random_triangular(min_value, max_value, mode_value):\n",
    "    return int(random.triangular(min_value, max_value, mode_value))\n",
    "\n",
    "def generate_people():\n",
    "    generated = people(sex = random.choice(['M', 'F']), age = random_triangular(18, 80, 35), uf_code = 'SP')\n",
    "    print(generated)\n",
    "    try:\n",
    "        return generated[0]\n",
    "    except:\n",
    "        return generate_people()\n",
    "\n",
    "peoples = []\n",
    "for _ in range(peoples_number):\n",
    "    generated_people = generate_people()\n",
    "    peoples.append(generated_people)"
   ]
  },
  {
   "cell_type": "code",
   "execution_count": null,
   "metadata": {},
   "outputs": [],
   "source": [
    "print(peoples)"
   ]
  },
  {
   "cell_type": "code",
   "execution_count": null,
   "metadata": {},
   "outputs": [],
   "source": [
    "def get_people(info):\n",
    "    return [people[info] for people in peoples]\n",
    "\n",
    "dataframe = {\n",
    "    \"ID\": array_uuids,\n",
    "    \"DocumentNumber\": get_people(\"cpf\"),\n",
    "    \"Name\": get_people(\"nome\"),\n",
    "    \"Contact\": get_people(\"celular\")\n",
    "}"
   ]
  },
  {
   "cell_type": "code",
   "execution_count": null,
   "metadata": {},
   "outputs": [],
   "source": [
    "import pandas as pd\n",
    "\n",
    "dataset = pd.DataFrame(dataframe)\n",
    "dataset.to_csv('../data/peoples.csv', index=False)"
   ]
  }
 ],
 "metadata": {
  "kernelspec": {
   "display_name": "Python 3",
   "language": "python",
   "name": "python3"
  },
  "language_info": {
   "codemirror_mode": {
    "name": "ipython",
    "version": 3
   },
   "file_extension": ".py",
   "mimetype": "text/x-python",
   "name": "python",
   "nbconvert_exporter": "python",
   "pygments_lexer": "ipython3",
   "version": "3.11.2"
  },
  "orig_nbformat": 4,
  "vscode": {
   "interpreter": {
    "hash": "e7370f93d1d0cde622a1f8e1c04877d8463912d04d973331ad4851f04de6915a"
   }
  }
 },
 "nbformat": 4,
 "nbformat_minor": 2
}
