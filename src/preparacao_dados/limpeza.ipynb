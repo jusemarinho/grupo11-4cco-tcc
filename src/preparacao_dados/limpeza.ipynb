{
 "cells": [
  {
   "attachments": {},
   "cell_type": "markdown",
   "metadata": {},
   "source": [
    "<h3>Nomes dos integrantes</h3>\n",
    "<ul>\n",
    "    <li>José Paulo Marinho - 02201062</li>\n",
    "    <li>Kalil Bego - 02201046</li>\n",
    "    <li>Patrick Lessa Teixeira - 02201058</li>\n",
    "    <li>Victor Alves Barbosa - 02201039</li>\n",
    "</ul>"
   ]
  },
  {
   "attachments": {},
   "cell_type": "markdown",
   "metadata": {},
   "source": [
    "<h3>Tratamento do primeiro data set de Cachorros</h3>"
   ]
  },
  {
   "cell_type": "code",
   "execution_count": 1,
   "metadata": {},
   "outputs": [],
   "source": [
    "import pandas as pd\n",
    "dataset_dogs = pd.read_csv('../data/NYC_Dog_Licensing_Dataset.csv')"
   ]
  },
  {
   "attachments": {},
   "cell_type": "markdown",
   "metadata": {},
   "source": [
    "<b>Removendo colunas que não iremos utilizar</b>"
   ]
  },
  {
   "cell_type": "code",
   "execution_count": 2,
   "metadata": {},
   "outputs": [],
   "source": [
    "dataset_dogs.drop(['RowNumber', 'CensusTract2010', 'NTA', 'CityCouncilDistrict', 'CommunityDistrict', 'CongressionalDistrict', 'StateSenatorialDistrict', 'LicenseIssuedDate', 'LicenseExpiredDate'], axis=1, inplace=True)\n",
    "dataset_dogs.drop(dataset_dogs.index[67146:122203], axis=0, inplace=True)"
   ]
  },
  {
   "cell_type": "code",
   "execution_count": 3,
   "metadata": {},
   "outputs": [],
   "source": [
    "from datetime import datetime\n",
    "\n",
    "# substituindo os valores do campo AnimalBirthMonth para retirar a hora deixa somente a data\n",
    "dataset_dogs['AnimalBirthMonth'] = pd.to_datetime(dataset_dogs['AnimalBirthMonth'], format=\"%d/%m/%Y %H:%M:%S %p\")\n",
    "dataset_dogs['AnimalBirthMonth'] = pd.to_datetime(dataset_dogs['AnimalBirthMonth'])\n",
    "dataset_dogs['AnimalBirthMonth'] = dataset_dogs['AnimalBirthMonth'].map(lambda x: datetime.strftime(x,\"%d/%m/%Y\"), na_action='ignore')"
   ]
  },
  {
   "attachments": {},
   "cell_type": "markdown",
   "metadata": {},
   "source": [
    "<h3>Tratamento do segundo dataset_dogs de Gatos</h3>"
   ]
  },
  {
   "cell_type": "code",
   "execution_count": 4,
   "metadata": {},
   "outputs": [],
   "source": [
    "dataset_cats = pd.read_csv('../data/cats.csv')\n",
    "\n",
    "#removendo colunas que não iremos utilizar\n",
    "dataset_cats.drop(['Unnamed: 0', 'id', 'url', 'med_photos', 'size', 'age'], axis=1, inplace=True)\n",
    "\n",
    "import ast\n",
    "dataset_cats[\"photos\"] = dataset_cats[\"photos\"].apply(ast.literal_eval)\n",
    "dataset_cats['photos'] = dataset_cats['photos'].map(lambda foto: foto[0][\"large\"])\n",
    "\n",
    "dataset_cats = dataset_cats.rename(columns={'photos': 'link_photo'})"
   ]
  },
  {
   "attachments": {},
   "cell_type": "markdown",
   "metadata": {},
   "source": [
    "<b>Salvando dataset_dogss</b>"
   ]
  },
  {
   "cell_type": "code",
   "execution_count": 5,
   "metadata": {},
   "outputs": [],
   "source": [
    "dataset_dogs.to_csv('../data/dogs_clean.csv')\n",
    "dataset_cats.to_csv('../data/cats_clean.csv')"
   ]
  },
  {
   "attachments": {},
   "cell_type": "markdown",
   "metadata": {},
   "source": [
    "<h3>União dos datasets \"limpados\" acima.</h3>"
   ]
  },
  {
   "cell_type": "code",
   "execution_count": 6,
   "metadata": {},
   "outputs": [
    {
     "name": "stderr",
     "output_type": "stream",
     "text": [
      "/tmp/ipykernel_49081/2496161783.py:26: FutureWarning: The frame.append method is deprecated and will be removed from pandas in a future version. Use pandas.concat instead.\n",
      "  union_dataset = new_dataset_dogs.append(new_dataset_cats)\n"
     ]
    }
   ],
   "source": [
    "new_dataset_data_dogs = {\n",
    "    \"AnimalName\": dataset_dogs[\"AnimalName\"],\n",
    "    \"AnimalGender\": dataset_dogs[\"AnimalGender\"],\n",
    "    \"AnimalBirthMonth\": dataset_dogs[\"AnimalBirthMonth\"],\n",
    "    \"BreedName\": dataset_dogs[\"BreedName\"],\n",
    "    \"Borough\": dataset_dogs[\"Borough\"],\n",
    "    \"ZipCode\": dataset_dogs[\"ZipCode\"],\n",
    "    \"Type\": \"Dog\",\n",
    "    \"Image\": \"\"\n",
    "}\n",
    "\n",
    "new_dataset_data_cats = {\n",
    "    \"AnimalName\": None,\n",
    "    \"AnimalGender\": dataset_cats[\"gender\"],\n",
    "    \"AnimalBirthMonth\": None,\n",
    "    \"BreedName\": dataset_cats[\"breed\"],\n",
    "    \"Borough\": None,\n",
    "    \"ZipCode\": None,\n",
    "    \"Type\": dataset_cats[\"type\"],\n",
    "    \"Image\": dataset_cats[\"link_photo\"]\n",
    "}\n",
    "\n",
    "new_dataset_dogs = pd.DataFrame(new_dataset_data_dogs)\n",
    "new_dataset_cats = pd.DataFrame(new_dataset_data_cats)\n",
    "\n",
    "union_dataset = new_dataset_dogs.append(new_dataset_cats)"
   ]
  },
  {
   "cell_type": "code",
   "execution_count": 7,
   "metadata": {},
   "outputs": [],
   "source": [
    "import csv\n",
    "\n",
    "dicionario_ceps = {}\n",
    "\n",
    "with open('../data/ceps.txt', 'r') as file:\n",
    "    csvreader = csv.reader(file, delimiter=';')\n",
    "    for linha in csvreader:\n",
    "        dicionario_ceps[linha[0]] = linha"
   ]
  },
  {
   "cell_type": "code",
   "execution_count": null,
   "metadata": {},
   "outputs": [],
   "source": [
    "import numpy as np\n",
    "np.random.seed(77)\n",
    "\n",
    "chaves_dicionario = np.array(list(dicionario_ceps.keys()))\n",
    "\n",
    "def get_cep():\n",
    "    key = np.random.choice(chaves_dicionario)\n",
    "    info_cep = dicionario_ceps[f'{key}']\n",
    "    cep = info_cep[0]\n",
    "    return cep\n",
    "\n",
    "def get_cidade(cep):\n",
    "    return dicionario_ceps[cep][1]\n",
    "\n",
    "union_dataset[\"ZipCode\"] = union_dataset[\"ZipCode\"].map(lambda _: get_cep())\n",
    "union_dataset[\"Borough\"] = union_dataset[\"ZipCode\"].map(lambda cep: get_cidade(cep))\n",
    "\n",
    "union_dataset.to_csv(\"../data/dataset_union.csv\")"
   ]
  },
  {
   "attachments": {},
   "cell_type": "markdown",
   "metadata": {},
   "source": [
    "<h3>Tratamento das fotos da base</h3>\n",
    "<ul>\n",
    "    <li>Obter a foto da URL</li>\n",
    "    <li>Converter para base64</li>\n",
    "</ul>"
   ]
  },
  {
   "cell_type": "code",
   "execution_count": null,
   "metadata": {},
   "outputs": [],
   "source": [
    "import requests\n",
    "import base64\n",
    "\n",
    "def get_base64_from_photo_url(url):\n",
    "    if not url:\n",
    "        return None\n",
    "    \n",
    "    response = requests.get(url)\n",
    "    imagem_bytes = response.content\n",
    "    imagem_base64 = base64.b64encode(imagem_bytes).decode('utf-8')\n",
    "    return imagem_base64"
   ]
  },
  {
   "cell_type": "code",
   "execution_count": null,
   "metadata": {},
   "outputs": [],
   "source": [
    "from tqdm import tqdm\n",
    "import asyncio\n",
    "import aiohttp\n",
    "\n",
    "\n",
    "def is_base64(s):\n",
    "    try:\n",
    "        base64.b64decode(s)\n",
    "        return True\n",
    "    except Exception:\n",
    "        return False\n",
    "\n",
    "import asyncio\n",
    "import aiohttp\n",
    "\n",
    "async def download_images(index_range, union_dataset):\n",
    "    async with aiohttp.ClientSession() as session:\n",
    "        for index in index_range:\n",
    "            row = union_dataset.iloc[index]\n",
    "            if row[\"Image\"] and row[\"Type\"] == \"Cat\" and not is_base64(row[\"Image\"]):\n",
    "                async with session.get(row[\"Image\"]) as response:\n",
    "                    imagem_bytes = await response.read()\n",
    "                    imagem_base64 = base64.b64encode(imagem_bytes).decode('utf-8')\n",
    "                    union_dataset.loc[index, 'Image'] = imagem_base64\n",
    "\n",
    "async def async_process_dataset(union_dataset, batch_size=100):\n",
    "    tasks = []\n",
    "    for i in range(0, len(union_dataset), batch_size):\n",
    "        index_range = range(i, min(i+batch_size, len(union_dataset)))\n",
    "        task = asyncio.create_task(download_images(index_range, union_dataset))\n",
    "        tasks.append(task)\n",
    "    await asyncio.gather(*tasks)"
   ]
  },
  {
   "cell_type": "code",
   "execution_count": null,
   "metadata": {},
   "outputs": [],
   "source": [
    "await async_process_dataset(union_dataset)\n",
    "union_dataset.to_csv(\"../../data/dataset_union.csv\")"
   ]
  },
  {
   "attachments": {},
   "cell_type": "markdown",
   "metadata": {},
   "source": [
    "<h3>Encontrar fotos dos cachorros em outro dataset</h3>"
   ]
  },
  {
   "cell_type": "code",
   "execution_count": null,
   "metadata": {},
   "outputs": [],
   "source": [
    "import os\n",
    "\n",
    "dir_atual = os.getcwd()\n",
    "\n",
    "dir_destino = os.path.abspath(os.path.join(dir_atual, os.pardir, 'inteligencia_artificial/train'))\n",
    "\n",
    "os.chdir(dir_destino)\n",
    "\n",
    "arquivos_jpg = [f for f in os.listdir() if f.endswith('.jpg')]\n",
    "\n",
    "fotos = set(arquivos_jpg)"
   ]
  },
  {
   "cell_type": "code",
   "execution_count": null,
   "metadata": {},
   "outputs": [],
   "source": [
    "dataset_breed_dogs = pd.read_csv('../../data/labels.csv')"
   ]
  },
  {
   "cell_type": "code",
   "execution_count": null,
   "metadata": {},
   "outputs": [
    {
     "name": "stderr",
     "output_type": "stream",
     "text": [
      "  1%|▏         | 1829/134291 [00:19<18:59, 116.22it/s]/tmp/ipykernel_568454/3690741364.py:8: UserWarning: This pattern is interpreted as a regular expression, and has match groups. To actually get the groups, use str.extract.\n",
      "  breeds_founded = dataset_breed_dogs[dataset_breed_dogs['breed'].apply(str.lower).str.contains(str(breed_name).lower(), case=False)]\n",
      "  2%|▏         | 2624/134291 [00:27<20:05, 109.18it/s]/tmp/ipykernel_568454/3690741364.py:8: UserWarning: This pattern is interpreted as a regular expression, and has match groups. To actually get the groups, use str.extract.\n",
      "  breeds_founded = dataset_breed_dogs[dataset_breed_dogs['breed'].apply(str.lower).str.contains(str(breed_name).lower(), case=False)]\n",
      "  4%|▍         | 5418/134291 [00:53<23:23, 91.81it/s] /tmp/ipykernel_568454/3690741364.py:8: UserWarning: This pattern is interpreted as a regular expression, and has match groups. To actually get the groups, use str.extract.\n",
      "  breeds_founded = dataset_breed_dogs[dataset_breed_dogs['breed'].apply(str.lower).str.contains(str(breed_name).lower(), case=False)]\n",
      "  4%|▍         | 5765/134291 [00:57<20:16, 105.69it/s]/tmp/ipykernel_568454/3690741364.py:8: UserWarning: This pattern is interpreted as a regular expression, and has match groups. To actually get the groups, use str.extract.\n",
      "  breeds_founded = dataset_breed_dogs[dataset_breed_dogs['breed'].apply(str.lower).str.contains(str(breed_name).lower(), case=False)]\n",
      " 10%|▉         | 13227/134291 [02:11<21:57, 91.86it/s] /tmp/ipykernel_568454/3690741364.py:8: UserWarning: This pattern is interpreted as a regular expression, and has match groups. To actually get the groups, use str.extract.\n",
      "  breeds_founded = dataset_breed_dogs[dataset_breed_dogs['breed'].apply(str.lower).str.contains(str(breed_name).lower(), case=False)]\n",
      " 17%|█▋        | 22442/134291 [03:44<15:47, 118.07it/s]/tmp/ipykernel_568454/3690741364.py:8: UserWarning: This pattern is interpreted as a regular expression, and has match groups. To actually get the groups, use str.extract.\n",
      "  breeds_founded = dataset_breed_dogs[dataset_breed_dogs['breed'].apply(str.lower).str.contains(str(breed_name).lower(), case=False)]\n",
      " 22%|██▏       | 29418/134291 [04:59<15:44, 111.09it/s]/tmp/ipykernel_568454/3690741364.py:8: UserWarning: This pattern is interpreted as a regular expression, and has match groups. To actually get the groups, use str.extract.\n",
      "  breeds_founded = dataset_breed_dogs[dataset_breed_dogs['breed'].apply(str.lower).str.contains(str(breed_name).lower(), case=False)]\n",
      " 29%|██▉       | 39093/134291 [07:42<35:52, 44.22it/s] /tmp/ipykernel_568454/3690741364.py:8: UserWarning: This pattern is interpreted as a regular expression, and has match groups. To actually get the groups, use str.extract.\n",
      "  breeds_founded = dataset_breed_dogs[dataset_breed_dogs['breed'].apply(str.lower).str.contains(str(breed_name).lower(), case=False)]\n",
      " 34%|███▎      | 45097/134291 [09:58<39:12, 37.91it/s]  /tmp/ipykernel_568454/3690741364.py:8: UserWarning: This pattern is interpreted as a regular expression, and has match groups. To actually get the groups, use str.extract.\n",
      "  breeds_founded = dataset_breed_dogs[dataset_breed_dogs['breed'].apply(str.lower).str.contains(str(breed_name).lower(), case=False)]\n",
      " 34%|███▍      | 46330/134291 [10:31<31:53, 45.97it/s]  /tmp/ipykernel_568454/3690741364.py:8: UserWarning: This pattern is interpreted as a regular expression, and has match groups. To actually get the groups, use str.extract.\n",
      "  breeds_founded = dataset_breed_dogs[dataset_breed_dogs['breed'].apply(str.lower).str.contains(str(breed_name).lower(), case=False)]\n",
      " 37%|███▋      | 49582/134291 [11:43<28:39, 49.26it/s]/tmp/ipykernel_568454/3690741364.py:8: UserWarning: This pattern is interpreted as a regular expression, and has match groups. To actually get the groups, use str.extract.\n",
      "  breeds_founded = dataset_breed_dogs[dataset_breed_dogs['breed'].apply(str.lower).str.contains(str(breed_name).lower(), case=False)]\n",
      " 48%|████▊     | 64272/134291 [17:06<27:48, 41.97it/s]/tmp/ipykernel_568454/3690741364.py:8: UserWarning: This pattern is interpreted as a regular expression, and has match groups. To actually get the groups, use str.extract.\n",
      "  breeds_founded = dataset_breed_dogs[dataset_breed_dogs['breed'].apply(str.lower).str.contains(str(breed_name).lower(), case=False)]\n",
      "100%|██████████| 134291/134291 [31:53<00:00, 70.17it/s] \n"
     ]
    }
   ],
   "source": [
    "import base64\n",
    "from PIL import Image\n",
    "from tqdm import tqdm\n",
    "\n",
    "def find_image_from_name_dog(breed_name):\n",
    "    if breed_name == 'Unknown' or not breed_name:\n",
    "        return None, dataset_breed_dogs\n",
    "    breeds_founded = dataset_breed_dogs[dataset_breed_dogs['breed'].apply(str.lower).str.contains(str(breed_name).lower(), case=False)]\n",
    "    \n",
    "    if breeds_founded.empty:\n",
    "        return None, dataset_breed_dogs\n",
    "    \n",
    "    first_breed = breeds_founded.iloc[0]\n",
    "    df = dataset_breed_dogs.drop(breeds_founded.index[0])\n",
    "    info_breed = first_breed.to_dict()\n",
    "    indice_arquivo = arquivos_jpg.index(f\"{info_breed['id']}.jpg\")\n",
    "    nome_arquivo = arquivos_jpg[indice_arquivo]\n",
    "    caminho_completo = os.path.join(dir_destino, nome_arquivo)\n",
    "    img = Image.open(caminho_completo)\n",
    "    img_bytes = img.tobytes()\n",
    "    return base64.b64encode(img_bytes).decode('utf-8'), df\n",
    "\n",
    "try:\n",
    "    for index, row in tqdm(union_dataset.iterrows(), total=len(union_dataset)):\n",
    "        image_base64, df = find_image_from_name_dog(row['BreedName'])\n",
    "        dataset_breed_dogs = df\n",
    "        if row[\"Image\"] and row[\"Type\"] == \"Dog\" and not is_base64(row[\"Image\"]):\n",
    "            union_dataset.loc[index, 'Image'] = image_base64\n",
    "except Exception as error:\n",
    "    print(error)\n",
    "\n",
    "union_dataset.to_csv(\"../../data/dataset_union.csv\")"
   ]
  },
  {
   "attachments": {},
   "cell_type": "markdown",
   "metadata": {},
   "source": [
    "<h3>Tratar valores nulos nos dados de gatos utilizando média de outro dataset</h3>"
   ]
  },
  {
   "cell_type": "code",
   "execution_count": null,
   "metadata": {},
   "outputs": [],
   "source": [
    "dataset_names_cat = pd.read_csv('../../data/2022-licenced-cat-names.csv')"
   ]
  },
  {
   "cell_type": "code",
   "execution_count": null,
   "metadata": {},
   "outputs": [],
   "source": [
    "nomesGato = np.array(dataset_names_cat['names'])\n",
    "\n",
    "def getNameCat():\n",
    "    return np.random.choice(nomesGato)\n",
    "\n",
    "union_dataset['AnimalName'] = union_dataset['AnimalName'].map(lambda name: getNameCat() if not name else name)"
   ]
  },
  {
   "cell_type": "code",
   "execution_count": null,
   "metadata": {},
   "outputs": [],
   "source": [
    "mesGato = np.array(union_dataset['AnimalBirthMonth'])\n",
    "\n",
    "mesGatoFiltrado = list(filter(lambda mes: mes != None, mesGato))\n",
    "\n",
    "def getBirthMonth():\n",
    "    return np.random.choice(mesGatoFiltrado)\n",
    "\n",
    "union_dataset['AnimalBirthMonth'] = union_dataset['AnimalBirthMonth'].map(lambda month: getBirthMonth() if not month else month)"
   ]
  },
  {
   "cell_type": "code",
   "execution_count": null,
   "metadata": {},
   "outputs": [],
   "source": [
    "union_dataset.insert(0, 'ID', range(1, len(union_dataset) + 1))\n",
    "union_dataset.to_csv(\"../../data/dataset_union.csv\")"
   ]
  },
  {
   "cell_type": "code",
   "execution_count": null,
   "metadata": {},
   "outputs": [],
   "source": [
    "union_dataset.head()"
   ]
  }
 ],
 "metadata": {
  "kernelspec": {
   "display_name": "Python 3",
   "language": "python",
   "name": "python3"
  },
  "language_info": {
   "codemirror_mode": {
    "name": "ipython",
    "version": 3
   },
   "file_extension": ".py",
   "mimetype": "text/x-python",
   "name": "python",
   "nbconvert_exporter": "python",
   "pygments_lexer": "ipython3",
   "version": "3.11.1"
  },
  "orig_nbformat": 4,
  "vscode": {
   "interpreter": {
    "hash": "9fc4fa8a055064c45517b13347fc69d22a27164dc7c2c71484a24426f1ad53bd"
   }
  }
 },
 "nbformat": 4,
 "nbformat_minor": 2
}
