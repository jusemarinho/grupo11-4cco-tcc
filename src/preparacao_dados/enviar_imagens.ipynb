{
 "cells": [
  {
   "cell_type": "code",
   "execution_count": 1,
   "metadata": {},
   "outputs": [],
   "source": [
    "from tqdm import tqdm\n",
    "import os\n",
    "import boto3\n",
    "from dotenv import load_dotenv, find_dotenv\n",
    "import threading\n",
    "from queue import Queue\n",
    "import pandas as pd\n",
    "import json"
   ]
  },
  {
   "cell_type": "code",
   "execution_count": 2,
   "metadata": {},
   "outputs": [
    {
     "data": {
      "text/plain": [
       "True"
      ]
     },
     "execution_count": 2,
     "metadata": {},
     "output_type": "execute_result"
    }
   ],
   "source": [
    "# parent_dir = os.path.abspath(os.path.join(os.getcwd(), os.pardir))\n",
    "\n",
    "# print(parent_dir)\n",
    "# # Encontra o arquivo .env no diretório pai\n",
    "# dotenv_path = find_dotenv()\n",
    "\n",
    "# Carrega as variáveis de ambiente do arquivo .env encontrado\n",
    "load_dotenv()"
   ]
  },
  {
   "cell_type": "code",
   "execution_count": 4,
   "metadata": {},
   "outputs": [],
   "source": [
    "with open('../data/people_and_pet.json', 'r') as f:\n",
    "    dict_people_pet = json.load(f)"
   ]
  },
  {
   "cell_type": "code",
   "execution_count": 6,
   "metadata": {},
   "outputs": [],
   "source": [
    "session = boto3.Session(\n",
    "    aws_access_key_id       = os.getenv('aws_access_key_id'),  \n",
    "    aws_secret_access_key   = os.getenv('aws_secret_access_key'),\n",
    "    region_name             = os.getenv('AWS_DEFAULT_REGION'), \n",
    "    aws_session_token       = os.getenv('aws_session_token')\n",
    ")"
   ]
  },
  {
   "cell_type": "code",
   "execution_count": 7,
   "metadata": {},
   "outputs": [],
   "source": [
    "resource = session.resource(\"s3\")"
   ]
  },
  {
   "cell_type": "code",
   "execution_count": 8,
   "metadata": {},
   "outputs": [],
   "source": [
    "def directory_exists(bucket_name, directory_name):\n",
    "    try:\n",
    "        resource.head_object(Bucket=bucket_name, Key=directory_name)\n",
    "        return True\n",
    "    except:\n",
    "        return False"
   ]
  },
  {
   "cell_type": "code",
   "execution_count": 9,
   "metadata": {},
   "outputs": [],
   "source": [
    "import os\n",
    "\n",
    "file_list = []\n",
    "dir_atual = os.getcwd()\n",
    "dir_destino = os.path.abspath(f'{os.pardir}/inteligencia_artificial/train/')\n",
    "\n",
    "os.chdir(dir_destino)\n",
    "\n",
    "arquivos_jpg = [f for f in os.listdir() if f.endswith('.jpg')]\n",
    "fotos = set(arquivos_jpg)"
   ]
  },
  {
   "cell_type": "code",
   "execution_count": 10,
   "metadata": {},
   "outputs": [
    {
     "data": {
      "text/plain": [
       "75501"
      ]
     },
     "execution_count": 10,
     "metadata": {},
     "output_type": "execute_result"
    }
   ],
   "source": [
    "len(fotos)"
   ]
  },
  {
   "cell_type": "code",
   "execution_count": 11,
   "metadata": {},
   "outputs": [],
   "source": [
    "bucket_name = 'pilha-nuvem-tcc-sptech-bucket'\n",
    "num_threads = 20\n",
    "q = Queue()\n",
    "s3 = resource.Bucket(bucket_name)\n",
    "\n",
    "def send_image_to_s3(md5_hash, folder, pet_name):\n",
    "    image_with_extension = f\"{md5_hash}.jpg\"\n",
    "    image_path = f\"{dir_destino}/{image_with_extension}\"\n",
    "    with open(image_path, 'rb') as data:\n",
    "        s3.put_object(Key = f\"{folder}/{pet_name}_{image_with_extension}\", Body=data)\n",
    "    return True"
   ]
  },
  {
   "cell_type": "code",
   "execution_count": 13,
   "metadata": {},
   "outputs": [
    {
     "name": "stderr",
     "output_type": "stream",
     "text": [
      "100%|██████████| 24500/24500 [00:00<00:00, 78024.50it/s]\n",
      " 29%|██▉       | 38915/134693 [14:05<31:56, 49.98it/s]  "
     ]
    },
    {
     "name": "stdout",
     "output_type": "stream",
     "text": [
      "Erro ao enviar imagem nan: [Errno 2] No such file or directory: '/home/joseph/Documentos/sptech/tcc/grupo11-4cco-tcc/src/inteligencia_artificial/train/nan.jpg'\n"
     ]
    },
    {
     "name": "stderr",
     "output_type": "stream",
     "text": [
      " 35%|███▍      | 46555/134693 [16:56<32:30, 45.18it/s]  "
     ]
    },
    {
     "name": "stdout",
     "output_type": "stream",
     "text": [
      "Erro ao enviar imagem a3497ac3214a11cfe377ddf69fb2b727: An error occurred (400) when calling the PutObject operation: Bad Request\n"
     ]
    },
    {
     "name": "stderr",
     "output_type": "stream",
     "text": [
      " 37%|███▋      | 49477/134693 [18:02<25:15, 56.22it/s]  "
     ]
    },
    {
     "name": "stdout",
     "output_type": "stream",
     "text": [
      "Erro ao enviar imagem nan: [Errno 2] No such file or directory: '/home/joseph/Documentos/sptech/tcc/grupo11-4cco-tcc/src/inteligencia_artificial/train/nan.jpg'\n"
     ]
    },
    {
     "name": "stderr",
     "output_type": "stream",
     "text": [
      " 49%|████▉     | 66146/134693 [24:18<23:33, 48.48it/s]  "
     ]
    },
    {
     "name": "stdout",
     "output_type": "stream",
     "text": [
      "Erro ao enviar imagem nan: [Errno 2] No such file or directory: '/home/joseph/Documentos/sptech/tcc/grupo11-4cco-tcc/src/inteligencia_artificial/train/nan.jpg'\n"
     ]
    },
    {
     "name": "stderr",
     "output_type": "stream",
     "text": [
      " 64%|██████▍   | 85887/134693 [31:24<24:11, 33.63it/s]"
     ]
    },
    {
     "name": "stdout",
     "output_type": "stream",
     "text": [
      "Erro ao enviar imagem nan: [Errno 2] No such file or directory: '/home/joseph/Documentos/sptech/tcc/grupo11-4cco-tcc/src/inteligencia_artificial/train/nan.jpg'\n"
     ]
    },
    {
     "name": "stderr",
     "output_type": "stream",
     "text": [
      " 66%|██████▌   | 88587/134693 [32:23<16:37, 46.23it/s]"
     ]
    },
    {
     "name": "stdout",
     "output_type": "stream",
     "text": [
      "Erro ao enviar imagem nan: [Errno 2] No such file or directory: '/home/joseph/Documentos/sptech/tcc/grupo11-4cco-tcc/src/inteligencia_artificial/train/nan.jpg'\n"
     ]
    },
    {
     "name": "stderr",
     "output_type": "stream",
     "text": [
      " 87%|████████▋ | 117645/134693 [42:51<06:39, 42.69it/s]"
     ]
    },
    {
     "name": "stdout",
     "output_type": "stream",
     "text": [
      "Erro ao enviar imagem nan: [Errno 2] No such file or directory: '/home/joseph/Documentos/sptech/tcc/grupo11-4cco-tcc/src/inteligencia_artificial/train/nan.jpg'\n"
     ]
    },
    {
     "name": "stderr",
     "output_type": "stream",
     "text": [
      " 93%|█████████▎| 125191/134693 [45:32<03:54, 40.57it/s]"
     ]
    },
    {
     "name": "stdout",
     "output_type": "stream",
     "text": [
      "Erro ao enviar imagem nan: [Errno 2] No such file or directory: '/home/joseph/Documentos/sptech/tcc/grupo11-4cco-tcc/src/inteligencia_artificial/train/nan.jpg'\n"
     ]
    },
    {
     "name": "stderr",
     "output_type": "stream",
     "text": [
      " 94%|█████████▍| 126387/134693 [45:58<02:55, 47.33it/s]"
     ]
    },
    {
     "name": "stdout",
     "output_type": "stream",
     "text": [
      "Erro ao enviar imagem nan: [Errno 2] No such file or directory: '/home/joseph/Documentos/sptech/tcc/grupo11-4cco-tcc/src/inteligencia_artificial/train/nan.jpg'\n"
     ]
    },
    {
     "name": "stderr",
     "output_type": "stream",
     "text": [
      "100%|█████████▉| 134684/134693 [48:57<00:00, 45.85it/s]\n"
     ]
    }
   ],
   "source": [
    "for user_id, pets in tqdm(dict_people_pet.items()):\n",
    "    user_folder = f\"train/{user_id}\"\n",
    "    if not directory_exists(bucket_name = bucket_name, directory_name = user_folder):\n",
    "        for pet in pets:\n",
    "            if pet['image']:\n",
    "                q.put((pet['image'], f\"{user_folder}/{pet['id']}\", pet['animal_name']))\n",
    "                # send_image_to_s3(pet.image, f\"{user_folder}/{pet.id}\", pet.animal_name)\n",
    "\n",
    "def send_images(queue: Queue, progress_bar: tqdm):\n",
    "    while not queue.empty():\n",
    "        pet_image, folder, pet_name = queue.get()\n",
    "        try:\n",
    "            send_image_to_s3(pet_image, folder, pet_name)\n",
    "            progress_bar.update()\n",
    "        except Exception as error:\n",
    "            print(f\"Erro ao enviar imagem {pet_image}: {error}\")\n",
    "        queue.task_done()\n",
    "\n",
    "with tqdm(total=q.qsize()) as progress_bar:\n",
    "    for i in range(num_threads):\n",
    "        t = threading.Thread(target=send_images, args=(q, progress_bar))\n",
    "        t.start()\n",
    "\n",
    "    # esperar até que todas as fotos sejam enviadas\n",
    "    q.join()"
   ]
  }
 ],
 "metadata": {
  "kernelspec": {
   "display_name": "Python 3",
   "language": "python",
   "name": "python3"
  },
  "language_info": {
   "codemirror_mode": {
    "name": "ipython",
    "version": 3
   },
   "file_extension": ".py",
   "mimetype": "text/x-python",
   "name": "python",
   "nbconvert_exporter": "python",
   "pygments_lexer": "ipython3",
   "version": "3.10.10"
  },
  "orig_nbformat": 4
 },
 "nbformat": 4,
 "nbformat_minor": 2
}
