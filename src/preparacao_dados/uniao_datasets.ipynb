{
 "cells": [
  {
   "cell_type": "code",
   "execution_count": null,
   "metadata": {},
   "outputs": [],
   "source": [
    "import pandas as pd\n",
    "\n",
    "dataset_cats = pd.read_csv('../data/cats.csv')\n",
    "dataset_dogs = pd.read_csv('../data/dogs_clean.csv')"
   ]
  },
  {
   "cell_type": "code",
   "execution_count": null,
   "metadata": {},
   "outputs": [],
   "source": [
    "new_dataset_data_dogs = {\n",
    "    \"AnimalName\": dataset_dogs[\"AnimalName\"],\n",
    "    \"AnimalGender\": dataset_dogs[\"AnimalGender\"],\n",
    "    \"AnimalBirthMonth\": dataset_dogs[\"AnimalBirthMonth\"],\n",
    "    \"BreedName\": dataset_dogs[\"BreedName\"],\n",
    "    \"Borough\": dataset_dogs[\"Borough\"],\n",
    "    \"ZipCode\": dataset_dogs[\"ZipCode\"],\n",
    "    \"Type\": \"Dog\",\n",
    "    \"Image\": \"\"\n",
    "}\n",
    "\n",
    "new_dataset_data_cats = {\n",
    "    \"AnimalName\": None,\n",
    "    \"AnimalGender\": dataset_cats[\"gender\"],\n",
    "    \"AnimalBirthMonth\": None,\n",
    "    \"BreedName\": dataset_cats[\"breed\"],\n",
    "    \"Borough\": None,\n",
    "    \"ZipCode\": None,\n",
    "    \"Type\": dataset_cats[\"type\"],\n",
    "    \"Image\": dataset_cats[\"link_photo\"]\n",
    "}\n",
    "\n",
    "new_dataset_dogs = pd.DataFrame(new_dataset_data_dogs)\n",
    "new_dataset_cats = pd.DataFrame(new_dataset_data_cats)\n",
    "\n",
    "union_dataset = new_dataset_dogs.append(new_dataset_cats)"
   ]
  },
  {
   "cell_type": "code",
   "execution_count": null,
   "metadata": {},
   "outputs": [],
   "source": [
    "union_dataset.to_csv(\"../data/dataset_union.csv\")"
   ]
  }
 ],
 "metadata": {
  "language_info": {
   "name": "python"
  },
  "orig_nbformat": 4
 },
 "nbformat": 4,
 "nbformat_minor": 2
}
