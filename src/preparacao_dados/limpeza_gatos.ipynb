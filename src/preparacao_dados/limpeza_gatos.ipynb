{
 "cells": [
  {
   "attachments": {},
   "cell_type": "markdown",
   "metadata": {},
   "source": [
    "<h3>Tratamento dataset de Gatos</h3>"
   ]
  },
  {
   "cell_type": "code",
   "execution_count": 20,
   "metadata": {},
   "outputs": [],
   "source": [
    "import pandas as pd\n",
    "\n",
    "dataset_cats = pd.read_csv('../data/cats.csv')\n",
    "dataset_cats.drop(['Unnamed: 0', 'id', 'url', 'med_photos', 'size', 'age'], axis=1, inplace=True)\n",
    "\n",
    "import ast\n",
    "dataset_cats[\"photos\"] = dataset_cats[\"photos\"].apply(ast.literal_eval)\n",
    "dataset_cats['photos'] = dataset_cats['photos'].map(lambda foto: foto[0][\"large\"])\n",
    "\n",
    "dataset_cats = dataset_cats.rename(columns={'photos': 'link_photo'})"
   ]
  },
  {
   "cell_type": "markdown",
   "metadata": {},
   "source": [
    "<b>Salvando dataset_dogss</b>"
   ]
  },
  {
   "cell_type": "code",
   "execution_count": 21,
   "metadata": {},
   "outputs": [],
   "source": [
    "dataset_cats.to_csv('../data/cats_clean.csv')"
   ]
  },
  {
   "cell_type": "markdown",
   "metadata": {},
   "source": [
    "<h3>União dos datasets \"limpados\" acima.</h3>"
   ]
  },
  {
   "cell_type": "code",
   "execution_count": 22,
   "metadata": {},
   "outputs": [],
   "source": [
    "import csv\n",
    "\n",
    "dicionario_ceps = {}\n",
    "\n",
    "with open('../data/ceps.txt', 'r') as file:\n",
    "    csvreader = csv.reader(file, delimiter=';')\n",
    "    for linha in csvreader:\n",
    "        dicionario_ceps[linha[0]] = linha"
   ]
  },
  {
   "cell_type": "code",
   "execution_count": 23,
   "metadata": {},
   "outputs": [],
   "source": [
    "import numpy as np\n",
    "np.random.seed(77)\n",
    "\n",
    "chaves_dicionario = np.array(list(dicionario_ceps.keys()))\n",
    "\n",
    "dataset_cats[\"ZipCode\"] = np.NAN\n",
    "\n",
    "def get_cep():\n",
    "    key = np.random.choice(chaves_dicionario)\n",
    "    info_cep = dicionario_ceps[f'{key}']\n",
    "    cep = info_cep[0]\n",
    "    return cep\n",
    "\n",
    "def get_cidade(cep):\n",
    "    return dicionario_ceps[cep][1]\n",
    "\n",
    "dataset_cats[\"ZipCode\"] = dataset_cats[\"ZipCode\"].map(lambda _: get_cep())\n",
    "dataset_cats[\"Borough\"] = dataset_cats[\"ZipCode\"].map(lambda cep: get_cidade(cep))\n",
    "\n",
    "dataset_cats.to_csv(\"../data/cats_clean.csv\")"
   ]
  },
  {
   "cell_type": "markdown",
   "metadata": {},
   "source": [
    "<h3>Tratamento das fotos da base</h3>\n",
    "<ul>\n",
    "    <li>Obter a foto da URL</li>\n",
    "    <li>Converter para base64</li>\n",
    "</ul>"
   ]
  },
  {
   "cell_type": "code",
   "execution_count": 24,
   "metadata": {},
   "outputs": [],
   "source": [
    "import requests\n",
    "import base64\n",
    "\n",
    "def get_base64_from_photo_url(url):\n",
    "    if not url:\n",
    "        return None\n",
    "    \n",
    "    response = requests.get(url)\n",
    "    imagem_bytes = response.content\n",
    "    imagem_base64 = base64.b64encode(imagem_bytes).decode('utf-8')\n",
    "    return imagem_base64"
   ]
  },
  {
   "cell_type": "code",
   "execution_count": 25,
   "metadata": {},
   "outputs": [],
   "source": [
    "dataset_cats = dataset_cats.rename(columns={'link_photo': 'idMd5Image'})"
   ]
  },
  {
   "cell_type": "code",
   "execution_count": 26,
   "metadata": {},
   "outputs": [],
   "source": [
    "import base64\n",
    "import hashlib\n",
    "from tqdm.notebook import tqdm\n",
    "import asyncio\n",
    "import aiohttp\n",
    "\n",
    "def is_base64(s):\n",
    "    try:\n",
    "        base64.b64decode(s)\n",
    "        return True\n",
    "    except Exception:\n",
    "        return False\n",
    "\n",
    "\n",
    "async def download_images(index_range, union_dataset, progress_bar):\n",
    "    timeout = aiohttp.ClientTimeout(120)\n",
    "    async with aiohttp.ClientSession(timeout=timeout) as session:\n",
    "        for index in index_range:\n",
    "            row = union_dataset.iloc[index]\n",
    "            if row[\"idMd5Image\"] and not is_base64(row[\"idMd5Image\"]):\n",
    "                try:\n",
    "                    async with session.get(row[\"idMd5Image\"]) as response:\n",
    "                        imagem_bytes = await response.read()\n",
    "                        \n",
    "                        md5 = hashlib.md5(imagem_bytes).hexdigest()\n",
    "                        \n",
    "                        local_directory = \"../inteligencia_artificial/test/\"\n",
    "                        \n",
    "                        with open(local_directory + md5 + \".jpg\", \"wb\") as f:\n",
    "                            f.write(imagem_bytes)\n",
    "                        \n",
    "                        # Inserir o hash MD5 na tabela\n",
    "                        union_dataset.loc[index, 'idMd5Image'] = md5\n",
    "                except Exception as err:\n",
    "                    pass\n",
    "                progress_bar.update(1)\n",
    "\n",
    "async def async_process_dataset(union_dataset, batch_size=50):\n",
    "    tasks = []\n",
    "    with tqdm(total=len(union_dataset), desc=\"Downloading images\") as progress_bar:\n",
    "        for i in range(0, len(union_dataset), batch_size):\n",
    "            index_range = range(i, min(i+batch_size, len(union_dataset)))\n",
    "            task = asyncio.create_task(download_images(index_range, union_dataset, progress_bar))\n",
    "            tasks.append(task)\n",
    "        await asyncio.gather(*tasks)\n"
   ]
  },
  {
   "cell_type": "code",
   "execution_count": 27,
   "metadata": {},
   "outputs": [
    {
     "data": {
      "application/vnd.jupyter.widget-view+json": {
       "model_id": "559dd0e2bb4a482986c7d0d91f7f1e23",
       "version_major": 2,
       "version_minor": 0
      },
      "text/plain": [
       "Downloading images:   0%|          | 0/67145 [00:00<?, ?it/s]"
      ]
     },
     "metadata": {},
     "output_type": "display_data"
    }
   ],
   "source": [
    "# Executa o loop de eventos do asyncio no kernel do Jupyter Notebook\n",
    "await async_process_dataset(dataset_cats)"
   ]
  },
  {
   "cell_type": "code",
   "execution_count": 28,
   "metadata": {},
   "outputs": [
    {
     "name": "stdout",
     "output_type": "stream",
     "text": [
      "O número de valores nulos na coluna 'idMd5Image' é: 0\n"
     ]
    }
   ],
   "source": [
    "# Contando o número de valores nulos na coluna \"Image\"\n",
    "num_null = dataset_cats['idMd5Image'].isnull().sum()\n",
    "print(f\"O número de valores nulos na coluna 'idMd5Image' é: {num_null}\")"
   ]
  },
  {
   "cell_type": "code",
   "execution_count": 29,
   "metadata": {},
   "outputs": [],
   "source": [
    "dataset_cats.to_csv(\"../data/cats_clean.csv\", index=False)"
   ]
  }
 ],
 "metadata": {
  "kernelspec": {
   "display_name": "Python 3 (ipykernel)",
   "language": "python",
   "name": "python3"
  },
  "language_info": {
   "codemirror_mode": {
    "name": "ipython",
    "version": 3
   },
   "file_extension": ".py",
   "mimetype": "text/x-python",
   "name": "python",
   "nbconvert_exporter": "python",
   "pygments_lexer": "ipython3",
   "version": "3.10.10"
  },
  "vscode": {
   "interpreter": {
    "hash": "9fc4fa8a055064c45517b13347fc69d22a27164dc7c2c71484a24426f1ad53bd"
   }
  }
 },
 "nbformat": 4,
 "nbformat_minor": 2
}
