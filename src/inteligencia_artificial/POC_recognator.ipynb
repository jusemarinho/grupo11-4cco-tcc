{
 "cells": [
  {
   "cell_type": "code",
   "execution_count": 12,
   "metadata": {},
   "outputs": [],
   "source": [
    "from tensorflow.keras.preprocessing import image\n",
    "import tensorflow as tf\n",
    "import numpy as np\n",
    "import os\n",
    "from dotenv import load_dotenv\n",
    "from find_image import FindImage\n",
    "from collections.abc import Mapping\n",
    "import botocore"
   ]
  },
  {
   "cell_type": "code",
   "execution_count": 13,
   "metadata": {},
   "outputs": [
    {
     "data": {
      "text/plain": [
       "True"
      ]
     },
     "execution_count": 13,
     "metadata": {},
     "output_type": "execute_result"
    }
   ],
   "source": [
    "load_dotenv()"
   ]
  },
  {
   "cell_type": "code",
   "execution_count": 14,
   "metadata": {},
   "outputs": [],
   "source": [
    "# Loading model\n",
    "loaded_model = tf.keras.models.load_model(os.getenv('MODEL_PATH'))"
   ]
  },
  {
   "cell_type": "code",
   "execution_count": 15,
   "metadata": {},
   "outputs": [],
   "source": [
    "#s3 = boto3.client('s3', aws_access_key_id=os.getenv('AWS_ACCESS_KEY_ID'), aws_secret_access_key=os.getenv('AWS_SECRET_ACCESS_KEY'), region_name=os.getenv('REGION_AWS'))"
   ]
  },
  {
   "cell_type": "code",
   "execution_count": 24,
   "metadata": {},
   "outputs": [
    {
     "name": "stdout",
     "output_type": "stream",
     "text": [
      "s3.Bucket(name='pilha-nuvem-tcc-sptech-bucket')\n",
      "Arquivo baixado com sucesso.\n"
     ]
    }
   ],
   "source": [
    "s3 = FindImage(flag=True, bucket_name=os.getenv(\"BUCKET_S3\"), resource_name=\"s3\")\n",
    "\n",
    "try:\n",
    "    file_key = \"test/cat2-test.jpeg\"  # Caminho relativo dentro do bucket\n",
    "    local_path = f'{os.getenv(\"PATH_DOWNLOADED_IMG\")}/img_test.jpeg'\n",
    "    s3.download(file_key, local_path)\n",
    "    print(f\"Arquivo baixado com sucesso.\")\n",
    "except botocore.exceptions.NoCredentialsError:\n",
    "    print(\"Credenciais não encontradas ou inválidas.\")\n",
    "except botocore.exceptions.ClientError as e:\n",
    "    if e.response[\"Error\"][\"Code\"] == \"404\":\n",
    "        print(\"O arquivo não foi encontrado no bucket.\")\n",
    "    else:\n",
    "        print(\"Erro desconhecido ao baixar o arquivo:\", e)"
   ]
  }
 ],
 "metadata": {
  "kernelspec": {
   "display_name": "Python 3.10.6 64-bit",
   "language": "python",
   "name": "python3"
  },
  "language_info": {
   "codemirror_mode": {
    "name": "ipython",
    "version": 3
   },
   "file_extension": ".py",
   "mimetype": "text/x-python",
   "name": "python",
   "nbconvert_exporter": "python",
   "pygments_lexer": "ipython3",
   "version": "3.10.12"
  },
  "orig_nbformat": 4,
  "vscode": {
   "interpreter": {
    "hash": "916dbcbb3f70747c44a77c7bcd40155683ae19c65e1c03b4aa3499c5328201f1"
   }
  }
 },
 "nbformat": 4,
 "nbformat_minor": 2
}
