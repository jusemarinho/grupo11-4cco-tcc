{
 "cells": [
  {
   "cell_type": "markdown",
   "metadata": {},
   "source": [
    "<h3>Tratar valores nulos nos dados de gatos utilizando média de outro dataset</h3>"
   ]
  },
  {
   "cell_type": "code",
   "execution_count": 1,
   "metadata": {},
   "outputs": [],
   "source": [
    "import pandas as pd\n",
    "dataset_dogs = pd.read_csv('../data/NYC_Dog_Licensing_Dataset.csv')"
   ]
  },
  {
   "cell_type": "markdown",
   "metadata": {},
   "source": [
    "<b>Removendo colunas que não iremos utilizar</b>"
   ]
  },
  {
   "cell_type": "code",
   "execution_count": 2,
   "metadata": {},
   "outputs": [],
   "source": [
    "dataset_dogs.drop(['RowNumber', 'CensusTract2010', 'NTA', 'CityCouncilDistrict', 'CommunityDistrict', 'CongressionalDistrict', 'StateSenatorialDistrict', 'LicenseIssuedDate', 'LicenseExpiredDate'], axis=1, inplace=True)\n",
    "dataset_dogs.drop(dataset_dogs.index[67146:122203], axis=0, inplace=True)"
   ]
  },
  {
   "cell_type": "code",
   "execution_count": 3,
   "metadata": {},
   "outputs": [],
   "source": [
    "from datetime import datetime\n",
    "\n",
    "# substituindo os valores do campo AnimalBirthMonth para retirar a hora deixa somente a data\n",
    "dataset_dogs['AnimalBirthMonth'] = pd.to_datetime(dataset_dogs['AnimalBirthMonth'], format=\"%d/%m/%Y %H:%M:%S %p\")\n",
    "dataset_dogs['AnimalBirthMonth'] = pd.to_datetime(dataset_dogs['AnimalBirthMonth'])\n",
    "dataset_dogs['AnimalBirthMonth'] = dataset_dogs['AnimalBirthMonth'].map(lambda x: datetime.strftime(x,\"%d/%m/%Y\"), na_action='ignore')"
   ]
  },
  {
   "cell_type": "code",
   "execution_count": 4,
   "metadata": {},
   "outputs": [],
   "source": [
    "dataset_dogs.to_csv('../data/dogs_clean.csv')"
   ]
  },
  {
   "cell_type": "code",
   "execution_count": 5,
   "metadata": {},
   "outputs": [],
   "source": [
    "import csv\n",
    "\n",
    "dicionario_ceps = {}\n",
    "\n",
    "with open('../data/ceps.txt', 'r') as file:\n",
    "    csvreader = csv.reader(file, delimiter=';')\n",
    "    for linha in csvreader:\n",
    "        dicionario_ceps[linha[0]] = linha"
   ]
  },
  {
   "cell_type": "code",
   "execution_count": 6,
   "metadata": {},
   "outputs": [],
   "source": [
    "import numpy as np\n",
    "np.random.seed(77)\n",
    "\n",
    "chaves_dicionario = np.array(list(dicionario_ceps.keys()))\n",
    "\n",
    "def get_cep():\n",
    "    key = np.random.choice(chaves_dicionario)\n",
    "    info_cep = dicionario_ceps[f'{key}']\n",
    "    cep = info_cep[0]\n",
    "    return cep\n",
    "\n",
    "def get_cidade(cep):\n",
    "    return dicionario_ceps[cep][1]\n",
    "\n",
    "dataset_dogs[\"ZipCode\"] = dataset_dogs[\"ZipCode\"].map(lambda _: get_cep())\n",
    "dataset_dogs[\"Borough\"] = dataset_dogs[\"ZipCode\"].map(lambda cep: get_cidade(cep))\n",
    "\n",
    "dataset_dogs.to_csv(\"../data/dogs_clean.csv\")"
   ]
  },
  {
   "cell_type": "code",
   "execution_count": 7,
   "metadata": {},
   "outputs": [],
   "source": [
    "import os\n",
    "\n",
    "dir_atual = os.getcwd()\n",
    "dir_destino = os.path.abspath(os.path.join(dir_atual, os.pardir, '/home/joseph/Documentos/sptech/tcc/grupo11-4cco-tcc/src/inteligencia_artificial/train/'))\n",
    "\n",
    "os.chdir(dir_destino)\n",
    "\n",
    "arquivos_jpg = [f for f in os.listdir() if f.endswith('.jpg')]\n",
    "fotos = set(arquivos_jpg)"
   ]
  },
  {
   "cell_type": "code",
   "execution_count": 8,
   "metadata": {},
   "outputs": [],
   "source": [
    "dataset_breed_dogs = pd.read_csv('../../data/labels.csv')"
   ]
  },
  {
   "cell_type": "code",
   "execution_count": 9,
   "metadata": {},
   "outputs": [],
   "source": [
    "dataset_breed_dogs_backup = dataset_breed_dogs"
   ]
  },
  {
   "cell_type": "code",
   "execution_count": 10,
   "metadata": {},
   "outputs": [],
   "source": [
    "import base64\n",
    "\n",
    "def is_base64(s):\n",
    "    try:\n",
    "        base64.b64decode(s)\n",
    "        return True\n",
    "    except Exception:\n",
    "        return False"
   ]
  },
  {
   "attachments": {},
   "cell_type": "markdown",
   "metadata": {},
   "source": [
    "<h3>Adequação das raças de cachorros</h3>"
   ]
  },
  {
   "cell_type": "code",
   "execution_count": 11,
   "metadata": {},
   "outputs": [],
   "source": [
    "breed_sample = dataset_breed_dogs.sample(n=len(dataset_dogs), replace=True)\n",
    "\n",
    "# redefina o índice do DataFrame de raças\n",
    "breed_sample = breed_sample.reset_index(drop=True)\n",
    "\n",
    "# atualize a coluna 'BreedName' do DataFrame de cães com a coluna 'breed' do DataFrame de raças amostrado\n",
    "dataset_dogs['BreedName'] = breed_sample['breed']\n",
    "\n",
    "# salve o DataFrame atualizado em um novo arquivo CSV\n",
    "dataset_dogs.to_csv('../../data/dogs_clean.csv', index=False)"
   ]
  },
  {
   "cell_type": "code",
   "execution_count": 12,
   "metadata": {},
   "outputs": [],
   "source": [
    "dataset_dogs['BreedName'] = dataset_dogs['BreedName'].replace('Unknown', pd.NA)\n",
    "breed_mean = dataset_dogs['BreedName'].dropna().mode()[0]\n",
    "dataset_dogs['BreedName'] = dataset_dogs['BreedName'].fillna(breed_mean)\n",
    "\n",
    "dataset_dogs.to_csv('../../data/dogs_clean.csv')"
   ]
  },
  {
   "cell_type": "code",
   "execution_count": 13,
   "metadata": {},
   "outputs": [],
   "source": [
    "dataset_dogs['Image'] = None"
   ]
  },
  {
   "cell_type": "code",
   "execution_count": 14,
   "metadata": {},
   "outputs": [
    {
     "data": {
      "text/html": [
       "<div>\n",
       "<style scoped>\n",
       "    .dataframe tbody tr th:only-of-type {\n",
       "        vertical-align: middle;\n",
       "    }\n",
       "\n",
       "    .dataframe tbody tr th {\n",
       "        vertical-align: top;\n",
       "    }\n",
       "\n",
       "    .dataframe thead th {\n",
       "        text-align: right;\n",
       "    }\n",
       "</style>\n",
       "<table border=\"1\" class=\"dataframe\">\n",
       "  <thead>\n",
       "    <tr style=\"text-align: right;\">\n",
       "      <th></th>\n",
       "      <th>AnimalName</th>\n",
       "      <th>AnimalGender</th>\n",
       "      <th>AnimalBirthMonth</th>\n",
       "      <th>BreedName</th>\n",
       "      <th>Borough</th>\n",
       "      <th>ZipCode</th>\n",
       "      <th>Image</th>\n",
       "    </tr>\n",
       "  </thead>\n",
       "  <tbody>\n",
       "    <tr>\n",
       "      <th>0</th>\n",
       "      <td>SHADOW</td>\n",
       "      <td>M</td>\n",
       "      <td>01/01/2000</td>\n",
       "      <td>silky_terrier</td>\n",
       "      <td>Gravataí/RS</td>\n",
       "      <td>94055030</td>\n",
       "      <td>None</td>\n",
       "    </tr>\n",
       "    <tr>\n",
       "      <th>1</th>\n",
       "      <td>ROCCO</td>\n",
       "      <td>M</td>\n",
       "      <td>10/01/2011</td>\n",
       "      <td>bull_mastiff</td>\n",
       "      <td>Várzea Grande/MT</td>\n",
       "      <td>78115646</td>\n",
       "      <td>None</td>\n",
       "    </tr>\n",
       "    <tr>\n",
       "      <th>2</th>\n",
       "      <td>LUIGI</td>\n",
       "      <td>M</td>\n",
       "      <td>09/01/2005</td>\n",
       "      <td>pembroke</td>\n",
       "      <td>Mossoró/RN</td>\n",
       "      <td>59633636</td>\n",
       "      <td>None</td>\n",
       "    </tr>\n",
       "  </tbody>\n",
       "</table>\n",
       "</div>"
      ],
      "text/plain": [
       "  AnimalName AnimalGender AnimalBirthMonth      BreedName           Borough   \n",
       "0    SHADOW             M       01/01/2000  silky_terrier       Gravataí/RS  \\\n",
       "1      ROCCO            M       10/01/2011   bull_mastiff  Várzea Grande/MT   \n",
       "2      LUIGI            M       09/01/2005       pembroke        Mossoró/RN   \n",
       "\n",
       "    ZipCode Image  \n",
       "0  94055030  None  \n",
       "1  78115646  None  \n",
       "2  59633636  None  "
      ]
     },
     "execution_count": 14,
     "metadata": {},
     "output_type": "execute_result"
    }
   ],
   "source": [
    "dataset_dogs.head(3)"
   ]
  },
  {
   "cell_type": "code",
   "execution_count": 15,
   "metadata": {},
   "outputs": [
    {
     "name": "stderr",
     "output_type": "stream",
     "text": [
      "100%|██████████| 67146/67146 [06:10<00:00, 180.99it/s]\n",
      "/tmp/ipykernel_20759/2923921787.py:41: RuntimeWarning: asyncio.run() cannot be called from a running event loop\n",
      "  warnings.warn(str(error), RuntimeWarning)\n"
     ]
    }
   ],
   "source": [
    "import asyncio\n",
    "import aiofiles\n",
    "import base64\n",
    "import os\n",
    "from PIL import Image\n",
    "from tqdm import tqdm\n",
    "import warnings\n",
    "\n",
    "async def find_image_from_name_dog(breed_name, dataset_breed_dogs, arquivos_jpg, dir_destino):\n",
    "    if breed_name == 'Unknown' or not breed_name:\n",
    "        return None, dataset_breed_dogs\n",
    "    breed_name_lower = str(breed_name).lower()\n",
    "    breeds_founded = dataset_breed_dogs[dataset_breed_dogs['breed'].str.lower().str.contains(breed_name_lower, case=False, regex=False)]\n",
    "    \n",
    "    if breeds_founded.empty:\n",
    "        dataset_breed_dogs = dataset_breed_dogs_backup\n",
    "        return None, dataset_breed_dogs\n",
    "    \n",
    "    first_breed = breeds_founded.iloc[0]\n",
    "    df = dataset_breed_dogs.drop(breeds_founded.index[0])\n",
    "    info_breed = first_breed.to_dict()\n",
    "    indice_arquivo = arquivos_jpg.index(f\"{info_breed['id']}.jpg\")\n",
    "    nome_arquivo = arquivos_jpg[indice_arquivo]\n",
    "    caminho_completo = os.path.join(dir_destino, nome_arquivo)\n",
    "    async with aiofiles.open(caminho_completo, mode='rb') as f:\n",
    "        img_bytes = await f.read()\n",
    "    return base64.b64encode(img_bytes).decode('utf-8'), df\n",
    "\n",
    "\n",
    "async def main(dataset_dogs, dataset_breed_dogs, arquivos_jpg, dir_destino):\n",
    "    for index, row in tqdm(dataset_dogs.iterrows(), total=len(dataset_dogs)):\n",
    "        image_base64, df = await find_image_from_name_dog(row['BreedName'], dataset_breed_dogs, arquivos_jpg, dir_destino)\n",
    "        dataset_breed_dogs = df\n",
    "        if not is_base64(row[\"Image\"]):\n",
    "            dataset_dogs.loc[index, 'Image'] = image_base64\n",
    "\n",
    "\n",
    "try:\n",
    "    asyncio.run(await main(dataset_dogs, dataset_breed_dogs, arquivos_jpg, dir_destino))\n",
    "except Exception as error:\n",
    "    warnings.warn(str(error), RuntimeWarning)"
   ]
  },
  {
   "cell_type": "code",
   "execution_count": 16,
   "metadata": {},
   "outputs": [],
   "source": [
    "dataset_dogs.to_csv('../../data/dogs_clean.csv')"
   ]
  },
  {
   "cell_type": "code",
   "execution_count": 17,
   "metadata": {},
   "outputs": [
    {
     "data": {
      "text/html": [
       "<div>\n",
       "<style scoped>\n",
       "    .dataframe tbody tr th:only-of-type {\n",
       "        vertical-align: middle;\n",
       "    }\n",
       "\n",
       "    .dataframe tbody tr th {\n",
       "        vertical-align: top;\n",
       "    }\n",
       "\n",
       "    .dataframe thead th {\n",
       "        text-align: right;\n",
       "    }\n",
       "</style>\n",
       "<table border=\"1\" class=\"dataframe\">\n",
       "  <thead>\n",
       "    <tr style=\"text-align: right;\">\n",
       "      <th></th>\n",
       "      <th>id</th>\n",
       "      <th>breed</th>\n",
       "    </tr>\n",
       "  </thead>\n",
       "  <tbody>\n",
       "    <tr>\n",
       "      <th>10220</th>\n",
       "      <td>ffe5f6d8e2bff356e9482a80a6e29aac</td>\n",
       "      <td>miniature_pinscher</td>\n",
       "    </tr>\n",
       "    <tr>\n",
       "      <th>10221</th>\n",
       "      <td>fff43b07992508bc822f33d8ffd902ae</td>\n",
       "      <td>chesapeake_bay_retriever</td>\n",
       "    </tr>\n",
       "  </tbody>\n",
       "</table>\n",
       "</div>"
      ],
      "text/plain": [
       "                                     id                     breed\n",
       "10220  ffe5f6d8e2bff356e9482a80a6e29aac        miniature_pinscher\n",
       "10221  fff43b07992508bc822f33d8ffd902ae  chesapeake_bay_retriever"
      ]
     },
     "execution_count": 17,
     "metadata": {},
     "output_type": "execute_result"
    }
   ],
   "source": [
    "dataset_breed_dogs.tail(2)"
   ]
  },
  {
   "cell_type": "code",
   "execution_count": 18,
   "metadata": {},
   "outputs": [
    {
     "data": {
      "text/html": [
       "<div>\n",
       "<style scoped>\n",
       "    .dataframe tbody tr th:only-of-type {\n",
       "        vertical-align: middle;\n",
       "    }\n",
       "\n",
       "    .dataframe tbody tr th {\n",
       "        vertical-align: top;\n",
       "    }\n",
       "\n",
       "    .dataframe thead th {\n",
       "        text-align: right;\n",
       "    }\n",
       "</style>\n",
       "<table border=\"1\" class=\"dataframe\">\n",
       "  <thead>\n",
       "    <tr style=\"text-align: right;\">\n",
       "      <th></th>\n",
       "      <th>AnimalName</th>\n",
       "      <th>AnimalGender</th>\n",
       "      <th>AnimalBirthMonth</th>\n",
       "      <th>BreedName</th>\n",
       "      <th>Borough</th>\n",
       "      <th>ZipCode</th>\n",
       "      <th>Image</th>\n",
       "    </tr>\n",
       "  </thead>\n",
       "  <tbody>\n",
       "    <tr>\n",
       "      <th>0</th>\n",
       "      <td>SHADOW</td>\n",
       "      <td>M</td>\n",
       "      <td>01/01/2000</td>\n",
       "      <td>silky_terrier</td>\n",
       "      <td>Gravataí/RS</td>\n",
       "      <td>94055030</td>\n",
       "      <td>/9j/4AAQSkZJRgABAQAAAQABAAD/2wBDAAoHBwgHBgoICA...</td>\n",
       "    </tr>\n",
       "    <tr>\n",
       "      <th>1</th>\n",
       "      <td>ROCCO</td>\n",
       "      <td>M</td>\n",
       "      <td>10/01/2011</td>\n",
       "      <td>bull_mastiff</td>\n",
       "      <td>Várzea Grande/MT</td>\n",
       "      <td>78115646</td>\n",
       "      <td>/9j/4AAQSkZJRgABAQAAAQABAAD/2wBDAAoHBwgHBgoICA...</td>\n",
       "    </tr>\n",
       "    <tr>\n",
       "      <th>2</th>\n",
       "      <td>LUIGI</td>\n",
       "      <td>M</td>\n",
       "      <td>09/01/2005</td>\n",
       "      <td>pembroke</td>\n",
       "      <td>Mossoró/RN</td>\n",
       "      <td>59633636</td>\n",
       "      <td>/9j/4AAQSkZJRgABAQAAAQABAAD/2wBDAAoHBwgHBgoICA...</td>\n",
       "    </tr>\n",
       "    <tr>\n",
       "      <th>3</th>\n",
       "      <td>PETUNIA</td>\n",
       "      <td>F</td>\n",
       "      <td>08/01/2013</td>\n",
       "      <td>cardigan</td>\n",
       "      <td>Mossoró/RN</td>\n",
       "      <td>59615377</td>\n",
       "      <td>/9j/4AAQSkZJRgABAQAAAQABAAD/2wBDAAoHBwgHBgoICA...</td>\n",
       "    </tr>\n",
       "    <tr>\n",
       "      <th>4</th>\n",
       "      <td>ROMEO</td>\n",
       "      <td>M</td>\n",
       "      <td>10/01/2008</td>\n",
       "      <td>rhodesian_ridgeback</td>\n",
       "      <td>Itaguaí/RJ</td>\n",
       "      <td>23840240</td>\n",
       "      <td>/9j/4AAQSkZJRgABAQAAAQABAAD/2wBDAAoHBwgHBgoICA...</td>\n",
       "    </tr>\n",
       "    <tr>\n",
       "      <th>5</th>\n",
       "      <td>BRANDY</td>\n",
       "      <td>M</td>\n",
       "      <td>01/01/2004</td>\n",
       "      <td>tibetan_mastiff</td>\n",
       "      <td>São Bernardo do Campo/SP</td>\n",
       "      <td>09821190</td>\n",
       "      <td>/9j/4AAQSkZJRgABAQAAAQABAAD/2wBDAAoHBwgHBgoICA...</td>\n",
       "    </tr>\n",
       "    <tr>\n",
       "      <th>6</th>\n",
       "      <td>SAM</td>\n",
       "      <td>M</td>\n",
       "      <td>05/01/2011</td>\n",
       "      <td>chihuahua</td>\n",
       "      <td>Florianópolis/SC</td>\n",
       "      <td>88090650</td>\n",
       "      <td>/9j/4AAQSkZJRgABAQAAAQABAAD/2wBDAAoHBwgHBgoICA...</td>\n",
       "    </tr>\n",
       "    <tr>\n",
       "      <th>7</th>\n",
       "      <td>MAY</td>\n",
       "      <td>F</td>\n",
       "      <td>05/01/2004</td>\n",
       "      <td>soft-coated_wheaten_terrier</td>\n",
       "      <td>Canoas/RS</td>\n",
       "      <td>92032694</td>\n",
       "      <td>/9j/4AAQSkZJRgABAQAAAQABAAD/2wBDAAoHBwgHBgoICA...</td>\n",
       "    </tr>\n",
       "    <tr>\n",
       "      <th>8</th>\n",
       "      <td>RUBY</td>\n",
       "      <td>F</td>\n",
       "      <td>04/01/2010</td>\n",
       "      <td>clumber</td>\n",
       "      <td>Vitória da Conquista/BA</td>\n",
       "      <td>45066012</td>\n",
       "      <td>/9j/4AAQSkZJRgABAQAAAQABAAD/2wBDAAoHBwgHBgoICA...</td>\n",
       "    </tr>\n",
       "    <tr>\n",
       "      <th>9</th>\n",
       "      <td>LEO</td>\n",
       "      <td>M</td>\n",
       "      <td>01/01/2014</td>\n",
       "      <td>lhasa</td>\n",
       "      <td>Porto Alegre/RS</td>\n",
       "      <td>91420400</td>\n",
       "      <td>/9j/4AAQSkZJRgABAQAAAQABAAD/2wBDAAoHBwgHBgoICA...</td>\n",
       "    </tr>\n",
       "  </tbody>\n",
       "</table>\n",
       "</div>"
      ],
      "text/plain": [
       "  AnimalName AnimalGender AnimalBirthMonth                    BreedName   \n",
       "0    SHADOW             M       01/01/2000                silky_terrier  \\\n",
       "1      ROCCO            M       10/01/2011                 bull_mastiff   \n",
       "2      LUIGI            M       09/01/2005                     pembroke   \n",
       "3    PETUNIA            F       08/01/2013                     cardigan   \n",
       "4      ROMEO            M       10/01/2008          rhodesian_ridgeback   \n",
       "5    BRANDY             M       01/01/2004              tibetan_mastiff   \n",
       "6        SAM            M       05/01/2011                    chihuahua   \n",
       "7       MAY             F       05/01/2004  soft-coated_wheaten_terrier   \n",
       "8       RUBY            F       04/01/2010                      clumber   \n",
       "9        LEO            M       01/01/2014                        lhasa   \n",
       "\n",
       "                    Borough   ZipCode   \n",
       "0               Gravataí/RS  94055030  \\\n",
       "1          Várzea Grande/MT  78115646   \n",
       "2                Mossoró/RN  59633636   \n",
       "3                Mossoró/RN  59615377   \n",
       "4                Itaguaí/RJ  23840240   \n",
       "5  São Bernardo do Campo/SP  09821190   \n",
       "6          Florianópolis/SC  88090650   \n",
       "7                 Canoas/RS  92032694   \n",
       "8   Vitória da Conquista/BA  45066012   \n",
       "9           Porto Alegre/RS  91420400   \n",
       "\n",
       "                                               Image  \n",
       "0  /9j/4AAQSkZJRgABAQAAAQABAAD/2wBDAAoHBwgHBgoICA...  \n",
       "1  /9j/4AAQSkZJRgABAQAAAQABAAD/2wBDAAoHBwgHBgoICA...  \n",
       "2  /9j/4AAQSkZJRgABAQAAAQABAAD/2wBDAAoHBwgHBgoICA...  \n",
       "3  /9j/4AAQSkZJRgABAQAAAQABAAD/2wBDAAoHBwgHBgoICA...  \n",
       "4  /9j/4AAQSkZJRgABAQAAAQABAAD/2wBDAAoHBwgHBgoICA...  \n",
       "5  /9j/4AAQSkZJRgABAQAAAQABAAD/2wBDAAoHBwgHBgoICA...  \n",
       "6  /9j/4AAQSkZJRgABAQAAAQABAAD/2wBDAAoHBwgHBgoICA...  \n",
       "7  /9j/4AAQSkZJRgABAQAAAQABAAD/2wBDAAoHBwgHBgoICA...  \n",
       "8  /9j/4AAQSkZJRgABAQAAAQABAAD/2wBDAAoHBwgHBgoICA...  \n",
       "9  /9j/4AAQSkZJRgABAQAAAQABAAD/2wBDAAoHBwgHBgoICA...  "
      ]
     },
     "execution_count": 18,
     "metadata": {},
     "output_type": "execute_result"
    }
   ],
   "source": [
    "dataset_dogs.head(10)"
   ]
  },
  {
   "cell_type": "code",
   "execution_count": 19,
   "metadata": {},
   "outputs": [],
   "source": [
    "dataset_dogs.to_csv('../../data/dogs_clean.csv')"
   ]
  }
 ],
 "metadata": {
  "kernelspec": {
   "display_name": "Python 3",
   "language": "python",
   "name": "python3"
  },
  "language_info": {
   "codemirror_mode": {
    "name": "ipython",
    "version": 3
   },
   "file_extension": ".py",
   "mimetype": "text/x-python",
   "name": "python",
   "nbconvert_exporter": "python",
   "pygments_lexer": "ipython3",
   "version": "3.10.10"
  },
  "orig_nbformat": 4,
  "vscode": {
   "interpreter": {
    "hash": "ead1b95f633dc9c51826328e1846203f51a198c6fb5f2884a80417ba131d4e82"
   }
  }
 },
 "nbformat": 4,
 "nbformat_minor": 2
}
