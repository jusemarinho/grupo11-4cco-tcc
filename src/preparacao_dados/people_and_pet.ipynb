{
 "cells": [
  {
   "cell_type": "code",
   "execution_count": 14,
   "metadata": {},
   "outputs": [],
   "source": [
    "import pandas as pd\n",
    "import numpy as np\n",
    "from tqdm import tqdm\n",
    "import json"
   ]
  },
  {
   "cell_type": "code",
   "execution_count": 2,
   "metadata": {},
   "outputs": [],
   "source": [
    "dataset_peoples = pd.read_csv('../data/peoples.csv')\n",
    "dataset_pets = pd.read_csv('../data/dataset_union.csv')"
   ]
  },
  {
   "cell_type": "code",
   "execution_count": 3,
   "metadata": {},
   "outputs": [],
   "source": [
    "uuids_peoples = dataset_peoples['ID'].to_list()\n",
    "ids_pets = dataset_pets['ID'].to_list()"
   ]
  },
  {
   "cell_type": "code",
   "execution_count": 4,
   "metadata": {},
   "outputs": [],
   "source": [
    "from collections import namedtuple\n",
    "\n",
    "Pet = namedtuple('Pet', ['id', 'animal_name', 'animal_gender', 'breed_name', 'borough', 'zip_code', 'type', 'image'])"
   ]
  },
  {
   "cell_type": "code",
   "execution_count": 5,
   "metadata": {},
   "outputs": [
    {
     "name": "stdout",
     "output_type": "stream",
     "text": [
      "134291\n"
     ]
    }
   ],
   "source": [
    "print(len(dataset_pets))"
   ]
  },
  {
   "cell_type": "code",
   "execution_count": 6,
   "metadata": {},
   "outputs": [
    {
     "name": "stderr",
     "output_type": "stream",
     "text": [
      "100%|██████████| 24500/24500 [00:02<00:00, 8273.40it/s]\n"
     ]
    }
   ],
   "source": [
    "dict_people_pet = {}\n",
    "\n",
    "# garantindo que todo usuário terá um animal\n",
    "for index, id in tqdm(enumerate(uuids_peoples), total=len(uuids_peoples)):\n",
    "    pet = dataset_pets.loc[dataset_pets.index[index]]\n",
    "    dict_people_pet[f\"{id}\"] = [Pet(id = pet['ID'], animal_name = pet['AnimalName'], animal_gender = pet['AnimalGender'], breed_name = pet['BreedName'], borough = pet['Borough'],  zip_code = str(pet['ZipCode']), type = pet['Type'], image = pet['Image'])]\n",
    "    # if index in dataset_pets.index:\n",
    "    #     dataset_pets = dataset_pets.drop(index)"
   ]
  },
  {
   "cell_type": "code",
   "execution_count": 7,
   "metadata": {},
   "outputs": [
    {
     "name": "stderr",
     "output_type": "stream",
     "text": [
      "Handing out pets...:  82%|████████▏ | 110193/134291 [06:09<01:20, 298.15it/s]"
     ]
    },
    {
     "name": "stdout",
     "output_type": "stream",
     "text": [
      "Done handing out pets!\n"
     ]
    },
    {
     "name": "stderr",
     "output_type": "stream",
     "text": [
      "\n"
     ]
    }
   ],
   "source": [
    "count_pets = len(ids_pets)\n",
    "count_users = len(uuids_peoples)\n",
    "people_keys = list(uuids_peoples)\n",
    "\n",
    "with tqdm(total=count_pets, desc=\"Handing out pets...\") as inner_tqdm:\n",
    "    for user_id in people_keys:\n",
    "        quantity_pets = np.random.randint(1, 9)\n",
    "        \n",
    "        pet_indices = np.random.choice(dataset_pets.index, size=quantity_pets, replace=False)\n",
    "        pets = []\n",
    "        \n",
    "        for pet_index in pet_indices:\n",
    "            pet = dataset_pets.loc[pet_index]\n",
    "            pets.append(Pet(id=pet['ID'], animal_name=pet['AnimalName'], animal_gender=pet['AnimalGender'], breed_name=pet['BreedName'], borough=pet['Borough'], zip_code=str(pet['ZipCode']), type=pet['Type'], image=pet['Image']))\n",
    "\n",
    "        dict_people_pet[user_id].extend(pets)\n",
    "        inner_tqdm.update(quantity_pets)\n",
    "\n",
    "        if len(dataset_pets) < quantity_pets:\n",
    "            break\n",
    "\n",
    "            # Marca os animais que foram distribuídos como indisponíveis\n",
    "        dataset_pets = dataset_pets.drop(index=pet_indices)\n",
    "\n",
    "print(\"Done handing out pets!\")\n",
    "        "
   ]
  },
  {
   "cell_type": "code",
   "execution_count": 11,
   "metadata": {},
   "outputs": [
    {
     "data": {
      "text/plain": [
       "24500"
      ]
     },
     "execution_count": 11,
     "metadata": {},
     "output_type": "execute_result"
    }
   ],
   "source": [
    "len(dict_people_pet)"
   ]
  },
  {
   "cell_type": "code",
   "execution_count": 12,
   "metadata": {},
   "outputs": [
    {
     "name": "stdout",
     "output_type": "stream",
     "text": [
      "134693\n"
     ]
    }
   ],
   "source": [
    "count_pets = 0\n",
    "\n",
    "for uuid_user in dict_people_pet:\n",
    "    for pet in dict_people_pet[uuid_user]:\n",
    "        count_pets += 1\n",
    "\n",
    "print(count_pets)"
   ]
  },
  {
   "cell_type": "code",
   "execution_count": null,
   "metadata": {},
   "outputs": [],
   "source": [
    "dict_converted = {}\n",
    "for key, value in dict_people_pet.items():\n",
    "    dict_converted[key] = [nt._asdict() for nt in value]"
   ]
  },
  {
   "cell_type": "code",
   "execution_count": 27,
   "metadata": {},
   "outputs": [
    {
     "name": "stdout",
     "output_type": "stream",
     "text": [
      "24500\n"
     ]
    }
   ],
   "source": [
    "print(len(dict_converted))"
   ]
  },
  {
   "cell_type": "code",
   "execution_count": 31,
   "metadata": {},
   "outputs": [],
   "source": [
    "class NumpyEncoder(json.JSONEncoder):\n",
    "    def default(self, obj):\n",
    "        if isinstance(obj, np.integer):\n",
    "            return int(obj)\n",
    "        elif isinstance(obj, np.floating):\n",
    "            return float(obj)\n",
    "        elif isinstance(obj, np.ndarray):\n",
    "            return obj.tolist()\n",
    "        return super(NumpyEncoder, self).default(obj)\n",
    "\n",
    "with open('../data/people_and_pet.json', 'w') as f:\n",
    "    json.dump(dict_converted, f, cls=NumpyEncoder)"
   ]
  }
 ],
 "metadata": {
  "kernelspec": {
   "display_name": "Python 3",
   "language": "python",
   "name": "python3"
  },
  "language_info": {
   "codemirror_mode": {
    "name": "ipython",
    "version": 3
   },
   "file_extension": ".py",
   "mimetype": "text/x-python",
   "name": "python",
   "nbconvert_exporter": "python",
   "pygments_lexer": "ipython3",
   "version": "3.10.10"
  },
  "orig_nbformat": 4,
  "vscode": {
   "interpreter": {
    "hash": "d2152fd7f0bbc62aa1baff8c990435d1e2c7175d001561303988032604c11a48"
   }
  }
 },
 "nbformat": 4,
 "nbformat_minor": 2
}
