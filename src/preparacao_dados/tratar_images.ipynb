{
 "cells": [
  {
   "cell_type": "code",
   "execution_count": 1,
   "metadata": {},
   "outputs": [],
   "source": [
    "import pandas as pd\n",
    "import numpy as np\n",
    "from tqdm import tqdm\n",
    "import boto3\n",
    "import base64\n",
    "from io import BytesIO\n",
    "from PIL import Image\n",
    "import os\n",
    "from dotenv import load_dotenv, find_dotenv"
   ]
  },
  {
   "cell_type": "code",
   "execution_count": 2,
   "metadata": {},
   "outputs": [
    {
     "data": {
      "text/plain": [
       "True"
      ]
     },
     "execution_count": 2,
     "metadata": {},
     "output_type": "execute_result"
    }
   ],
   "source": [
    "parent_dir = os.path.abspath(os.path.join(os.getcwd(), os.pardir))\n",
    "# Encontra o arquivo .env no diretório pai\n",
    "dotenv_path = find_dotenv()\n",
    "\n",
    "# Carrega as variáveis de ambiente do arquivo .env encontrado\n",
    "load_dotenv(dotenv_path)"
   ]
  },
  {
   "cell_type": "code",
   "execution_count": 3,
   "metadata": {},
   "outputs": [
    {
     "name": "stderr",
     "output_type": "stream",
     "text": [
      "/tmp/ipykernel_639266/1371852201.py:2: DtypeWarning: Columns (2,4) have mixed types. Specify dtype option on import or set low_memory=False.\n",
      "  dataset_pets = pd.read_csv('../data/dataset_union.csv')\n"
     ]
    }
   ],
   "source": [
    "dataset_peoples = pd.read_csv('../data/peoples.csv')\n",
    "dataset_pets = pd.read_csv('../data/dataset_union.csv')"
   ]
  },
  {
   "cell_type": "code",
   "execution_count": 4,
   "metadata": {},
   "outputs": [
    {
     "ename": "KeyError",
     "evalue": "'ID'",
     "output_type": "error",
     "traceback": [
      "\u001b[0;31m---------------------------------------------------------------------------\u001b[0m",
      "\u001b[0;31mKeyError\u001b[0m                                  Traceback (most recent call last)",
      "File \u001b[0;32m~/.local/lib/python3.10/site-packages/pandas/core/indexes/base.py:3802\u001b[0m, in \u001b[0;36mIndex.get_loc\u001b[0;34m(self, key, method, tolerance)\u001b[0m\n\u001b[1;32m   3801\u001b[0m \u001b[39mtry\u001b[39;00m:\n\u001b[0;32m-> 3802\u001b[0m     \u001b[39mreturn\u001b[39;00m \u001b[39mself\u001b[39;49m\u001b[39m.\u001b[39;49m_engine\u001b[39m.\u001b[39;49mget_loc(casted_key)\n\u001b[1;32m   3803\u001b[0m \u001b[39mexcept\u001b[39;00m \u001b[39mKeyError\u001b[39;00m \u001b[39mas\u001b[39;00m err:\n",
      "File \u001b[0;32m~/.local/lib/python3.10/site-packages/pandas/_libs/index.pyx:138\u001b[0m, in \u001b[0;36mpandas._libs.index.IndexEngine.get_loc\u001b[0;34m()\u001b[0m\n",
      "File \u001b[0;32m~/.local/lib/python3.10/site-packages/pandas/_libs/index.pyx:165\u001b[0m, in \u001b[0;36mpandas._libs.index.IndexEngine.get_loc\u001b[0;34m()\u001b[0m\n",
      "File \u001b[0;32mpandas/_libs/hashtable_class_helper.pxi:5745\u001b[0m, in \u001b[0;36mpandas._libs.hashtable.PyObjectHashTable.get_item\u001b[0;34m()\u001b[0m\n",
      "File \u001b[0;32mpandas/_libs/hashtable_class_helper.pxi:5753\u001b[0m, in \u001b[0;36mpandas._libs.hashtable.PyObjectHashTable.get_item\u001b[0;34m()\u001b[0m\n",
      "\u001b[0;31mKeyError\u001b[0m: 'ID'",
      "\nThe above exception was the direct cause of the following exception:\n",
      "\u001b[0;31mKeyError\u001b[0m                                  Traceback (most recent call last)",
      "Cell \u001b[0;32mIn[4], line 2\u001b[0m\n\u001b[1;32m      1\u001b[0m uuids_peoples \u001b[39m=\u001b[39m dataset_peoples[\u001b[39m'\u001b[39m\u001b[39mID\u001b[39m\u001b[39m'\u001b[39m]\u001b[39m.\u001b[39mto_list()\n\u001b[0;32m----> 2\u001b[0m ids_pets \u001b[39m=\u001b[39m dataset_pets[\u001b[39m'\u001b[39;49m\u001b[39mID\u001b[39;49m\u001b[39m'\u001b[39;49m]\u001b[39m.\u001b[39mto_list()\n",
      "File \u001b[0;32m~/.local/lib/python3.10/site-packages/pandas/core/frame.py:3807\u001b[0m, in \u001b[0;36mDataFrame.__getitem__\u001b[0;34m(self, key)\u001b[0m\n\u001b[1;32m   3805\u001b[0m \u001b[39mif\u001b[39;00m \u001b[39mself\u001b[39m\u001b[39m.\u001b[39mcolumns\u001b[39m.\u001b[39mnlevels \u001b[39m>\u001b[39m \u001b[39m1\u001b[39m:\n\u001b[1;32m   3806\u001b[0m     \u001b[39mreturn\u001b[39;00m \u001b[39mself\u001b[39m\u001b[39m.\u001b[39m_getitem_multilevel(key)\n\u001b[0;32m-> 3807\u001b[0m indexer \u001b[39m=\u001b[39m \u001b[39mself\u001b[39;49m\u001b[39m.\u001b[39;49mcolumns\u001b[39m.\u001b[39;49mget_loc(key)\n\u001b[1;32m   3808\u001b[0m \u001b[39mif\u001b[39;00m is_integer(indexer):\n\u001b[1;32m   3809\u001b[0m     indexer \u001b[39m=\u001b[39m [indexer]\n",
      "File \u001b[0;32m~/.local/lib/python3.10/site-packages/pandas/core/indexes/base.py:3804\u001b[0m, in \u001b[0;36mIndex.get_loc\u001b[0;34m(self, key, method, tolerance)\u001b[0m\n\u001b[1;32m   3802\u001b[0m     \u001b[39mreturn\u001b[39;00m \u001b[39mself\u001b[39m\u001b[39m.\u001b[39m_engine\u001b[39m.\u001b[39mget_loc(casted_key)\n\u001b[1;32m   3803\u001b[0m \u001b[39mexcept\u001b[39;00m \u001b[39mKeyError\u001b[39;00m \u001b[39mas\u001b[39;00m err:\n\u001b[0;32m-> 3804\u001b[0m     \u001b[39mraise\u001b[39;00m \u001b[39mKeyError\u001b[39;00m(key) \u001b[39mfrom\u001b[39;00m \u001b[39merr\u001b[39;00m\n\u001b[1;32m   3805\u001b[0m \u001b[39mexcept\u001b[39;00m \u001b[39mTypeError\u001b[39;00m:\n\u001b[1;32m   3806\u001b[0m     \u001b[39m# If we have a listlike key, _check_indexing_error will raise\u001b[39;00m\n\u001b[1;32m   3807\u001b[0m     \u001b[39m#  InvalidIndexError. Otherwise we fall through and re-raise\u001b[39;00m\n\u001b[1;32m   3808\u001b[0m     \u001b[39m#  the TypeError.\u001b[39;00m\n\u001b[1;32m   3809\u001b[0m     \u001b[39mself\u001b[39m\u001b[39m.\u001b[39m_check_indexing_error(key)\n",
      "\u001b[0;31mKeyError\u001b[0m: 'ID'"
     ]
    }
   ],
   "source": [
    "uuids_peoples = dataset_peoples['ID'].to_list()\n",
    "ids_pets = dataset_pets['ID'].to_list()"
   ]
  },
  {
   "cell_type": "code",
   "execution_count": null,
   "metadata": {},
   "outputs": [],
   "source": [
    "from collections import namedtuple\n",
    "\n",
    "Pet = namedtuple('Pet', ['id', 'animal_name', 'animal_gender', 'animal_birth_month', 'breed_name', 'borough', 'zip_code', 'type', 'image'])"
   ]
  },
  {
   "cell_type": "code",
   "execution_count": null,
   "metadata": {},
   "outputs": [],
   "source": [
    "print(len(dataset_pets))"
   ]
  },
  {
   "cell_type": "code",
   "execution_count": null,
   "metadata": {},
   "outputs": [],
   "source": [
    "dict_people_pet = {}\n",
    "\n",
    "# garantindo que todo usuário terá um animal\n",
    "for index, id in tqdm(enumerate(uuids_peoples), total=len(uuids_peoples)):\n",
    "    pet = dataset_pets.loc[dataset_pets.index[index]]\n",
    "    dict_people_pet[f\"{id}\"] = [Pet(id = pet['ID'], animal_name = pet['AnimalName'], animal_gender = pet['AnimalGender'], animal_birth_month = pet['AnimalBirthMonth'], breed_name = pet['BreedName'], borough = pet['Borough'],  zip_code = str(pet['ZipCode']), type = pet['Type'], image = pet['Image'])]\n",
    "    # if index in dataset_pets.index:\n",
    "    #     dataset_pets = dataset_pets.drop(index)"
   ]
  },
  {
   "cell_type": "code",
   "execution_count": null,
   "metadata": {},
   "outputs": [],
   "source": [
    "uuids_peoples = dataset_peoples['ID'].to_list()\n"
   ]
  },
  {
   "cell_type": "code",
   "execution_count": null,
   "metadata": {},
   "outputs": [],
   "source": [
    "# distribuir aleatoriamente os animais para os usuarios\n",
    "\n",
    "count_pets = len(ids_pets)\n",
    "count_users = len(uuids_peoples)\n",
    "\n",
    "\n",
    "count_pets_distributeds = 0\n",
    "tqdm_instance = tqdm(total=count_pets)\n",
    "\n",
    "dict_people_pet_final = {}\n",
    "\n",
    "count = 0\n",
    "\n",
    "\n",
    "while count_pets_distributeds < count_pets and len(uuids_peoples) > 0:\n",
    "    people_random = np.random.choice(uuids_peoples)\n",
    "    quantity_pets = np.random.randint(1, 9)\n",
    "\n",
    "    for _ in range(quantity_pets):\n",
    "        ids_pets = dataset_pets['ID'].to_list()\n",
    "        random_index = np.random.choice(ids_pets)\n",
    "        if random_index in dataset_pets.index:\n",
    "            pet = dataset_pets.loc[random_index]\n",
    "            dict_people_pet[people_random].append(Pet(id = pet['ID'], animal_name = pet['AnimalName'], animal_gender = pet['AnimalGender'], animal_birth_month = pet['AnimalBirthMonth'], breed_name = pet['BreedName'], borough = pet['Borough'],  zip_code = str(pet['ZipCode']), type = pet['Type'], image = pet['Image']))\n",
    "            dataset_pets = dataset_pets.drop(random_index)\n",
    "            tqdm_instance.update(1)\n",
    "\n",
    "    dict_people_pet_final[people_random] = dict_people_pet.pop(people_random)\n",
    "    uuids_peoples.remove(people_random)\n",
    "\n",
    "    count_pets_distributeds += quantity_pets"
   ]
  },
  {
   "cell_type": "code",
   "execution_count": null,
   "metadata": {},
   "outputs": [],
   "source": [
    "dict_people_pet_test = {}\n",
    "\n",
    "for user_id, pets in dict_people_pet_final.items():\n",
    "    if len(pets) > 1:\n",
    "        dict_people_pet_test[user_id] = pets"
   ]
  },
  {
   "cell_type": "code",
   "execution_count": null,
   "metadata": {},
   "outputs": [],
   "source": [
    "session = boto3.Session(\n",
    "    aws_access_key_id       = os.getenv('AWS_ACCESS_KEY_ID'),  \n",
    "    aws_secret_access_key   = os.getenv('AWS_SECRET_ACCESS_KEY'),\n",
    "    region_name             = os.getenv('AWS_DEFAULT_REGION'), \n",
    "    aws_session_token       = os.getenv('AWS_ACCESS_TOKEN')\n",
    ")"
   ]
  },
  {
   "cell_type": "code",
   "execution_count": null,
   "metadata": {},
   "outputs": [],
   "source": [
    "s3 = session.resource('s3')"
   ]
  },
  {
   "cell_type": "code",
   "execution_count": null,
   "metadata": {},
   "outputs": [],
   "source": [
    "def directory_exists(bucket_name, directory_name):\n",
    "    try:\n",
    "        s3.head_object(Bucket=bucket_name, Key=directory_name)\n",
    "        return True\n",
    "    except:\n",
    "        return False\n",
    "    \n",
    "def is_base64(text):\n",
    "    try:\n",
    "        base64.b64decode(text)\n",
    "        return True\n",
    "    except:\n",
    "        return False"
   ]
  },
  {
   "cell_type": "code",
   "execution_count": null,
   "metadata": {},
   "outputs": [],
   "source": [
    "bucket_name = 'pilha-nuvem-tcc-sptech-bucket'\n",
    "\n",
    "for user_id, pets in tqdm(dict_people_pet.items()):\n",
    "    user_folder = f\"train/{user_id}\"\n",
    "    if not directory_exists(bucket_name = bucket_name, directory_name = user_folder):\n",
    "        s3.Bucket(bucket_name).put_object(Key = user_folder + \"/\")\n",
    "        for pet in pets:\n",
    "            if is_base64(pet.image):\n",
    "                img_data = base64.b64decode(pet.image)\n",
    "                img = Image.open(BytesIO(img_data))\n",
    "                imagem_bytes = BytesIO()\n",
    "                img.save(imagem_bytes, format='JPEG')\n",
    "                imagem_bytes.seek(0)\n",
    "                s3.Bucket(bucket_name).put_object(Key=f\"{user_folder}/{pet.id}/{str(pet.animal_name).lower().strip()}_pet_image.jpg\", Body=imagem_bytes)\n"
   ]
  }
 ],
 "metadata": {
  "kernelspec": {
   "display_name": "Python 3",
   "language": "python",
   "name": "python3"
  },
  "language_info": {
   "codemirror_mode": {
    "name": "ipython",
    "version": 3
   },
   "file_extension": ".py",
   "mimetype": "text/x-python",
   "name": "python",
   "nbconvert_exporter": "python",
   "pygments_lexer": "ipython3",
   "version": "3.10.10"
  },
  "orig_nbformat": 4,
  "vscode": {
   "interpreter": {
    "hash": "d2152fd7f0bbc62aa1baff8c990435d1e2c7175d001561303988032604c11a48"
   }
  }
 },
 "nbformat": 4,
 "nbformat_minor": 2
}
