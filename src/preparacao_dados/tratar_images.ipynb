{
 "cells": [
  {
   "cell_type": "code",
   "execution_count": 1,
   "metadata": {},
   "outputs": [],
   "source": [
    "import pandas as pd\n",
    "import numpy as np\n",
    "from tqdm import tqdm\n",
    "import boto3\n",
    "import base64\n",
    "from io import BytesIO\n",
    "from PIL import Image\n",
    "import os\n",
    "from dotenv import load_dotenv, find_dotenv"
   ]
  },
  {
   "cell_type": "code",
   "execution_count": 2,
   "metadata": {},
   "outputs": [
    {
     "data": {
      "text/plain": [
       "True"
      ]
     },
     "execution_count": 2,
     "metadata": {},
     "output_type": "execute_result"
    }
   ],
   "source": [
    "parent_dir = os.path.abspath(os.path.join(os.getcwd(), os.pardir))\n",
    "# Encontra o arquivo .env no diretório pai\n",
    "dotenv_path = find_dotenv()\n",
    "\n",
    "# Carrega as variáveis de ambiente do arquivo .env encontrado\n",
    "load_dotenv(dotenv_path)"
   ]
  },
  {
   "cell_type": "code",
   "execution_count": 3,
   "metadata": {},
   "outputs": [],
   "source": [
    "dataset_peoples = pd.read_csv('../data/peoples.csv')\n",
    "dataset_pets = pd.read_csv('../data/dataset_union.csv')"
   ]
  },
  {
   "cell_type": "code",
   "execution_count": null,
   "metadata": {},
   "outputs": [],
   "source": [
    "uuids_peoples = dataset_peoples['ID'].to_list()\n",
    "ids_pets = dataset_pets['ID'].to_list()"
   ]
  },
  {
   "cell_type": "code",
   "execution_count": null,
   "metadata": {},
   "outputs": [],
   "source": [
    "from collections import namedtuple\n",
    "\n",
    "Pet = namedtuple('Pet', ['id', 'animal_name', 'animal_gender', 'breed_name', 'borough', 'zip_code', 'type', 'image'])"
   ]
  },
  {
   "cell_type": "code",
   "execution_count": null,
   "metadata": {},
   "outputs": [
    {
     "name": "stdout",
     "output_type": "stream",
     "text": [
      "134291\n"
     ]
    }
   ],
   "source": [
    "print(len(dataset_pets))"
   ]
  },
  {
   "cell_type": "code",
   "execution_count": null,
   "metadata": {},
   "outputs": [
    {
     "name": "stderr",
     "output_type": "stream",
     "text": [
      "100%|██████████| 24500/24500 [00:02<00:00, 8778.00it/s]\n"
     ]
    }
   ],
   "source": [
    "dict_people_pet = {}\n",
    "\n",
    "# garantindo que todo usuário terá um animal\n",
    "for index, id in tqdm(enumerate(uuids_peoples), total=len(uuids_peoples)):\n",
    "    pet = dataset_pets.loc[dataset_pets.index[index]]\n",
    "    dict_people_pet[f\"{id}\"] = [Pet(id = pet['ID'], animal_name = pet['AnimalName'], animal_gender = pet['AnimalGender'], breed_name = pet['BreedName'], borough = pet['Borough'],  zip_code = str(pet['ZipCode']), type = pet['Type'], image = pet['Image'])]\n",
    "    # if index in dataset_pets.index:\n",
    "    #     dataset_pets = dataset_pets.drop(index)"
   ]
  },
  {
   "cell_type": "code",
   "execution_count": null,
   "metadata": {},
   "outputs": [
    {
     "name": "stderr",
     "output_type": "stream",
     "text": [
      "Handing out pets...:   0%|          | 358/134291 [00:50<5:13:41,  7.12it/s]\n"
     ]
    },
    {
     "ename": "KeyboardInterrupt",
     "evalue": "",
     "output_type": "error",
     "traceback": [
      "\u001b[0;31m---------------------------------------------------------------------------\u001b[0m",
      "\u001b[0;31mKeyboardInterrupt\u001b[0m                         Traceback (most recent call last)",
      "Cell \u001b[0;32mIn[9], line 17\u001b[0m\n\u001b[1;32m     15\u001b[0m random_index \u001b[39m=\u001b[39m np\u001b[39m.\u001b[39mrandom\u001b[39m.\u001b[39mchoice(ids_pets)\n\u001b[1;32m     16\u001b[0m \u001b[39mif\u001b[39;00m random_index \u001b[39min\u001b[39;00m dataset_pets\u001b[39m.\u001b[39mindex:\n\u001b[0;32m---> 17\u001b[0m     pet \u001b[39m=\u001b[39m dataset_pets\u001b[39m.\u001b[39;49mloc[random_index]\n\u001b[1;32m     18\u001b[0m     dict_people_pet[people_random]\u001b[39m.\u001b[39mappend(Pet(\u001b[39mid\u001b[39m \u001b[39m=\u001b[39m pet[\u001b[39m'\u001b[39m\u001b[39mID\u001b[39m\u001b[39m'\u001b[39m], animal_name \u001b[39m=\u001b[39m pet[\u001b[39m'\u001b[39m\u001b[39mAnimalName\u001b[39m\u001b[39m'\u001b[39m], animal_gender \u001b[39m=\u001b[39m pet[\u001b[39m'\u001b[39m\u001b[39mAnimalGender\u001b[39m\u001b[39m'\u001b[39m], breed_name \u001b[39m=\u001b[39m pet[\u001b[39m'\u001b[39m\u001b[39mBreedName\u001b[39m\u001b[39m'\u001b[39m], borough \u001b[39m=\u001b[39m pet[\u001b[39m'\u001b[39m\u001b[39mBorough\u001b[39m\u001b[39m'\u001b[39m],  zip_code \u001b[39m=\u001b[39m \u001b[39mstr\u001b[39m(pet[\u001b[39m'\u001b[39m\u001b[39mZipCode\u001b[39m\u001b[39m'\u001b[39m]), \u001b[39mtype\u001b[39m \u001b[39m=\u001b[39m pet[\u001b[39m'\u001b[39m\u001b[39mType\u001b[39m\u001b[39m'\u001b[39m], image \u001b[39m=\u001b[39m pet[\u001b[39m'\u001b[39m\u001b[39mImage\u001b[39m\u001b[39m'\u001b[39m]))\n\u001b[1;32m     19\u001b[0m     dataset_pets \u001b[39m=\u001b[39m dataset_pets\u001b[39m.\u001b[39mdrop(index\u001b[39m=\u001b[39mrandom_index)\n",
      "File \u001b[0;32m~/.local/lib/python3.10/site-packages/pandas/core/indexing.py:287\u001b[0m, in \u001b[0;36mIndexingMixin.loc\u001b[0;34m(self)\u001b[0m\n\u001b[1;32m    150\u001b[0m \u001b[39m    \u001b[39m\u001b[39m\"\"\"\u001b[39;00m\n\u001b[1;32m    151\u001b[0m \u001b[39m    Purely integer-location based indexing for selection by position.\u001b[39;00m\n\u001b[1;32m    152\u001b[0m \n\u001b[0;32m   (...)\u001b[0m\n\u001b[1;32m    283\u001b[0m \u001b[39m    2  1000  3000\u001b[39;00m\n\u001b[1;32m    284\u001b[0m \u001b[39m    \"\"\"\u001b[39;00m\n\u001b[1;32m    285\u001b[0m     \u001b[39mreturn\u001b[39;00m _iLocIndexer(\u001b[39m\"\u001b[39m\u001b[39miloc\u001b[39m\u001b[39m\"\u001b[39m, \u001b[39mself\u001b[39m)\n\u001b[0;32m--> 287\u001b[0m \u001b[39m@property\u001b[39m\n\u001b[1;32m    288\u001b[0m \u001b[39mdef\u001b[39;00m \u001b[39mloc\u001b[39m(\u001b[39mself\u001b[39m) \u001b[39m-\u001b[39m\u001b[39m>\u001b[39m _LocIndexer:\n\u001b[1;32m    289\u001b[0m \u001b[39m    \u001b[39m\u001b[39m\"\"\"\u001b[39;00m\n\u001b[1;32m    290\u001b[0m \u001b[39m    Access a group of rows and columns by label(s) or a boolean array.\u001b[39;00m\n\u001b[1;32m    291\u001b[0m \n\u001b[0;32m   (...)\u001b[0m\n\u001b[1;32m    546\u001b[0m \u001b[39m    for more details and explanations of advanced indexing.\u001b[39;00m\n\u001b[1;32m    547\u001b[0m \u001b[39m    \"\"\"\u001b[39;00m\n\u001b[1;32m    548\u001b[0m     \u001b[39mreturn\u001b[39;00m _LocIndexer(\u001b[39m\"\u001b[39m\u001b[39mloc\u001b[39m\u001b[39m\"\u001b[39m, \u001b[39mself\u001b[39m)\n",
      "\u001b[0;31mKeyboardInterrupt\u001b[0m: "
     ]
    }
   ],
   "source": [
    "count_pets = len(ids_pets)\n",
    "count_users = len(uuids_peoples)\n",
    "\n",
    "count_pets_distributeds = 0\n",
    "\n",
    "dict_people_pet_final = {}\n",
    "\n",
    "with tqdm(total=count_pets, desc=f\"Handing out pets...\") as inner_tqdm:\n",
    "    while count_pets_distributeds < count_pets and len(uuids_peoples) > 0:\n",
    "        people_random = np.random.choice(uuids_peoples)\n",
    "        quantity_pets = np.random.randint(1, 9)\n",
    "\n",
    "        # Gera aleatoriamente uma lista de índices de animais\n",
    "        pet_indices = np.random.choice(dataset_pets.index, size=quantity_pets, replace=False)\n",
    "\n",
    "        for pet_index in pet_indices:\n",
    "            pet = dataset_pets.loc[pet_index]\n",
    "            dict_people_pet[people_random].append(Pet(id=pet['ID'], animal_name=pet['AnimalName'], animal_gender=pet['AnimalGender'], breed_name=pet['BreedName'], borough=pet['Borough'], zip_code=str(pet['ZipCode']), type=pet['Type'], image=pet['Image']))\n",
    "\n",
    "        # Cria um novo dataset com os animais que ainda não foram distribuídos, excluindo os animais distribuídos\n",
    "        dataset_pets = dataset_pets.drop(index=pet_indices)\n",
    "        \n",
    "        inner_tqdm.update(quantity_pets)\n",
    "        count_pets_distributeds += quantity_pets\n",
    "        dict_people_pet_final[people_random] = dict_people_pet.pop(people_random)\n",
    "        uuids_peoples.remove(people_random)"
   ]
  },
  {
   "cell_type": "code",
   "execution_count": null,
   "metadata": {},
   "outputs": [],
   "source": [
    "dict_people_pet_test = {}\n",
    "\n",
    "for user_id, pets in dict_people_pet_final.items():\n",
    "    if len(pets) > 1:\n",
    "        dict_people_pet_test[user_id] = pets"
   ]
  },
  {
   "cell_type": "code",
   "execution_count": null,
   "metadata": {},
   "outputs": [],
   "source": [
    "session = boto3.Session(\n",
    "    aws_access_key_id       = os.getenv('AWS_ACCESS_KEY_ID'),  \n",
    "    aws_secret_access_key   = os.getenv('AWS_SECRET_ACCESS_KEY'),\n",
    "    region_name             = os.getenv('AWS_DEFAULT_REGION'), \n",
    "    aws_session_token       = os.getenv('AWS_ACCESS_TOKEN')\n",
    ")"
   ]
  },
  {
   "cell_type": "code",
   "execution_count": null,
   "metadata": {},
   "outputs": [],
   "source": [
    "s3 = session.resource('s3')"
   ]
  },
  {
   "cell_type": "code",
   "execution_count": null,
   "metadata": {},
   "outputs": [],
   "source": [
    "def directory_exists(bucket_name, directory_name):\n",
    "    try:\n",
    "        s3.head_object(Bucket=bucket_name, Key=directory_name)\n",
    "        return True\n",
    "    except:\n",
    "        return False\n",
    "    \n",
    "def is_base64(text):\n",
    "    try:\n",
    "        base64.b64decode(text)\n",
    "        return True\n",
    "    except:\n",
    "        return False"
   ]
  },
  {
   "cell_type": "code",
   "execution_count": null,
   "metadata": {},
   "outputs": [],
   "source": [
    "bucket_name = 'pilha-nuvem-tcc-sptech-bucket'\n",
    "\n",
    "for user_id, pets in tqdm(dict_people_pet.items()):\n",
    "    user_folder = f\"train/{user_id}\"\n",
    "    if not directory_exists(bucket_name = bucket_name, directory_name = user_folder):\n",
    "        s3.Bucket(bucket_name).put_object(Key = user_folder + \"/\")\n",
    "        for pet in pets:\n",
    "            if is_base64(pet.image):\n",
    "                img_data = base64.b64decode(pet.image)\n",
    "                img = Image.open(BytesIO(img_data))\n",
    "                imagem_bytes = BytesIO()\n",
    "                img.save(imagem_bytes, format='JPEG')\n",
    "                imagem_bytes.seek(0)\n",
    "                s3.Bucket(bucket_name).put_object(Key=f\"{user_folder}/{pet.id}/{str(pet.animal_name).lower().strip()}_pet_image.jpg\", Body=imagem_bytes)\n"
   ]
  }
 ],
 "metadata": {
  "kernelspec": {
   "display_name": "Python 3",
   "language": "python",
   "name": "python3"
  },
  "language_info": {
   "codemirror_mode": {
    "name": "ipython",
    "version": 3
   },
   "file_extension": ".py",
   "mimetype": "text/x-python",
   "name": "python",
   "nbconvert_exporter": "python",
   "pygments_lexer": "ipython3",
   "version": "3.10.10"
  },
  "orig_nbformat": 4,
  "vscode": {
   "interpreter": {
    "hash": "d2152fd7f0bbc62aa1baff8c990435d1e2c7175d001561303988032604c11a48"
   }
  }
 },
 "nbformat": 4,
 "nbformat_minor": 2
}
