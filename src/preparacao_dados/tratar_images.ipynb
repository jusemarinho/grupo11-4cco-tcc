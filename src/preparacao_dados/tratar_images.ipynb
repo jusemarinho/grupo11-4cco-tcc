{
 "cells": [
  {
   "cell_type": "code",
   "execution_count": null,
   "metadata": {},
   "outputs": [],
   "source": [
    "import pandas as pd\n",
    "import numpy as np\n",
    "from tqdm import tqdm\n",
    "import boto3\n",
    "import base64\n",
    "from io import BytesIO\n",
    "from PIL import Image\n",
    "import os\n",
    "from dotenv import load_dotenv, find_dotenv"
   ]
  },
  {
   "cell_type": "code",
   "execution_count": null,
   "metadata": {},
   "outputs": [],
   "source": [
    "parent_dir = os.path.abspath(os.path.join(os.getcwd(), os.pardir))\n",
    "# Encontra o arquivo .env no diretório pai\n",
    "dotenv_path = find_dotenv()\n",
    "\n",
    "# Carrega as variáveis de ambiente do arquivo .env encontrado\n",
    "load_dotenv(dotenv_path)"
   ]
  },
  {
   "cell_type": "code",
   "execution_count": null,
   "metadata": {},
   "outputs": [],
   "source": [
    "dataset_peoples = pd.read_csv('../data/peoples.csv')\n",
    "dataset_pets = pd.read_csv('../data/dataset_union.csv')"
   ]
  },
  {
   "cell_type": "code",
   "execution_count": null,
   "metadata": {},
   "outputs": [],
   "source": [
    "uuids_peoples = dataset_peoples['ID'].to_list()\n",
    "ids_pets = dataset_pets['ID'].to_list()"
   ]
  },
  {
   "cell_type": "code",
   "execution_count": null,
   "metadata": {},
   "outputs": [],
   "source": [
    "from collections import namedtuple\n",
    "\n",
    "Pet = namedtuple('Pet', ['id', 'animal_name', 'animal_gender', 'animal_birth_month', 'breed_name', 'borough', 'zip_code', 'type', 'image'])"
   ]
  },
  {
   "cell_type": "code",
   "execution_count": null,
   "metadata": {},
   "outputs": [],
   "source": [
    "print(len(dataset_pets))"
   ]
  },
  {
   "cell_type": "code",
   "execution_count": null,
   "metadata": {},
   "outputs": [],
   "source": [
    "dict_people_pet = {}\n",
    "\n",
    "# garantindo que todo usuário terá um animal\n",
    "for index, id in tqdm(enumerate(uuids_peoples), total=len(uuids_peoples)):\n",
    "    pet = dataset_pets.loc[dataset_pets.index[index]]\n",
    "    dict_people_pet[f\"{id}\"] = [Pet(id = pet['ID'], animal_name = pet['AnimalName'], animal_gender = pet['AnimalGender'], animal_birth_month = pet['AnimalBirthMonth'], breed_name = pet['BreedName'], borough = pet['Borough'],  zip_code = str(pet['ZipCode']), type = pet['Type'], image = pet['Image'])]\n",
    "    # if index in dataset_pets.index:\n",
    "    #     dataset_pets = dataset_pets.drop(index)"
   ]
  },
  {
   "cell_type": "code",
   "execution_count": null,
   "metadata": {},
   "outputs": [],
   "source": [
    "uuids_peoples = dataset_peoples['ID'].to_list()\n"
   ]
  },
  {
   "cell_type": "code",
   "execution_count": null,
   "metadata": {},
   "outputs": [],
   "source": [
    "# distribuir aleatoriamente os animais para os usuarios\n",
    "\n",
    "count_pets = len(ids_pets)\n",
    "count_users = len(uuids_peoples)\n",
    "\n",
    "\n",
    "count_pets_distributeds = 0\n",
    "tqdm_instance = tqdm(total=count_pets)\n",
    "\n",
    "dict_people_pet_final = {}\n",
    "\n",
    "count = 0\n",
    "\n",
    "\n",
    "while count < 20:\n",
    "    people_random = np.random.choice(uuids_peoples)\n",
    "    quantity_pets = np.random.randint(1, 9)\n",
    "\n",
    "    for _ in range(quantity_pets):\n",
    "        ids_pets = dataset_pets['ID'].to_list()\n",
    "        random_index = np.random.choice(ids_pets)\n",
    "        if random_index in dataset_pets.index:\n",
    "            pet = dataset_pets.loc[random_index]\n",
    "            dict_people_pet[people_random].append(Pet(id = pet['ID'], animal_name = pet['AnimalName'], animal_gender = pet['AnimalGender'], animal_birth_month = pet['AnimalBirthMonth'], breed_name = pet['BreedName'], borough = pet['Borough'],  zip_code = str(pet['ZipCode']), type = pet['Type'], image = pet['Image']))\n",
    "            dataset_pets = dataset_pets.drop(random_index)\n",
    "            tqdm_instance.update(1)\n",
    "\n",
    "    dict_people_pet_final[people_random] = dict_people_pet.pop(people_random)\n",
    "    uuids_peoples.remove(people_random)\n",
    "\n",
    "    count_pets_distributeds += quantity_pets\n",
    "    count += 1"
   ]
  },
  {
   "cell_type": "code",
   "execution_count": null,
   "metadata": {},
   "outputs": [],
   "source": [
    "dict_people_pet_test = {}\n",
    "\n",
    "for user_id, pets in dict_people_pet_final.items():\n",
    "    if len(pets) > 1:\n",
    "        dict_people_pet_test[user_id] = pets"
   ]
  },
  {
   "cell_type": "code",
   "execution_count": null,
   "metadata": {},
   "outputs": [],
   "source": [
    "session = boto3.Session(\n",
    "    aws_access_key_id       = os.getenv('AWS_ACCESS_KEY_ID'),  \n",
    "    aws_secret_access_key   = os.getenv('AWS_SECRET_ACCESS_KEY'),\n",
    "    region_name             = os.getenv('AWS_DEFAULT_REGION'), \n",
    "    aws_session_token       = os.getenv('AWS_ACCESS_TOKEN')\n",
    ")"
   ]
  },
  {
   "cell_type": "code",
   "execution_count": null,
   "metadata": {},
   "outputs": [],
   "source": [
    "s3 = session.resource('s3')"
   ]
  },
  {
   "cell_type": "code",
   "execution_count": null,
   "metadata": {},
   "outputs": [],
   "source": [
    "def directory_exists(bucket_name, directory_name):\n",
    "    try:\n",
    "        s3.head_object(Bucket=bucket_name, Key=directory_name)\n",
    "        return True\n",
    "    except:\n",
    "        return False\n",
    "    \n",
    "def is_base64(text):\n",
    "    try:\n",
    "        base64.b64decode(text)\n",
    "        return True\n",
    "    except:\n",
    "        return False"
   ]
  },
  {
   "cell_type": "code",
   "execution_count": null,
   "metadata": {},
   "outputs": [],
   "source": [
    "bucket_name = 'pilha-nuvem-tcc-sptech-bucket'\n",
    "\n",
    "for user_id, pets in tqdm(dict_people_pet.items()):\n",
    "    user_folder = f\"train/{user_id}\"\n",
    "    if not directory_exists(bucket_name = bucket_name, directory_name = user_folder):\n",
    "        s3.Bucket(bucket_name).put_object(Key = user_folder + \"/\")\n",
    "        for pet in pets:\n",
    "            if is_base64(pet.image):\n",
    "                img_data = base64.b64decode(pet.image)\n",
    "                img = Image.open(BytesIO(img_data))\n",
    "                imagem_bytes = BytesIO()\n",
    "                img.save(imagem_bytes, format='JPEG')\n",
    "                imagem_bytes.seek(0)\n",
    "                s3.Bucket(bucket_name).put_object(Key=f\"{user_folder}/{pet.id}/{str(pet.animal_name).lower().strip()}_pet_image.jpg\", Body=imagem_bytes)\n"
   ]
  }
 ],
 "metadata": {
  "kernelspec": {
   "display_name": "Python 3.10.6 64-bit",
   "language": "python",
   "name": "python3"
  },
  "language_info": {
   "codemirror_mode": {
    "name": "ipython",
    "version": 3
   },
   "file_extension": ".py",
   "mimetype": "text/x-python",
   "name": "python",
   "nbconvert_exporter": "python",
   "pygments_lexer": "ipython3",
   "version": "3.10.6"
  },
  "orig_nbformat": 4,
  "vscode": {
   "interpreter": {
    "hash": "916dbcbb3f70747c44a77c7bcd40155683ae19c65e1c03b4aa3499c5328201f1"
   }
  }
 },
 "nbformat": 4,
 "nbformat_minor": 2
}
