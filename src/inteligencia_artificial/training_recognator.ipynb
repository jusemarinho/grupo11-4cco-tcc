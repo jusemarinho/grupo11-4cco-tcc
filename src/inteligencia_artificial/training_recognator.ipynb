{
 "cells": [
  {
   "cell_type": "code",
   "execution_count": 1,
   "metadata": {},
   "outputs": [
    {
     "name": "stderr",
     "output_type": "stream",
     "text": [
      "2023-09-12 22:35:06.827991: I tensorflow/tsl/cuda/cudart_stub.cc:28] Could not find cuda drivers on your machine, GPU will not be used.\n",
      "2023-09-12 22:35:06.859449: I tensorflow/tsl/cuda/cudart_stub.cc:28] Could not find cuda drivers on your machine, GPU will not be used.\n",
      "2023-09-12 22:35:06.859823: I tensorflow/core/platform/cpu_feature_guard.cc:182] This TensorFlow binary is optimized to use available CPU instructions in performance-critical operations.\n",
      "To enable the following instructions: AVX2 FMA, in other operations, rebuild TensorFlow with the appropriate compiler flags.\n",
      "2023-09-12 22:35:07.575848: W tensorflow/compiler/tf2tensorrt/utils/py_utils.cc:38] TF-TRT Warning: Could not find TensorRT\n"
     ]
    }
   ],
   "source": [
    "import tensorflow as tf\n",
    "from tensorflow.keras.preprocessing.image import ImageDataGenerator\n",
    "import numpy as np\n",
    "from find_image import FindImage\n",
    "import os\n",
    "from dotenv import load_dotenv\n",
    "import json "
   ]
  },
  {
   "cell_type": "code",
   "execution_count": 2,
   "metadata": {},
   "outputs": [
    {
     "data": {
      "text/plain": [
       "True"
      ]
     },
     "execution_count": 2,
     "metadata": {},
     "output_type": "execute_result"
    }
   ],
   "source": [
    "load_dotenv()"
   ]
  },
  {
   "cell_type": "code",
   "execution_count": 3,
   "metadata": {},
   "outputs": [],
   "source": [
    "s3 = FindImage(True, bucket_name=os.getenv(\"BUCKET_S3\"), resource_name=\"s3\")"
   ]
  },
  {
   "cell_type": "code",
   "execution_count": 4,
   "metadata": {},
   "outputs": [
    {
     "name": "stdout",
     "output_type": "stream",
     "text": [
      "Arquivo baixado: /home/patrick/SPTECH/TCC/grupo11-4cco-tcc/src/inteligencia_artificial/imgs_training/s/cat1/cat1-2.jpeg\n",
      "Arquivo baixado: /home/patrick/SPTECH/TCC/grupo11-4cco-tcc/src/inteligencia_artificial/imgs_training/s/cat1/cat1.jpeg\n",
      "Arquivo baixado: /home/patrick/SPTECH/TCC/grupo11-4cco-tcc/src/inteligencia_artificial/imgs_training/s/cat2/1abe9aa7-4609-4da5-8581-1d536383cc4b.jpg\n",
      "Arquivo baixado: /home/patrick/SPTECH/TCC/grupo11-4cco-tcc/src/inteligencia_artificial/imgs_training/s/cat2/208f056f-914d-497d-9c20-8afc6675a495.jpg\n",
      "Arquivo baixado: /home/patrick/SPTECH/TCC/grupo11-4cco-tcc/src/inteligencia_artificial/imgs_training/s/cat2/8914bcef-615f-4c0c-9b12-a9b4d04d72b3.jpg\n",
      "Arquivo baixado: /home/patrick/SPTECH/TCC/grupo11-4cco-tcc/src/inteligencia_artificial/imgs_training/s/cat2/97f8dd51-4157-4125-a42e-63a9e310880d.jpg\n",
      "Arquivo baixado: /home/patrick/SPTECH/TCC/grupo11-4cco-tcc/src/inteligencia_artificial/imgs_training/s/cat2/fiona1-2.jpeg\n",
      "Arquivo baixado: /home/patrick/SPTECH/TCC/grupo11-4cco-tcc/src/inteligencia_artificial/imgs_training/s/cat2/fiona1.jpeg\n",
      "Arquivo baixado: /home/patrick/SPTECH/TCC/grupo11-4cco-tcc/src/inteligencia_artificial/imgs_training/s/cat3/download.jpeg\n",
      "Arquivo baixado: /home/patrick/SPTECH/TCC/grupo11-4cco-tcc/src/inteligencia_artificial/imgs_training/s/cat4/05e5d5e8-353d-4e33-aa90-ed5c5c5a8c50.jpg\n",
      "Arquivo baixado: /home/patrick/SPTECH/TCC/grupo11-4cco-tcc/src/inteligencia_artificial/imgs_training/s/cat4/ca277c8d-05b1-4d24-a216-d30c0e21c274.jpg\n",
      "Arquivo baixado: /home/patrick/SPTECH/TCC/grupo11-4cco-tcc/src/inteligencia_artificial/imgs_training/s/cat4/cc25d127-3495-4044-9972-1b73f63efbdb.jpg\n",
      "Arquivo baixado: /home/patrick/SPTECH/TCC/grupo11-4cco-tcc/src/inteligencia_artificial/imgs_training/s/dog1/40da5b9d-ee0d-41b5-ab9e-654accfdaade.jpg\n",
      "Arquivo baixado: /home/patrick/SPTECH/TCC/grupo11-4cco-tcc/src/inteligencia_artificial/imgs_training/s/dog1/970075cf-56d0-4701-a610-e9b4c0a376c5.jpg\n",
      "Arquivo baixado: /home/patrick/SPTECH/TCC/grupo11-4cco-tcc/src/inteligencia_artificial/imgs_training/s/dog1/ad9bee09-3b35-448a-afec-e69a379453d3.jpg\n",
      "Arquivo baixado: /home/patrick/SPTECH/TCC/grupo11-4cco-tcc/src/inteligencia_artificial/imgs_training/s/dog1/afe88ad2-8dd3-40bb-a660-93ecf661a145.jpg\n",
      "Arquivo baixado: /home/patrick/SPTECH/TCC/grupo11-4cco-tcc/src/inteligencia_artificial/imgs_training/s/dog1/cd774949-7353-4af6-af04-f0b0e9ffaebe.jpg\n",
      "Arquivo baixado: /home/patrick/SPTECH/TCC/grupo11-4cco-tcc/src/inteligencia_artificial/imgs_training/s/dog2/3ea50b99-596c-4a61-b6c9-a69b6fc54349.jpg\n",
      "Arquivo baixado: /home/patrick/SPTECH/TCC/grupo11-4cco-tcc/src/inteligencia_artificial/imgs_training/s/dog2/cdcbce4e-80fa-419a-8098-1d9269a8ea39.jpg\n"
     ]
    }
   ],
   "source": [
    "# Ajustar o caminho para que o jupyter tenha permissão de escrita na pagina\n",
    "s3.download_images_training(os.getenv(\"IMGS_TRAINING\"), \"pets_test\")"
   ]
  },
  {
   "cell_type": "code",
   "execution_count": 5,
   "metadata": {},
   "outputs": [],
   "source": [
    "train_dir = '/home/patrick/SPTECH/TCC/grupo11-4cco-tcc/src/inteligencia_artificial/imgs_training/s'"
   ]
  },
  {
   "cell_type": "code",
   "execution_count": 6,
   "metadata": {},
   "outputs": [],
   "source": [
    "train_datagen = ImageDataGenerator(\n",
    "    rescale=1.0/255,  # Normalização das intensidades dos pixels\n",
    "    rotation_range=20,\n",
    "    width_shift_range=0.2,\n",
    "    height_shift_range=0.2,\n",
    "    shear_range=0.2,\n",
    "    zoom_range=0.2,\n",
    "    horizontal_flip=True,\n",
    "    fill_mode='nearest'\n",
    ")"
   ]
  },
  {
   "cell_type": "code",
   "execution_count": 7,
   "metadata": {},
   "outputs": [
    {
     "name": "stdout",
     "output_type": "stream",
     "text": [
      "Found 19 images belonging to 6 classes.\n"
     ]
    }
   ],
   "source": [
    "train_generator = train_datagen.flow_from_directory(\n",
    "    train_dir,\n",
    "    target_size=(224, 224),  # Tamanho das imagens (ajuste conforme necessário)\n",
    "    batch_size=32, # Em quantos pacotes/partes eu divido meu dataset \n",
    "    class_mode='categorical'  # Modo categórico para múltiplas classes\n",
    ")"
   ]
  },
  {
   "cell_type": "code",
   "execution_count": 8,
   "metadata": {},
   "outputs": [
    {
     "name": "stderr",
     "output_type": "stream",
     "text": [
      "2023-09-12 22:35:24.108254: I tensorflow/compiler/xla/stream_executor/cuda/cuda_gpu_executor.cc:995] successful NUMA node read from SysFS had negative value (-1), but there must be at least one NUMA node, so returning NUMA node zero. See more at https://github.com/torvalds/linux/blob/v6.0/Documentation/ABI/testing/sysfs-bus-pci#L344-L355\n",
      "2023-09-12 22:35:24.108603: W tensorflow/core/common_runtime/gpu/gpu_device.cc:1960] Cannot dlopen some GPU libraries. Please make sure the missing libraries mentioned above are installed properly if you would like to use GPU. Follow the guide at https://www.tensorflow.org/install/gpu for how to download and setup the required libraries for your platform.\n",
      "Skipping registering GPU devices...\n"
     ]
    }
   ],
   "source": [
    "base_model = tf.keras.applications.MobileNetV2(input_shape=(224, 224, 3), include_top=False, weights='imagenet')\n",
    "base_model.trainable = False\n",
    "\n",
    "model = tf.keras.Sequential([\n",
    "    base_model,\n",
    "    tf.keras.layers.GlobalAveragePooling2D(),\n",
    "    tf.keras.layers.Dense(256, activation='relu'),\n",
    "    tf.keras.layers.Dropout(0.5),\n",
    "    tf.keras.layers.Dense(train_generator.num_classes, activation='softmax')\n",
    "])"
   ]
  },
  {
   "cell_type": "code",
   "execution_count": 9,
   "metadata": {},
   "outputs": [],
   "source": [
    "model.compile(optimizer='adam', loss='categorical_crossentropy', metrics=['accuracy'])"
   ]
  },
  {
   "cell_type": "code",
   "execution_count": 10,
   "metadata": {},
   "outputs": [
    {
     "name": "stdout",
     "output_type": "stream",
     "text": [
      "Epoch 1/9\n",
      "1/1 [==============================] - 2s 2s/step - loss: 2.4961 - accuracy: 0.1053\n",
      "Epoch 2/9\n",
      "1/1 [==============================] - 1s 550ms/step - loss: 1.4275 - accuracy: 0.4211\n",
      "Epoch 3/9\n",
      "1/1 [==============================] - 1s 524ms/step - loss: 1.1769 - accuracy: 0.5263\n",
      "Epoch 4/9\n",
      "1/1 [==============================] - 1s 527ms/step - loss: 0.5915 - accuracy: 0.7368\n",
      "Epoch 5/9\n",
      "1/1 [==============================] - 1s 558ms/step - loss: 0.7122 - accuracy: 0.7895\n",
      "Epoch 6/9\n",
      "1/1 [==============================] - 1s 532ms/step - loss: 0.3899 - accuracy: 0.8947\n",
      "Epoch 7/9\n",
      "1/1 [==============================] - 1s 552ms/step - loss: 0.3439 - accuracy: 0.9474\n",
      "Epoch 8/9\n",
      "1/1 [==============================] - 1s 555ms/step - loss: 0.2373 - accuracy: 0.9474\n",
      "Epoch 9/9\n",
      "1/1 [==============================] - 1s 533ms/step - loss: 0.1841 - accuracy: 1.0000\n"
     ]
    },
    {
     "data": {
      "text/plain": [
       "<keras.src.callbacks.History at 0x7fca0c347430>"
      ]
     },
     "execution_count": 10,
     "metadata": {},
     "output_type": "execute_result"
    }
   ],
   "source": [
    "model.fit(train_generator, epochs=9)"
   ]
  },
  {
   "cell_type": "code",
   "execution_count": 11,
   "metadata": {},
   "outputs": [
    {
     "name": "stdout",
     "output_type": "stream",
     "text": [
      "['cat1', 'cat2', 'cat3', 'cat4', 'dog1', 'dog2']\n"
     ]
    }
   ],
   "source": [
    "class_labels = list(train_generator.class_indices.keys())\n",
    "print(class_labels)"
   ]
  },
  {
   "cell_type": "code",
   "execution_count": 18,
   "metadata": {},
   "outputs": [
    {
     "name": "stdout",
     "output_type": "stream",
     "text": [
      "{0: 'cat1', 1: 'cat2', 2: 'cat3', 3: 'cat4', 4: 'dog1', 5: 'dog2'}\n"
     ]
    }
   ],
   "source": [
    "dict_class_labels = {}\n",
    "for index, class_label in enumerate(class_labels):\n",
    "  dict_class_labels[index] = class_label\n",
    "\n",
    "print(dict_class_labels)"
   ]
  },
  {
   "cell_type": "code",
   "execution_count": 16,
   "metadata": {},
   "outputs": [],
   "source": [
    "class_names_file = 'class_names.json'\n",
    "with open(class_names_file, 'w') as file:\n",
    "    json.dump(dict_class_labels, file)"
   ]
  },
  {
   "cell_type": "code",
   "execution_count": 13,
   "metadata": {},
   "outputs": [
    {
     "name": "stderr",
     "output_type": "stream",
     "text": [
      "WARNING:absl:`mobilenetv2_1.00_224_input` is not a valid tf.function parameter name. Sanitizing to `mobilenetv2_1_00_224_input`.\n",
      "WARNING:absl:`mobilenetv2_1.00_224_input` is not a valid tf.function parameter name. Sanitizing to `mobilenetv2_1_00_224_input`.\n",
      "WARNING:absl:`mobilenetv2_1.00_224_input` is not a valid tf.function parameter name. Sanitizing to `mobilenetv2_1_00_224_input`.\n"
     ]
    },
    {
     "name": "stdout",
     "output_type": "stream",
     "text": [
      "INFO:tensorflow:Assets written to: /home/patrick/SPTECH/TCC/grupo11-4cco-tcc/src/inteligencia_artificial/modelv1/assets\n"
     ]
    },
    {
     "name": "stderr",
     "output_type": "stream",
     "text": [
      "INFO:tensorflow:Assets written to: /home/patrick/SPTECH/TCC/grupo11-4cco-tcc/src/inteligencia_artificial/modelv1/assets\n"
     ]
    }
   ],
   "source": [
    "model.save(os.getenv(\"MODEL_PATH\"))"
   ]
  }
 ],
 "metadata": {
  "kernelspec": {
   "display_name": "Python 3.10.6 64-bit",
   "language": "python",
   "name": "python3"
  },
  "language_info": {
   "codemirror_mode": {
    "name": "ipython",
    "version": 3
   },
   "file_extension": ".py",
   "mimetype": "text/x-python",
   "name": "python",
   "nbconvert_exporter": "python",
   "pygments_lexer": "ipython3",
   "version": "3.10.6"
  },
  "orig_nbformat": 4,
  "vscode": {
   "interpreter": {
    "hash": "916dbcbb3f70747c44a77c7bcd40155683ae19c65e1c03b4aa3499c5328201f1"
   }
  }
 },
 "nbformat": 4,
 "nbformat_minor": 2
}
