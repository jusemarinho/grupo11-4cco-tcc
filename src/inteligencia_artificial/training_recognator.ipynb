{
 "cells": [
  {
   "cell_type": "code",
   "execution_count": 1,
   "metadata": {},
   "outputs": [
    {
     "name": "stderr",
     "output_type": "stream",
     "text": [
      "2023-10-21 12:53:36.074148: E tensorflow/compiler/xla/stream_executor/cuda/cuda_dnn.cc:9342] Unable to register cuDNN factory: Attempting to register factory for plugin cuDNN when one has already been registered\n",
      "2023-10-21 12:53:36.074186: E tensorflow/compiler/xla/stream_executor/cuda/cuda_fft.cc:609] Unable to register cuFFT factory: Attempting to register factory for plugin cuFFT when one has already been registered\n",
      "2023-10-21 12:53:36.074210: E tensorflow/compiler/xla/stream_executor/cuda/cuda_blas.cc:1518] Unable to register cuBLAS factory: Attempting to register factory for plugin cuBLAS when one has already been registered\n",
      "2023-10-21 12:53:36.079456: I tensorflow/core/platform/cpu_feature_guard.cc:182] This TensorFlow binary is optimized to use available CPU instructions in performance-critical operations.\n",
      "To enable the following instructions: AVX2 FMA, in other operations, rebuild TensorFlow with the appropriate compiler flags.\n",
      "2023-10-21 12:53:36.971176: W tensorflow/compiler/tf2tensorrt/utils/py_utils.cc:38] TF-TRT Warning: Could not find TensorRT\n"
     ]
    }
   ],
   "source": [
    "import tensorflow as tf\n",
    "from tensorflow.keras.preprocessing.image import ImageDataGenerator\n",
    "from tensorflow.keras.optimizers import SGD\n",
    "from tensorflow.keras import layers\n",
    "from tensorflow.keras import models\n",
    "from tensorflow.keras.applications.vgg16 import VGG16, preprocess_input\n",
    "import numpy as np\n",
    "from find_image import FindImage\n",
    "import os\n",
    "from dotenv import load_dotenv\n",
    "import json "
   ]
  },
  {
   "cell_type": "code",
   "execution_count": 2,
   "metadata": {},
   "outputs": [
    {
     "data": {
      "text/plain": [
       "True"
      ]
     },
     "execution_count": 2,
     "metadata": {},
     "output_type": "execute_result"
    }
   ],
   "source": [
    "load_dotenv()"
   ]
  },
  {
   "cell_type": "code",
   "execution_count": 3,
   "metadata": {},
   "outputs": [],
   "source": [
    "s3 = FindImage(True, bucket_name=os.getenv(\"BUCKET_S3\"), resource_name=\"s3\")"
   ]
  },
  {
   "cell_type": "code",
   "execution_count": 4,
   "metadata": {},
   "outputs": [],
   "source": [
    "# Ajustar o caminho para que o jupyter tenha permissão de escrita na pagina\n",
    "# s3.download_images_training(os.getenv(\"IMGS_TRAINING\"), \"pets\")"
   ]
  },
  {
   "cell_type": "code",
   "execution_count": 5,
   "metadata": {},
   "outputs": [],
   "source": [
    "train_dir = '/home/patrick/SPTECH/TCC/grupo11-4cco-tcc/src/inteligencia_artificial/imgs_training/'"
   ]
  },
  {
   "cell_type": "code",
   "execution_count": 6,
   "metadata": {},
   "outputs": [],
   "source": [
    "train_datagen = ImageDataGenerator(\n",
    "    rotation_range=90, \n",
    "    brightness_range=[0.1, 0.7],\n",
    "    width_shift_range=0.5, \n",
    "    height_shift_range=0.5,\n",
    "    horizontal_flip=True, \n",
    "    vertical_flip=True,\n",
    "    validation_split=0.15,\n",
    "    preprocessing_function=preprocess_input, # VGG16 preprocessing\n",
    "    fill_mode='nearest'\n",
    ")"
   ]
  },
  {
   "cell_type": "code",
   "execution_count": 7,
   "metadata": {},
   "outputs": [
    {
     "name": "stdout",
     "output_type": "stream",
     "text": [
      "Found 60 images belonging to 15 classes.\n"
     ]
    }
   ],
   "source": [
    "BATCH_SIZE = 32\n",
    "train_generator = train_datagen.flow_from_directory(\n",
    "    train_dir, #diretorio com as img\n",
    "    target_size=(224, 224),  # Tamanho das imagens (ajuste conforme necessário)\n",
    "    batch_size=BATCH_SIZE, # Em quantos pacotes/partes eu divido meu dataset \n",
    "    class_mode='categorical',  # Modo categórico para múltiplas classes\n",
    "    subset='training', # Especifica que este é o gerador de treinamento\n",
    "    shuffle=True,\n",
    "    seed=42\n",
    ")"
   ]
  },
  {
   "cell_type": "code",
   "execution_count": 8,
   "metadata": {},
   "outputs": [
    {
     "name": "stderr",
     "output_type": "stream",
     "text": [
      "2023-10-21 12:53:38.537661: I tensorflow/compiler/xla/stream_executor/cuda/cuda_gpu_executor.cc:894] successful NUMA node read from SysFS had negative value (-1), but there must be at least one NUMA node, so returning NUMA node zero. See more at https://github.com/torvalds/linux/blob/v6.0/Documentation/ABI/testing/sysfs-bus-pci#L344-L355\n",
      "2023-10-21 12:53:38.561037: I tensorflow/compiler/xla/stream_executor/cuda/cuda_gpu_executor.cc:894] successful NUMA node read from SysFS had negative value (-1), but there must be at least one NUMA node, so returning NUMA node zero. See more at https://github.com/torvalds/linux/blob/v6.0/Documentation/ABI/testing/sysfs-bus-pci#L344-L355\n",
      "2023-10-21 12:53:38.561258: I tensorflow/compiler/xla/stream_executor/cuda/cuda_gpu_executor.cc:894] successful NUMA node read from SysFS had negative value (-1), but there must be at least one NUMA node, so returning NUMA node zero. See more at https://github.com/torvalds/linux/blob/v6.0/Documentation/ABI/testing/sysfs-bus-pci#L344-L355\n",
      "2023-10-21 12:53:38.562105: I tensorflow/compiler/xla/stream_executor/cuda/cuda_gpu_executor.cc:894] successful NUMA node read from SysFS had negative value (-1), but there must be at least one NUMA node, so returning NUMA node zero. See more at https://github.com/torvalds/linux/blob/v6.0/Documentation/ABI/testing/sysfs-bus-pci#L344-L355\n",
      "2023-10-21 12:53:38.562223: I tensorflow/compiler/xla/stream_executor/cuda/cuda_gpu_executor.cc:894] successful NUMA node read from SysFS had negative value (-1), but there must be at least one NUMA node, so returning NUMA node zero. See more at https://github.com/torvalds/linux/blob/v6.0/Documentation/ABI/testing/sysfs-bus-pci#L344-L355\n",
      "2023-10-21 12:53:38.562317: I tensorflow/compiler/xla/stream_executor/cuda/cuda_gpu_executor.cc:894] successful NUMA node read from SysFS had negative value (-1), but there must be at least one NUMA node, so returning NUMA node zero. See more at https://github.com/torvalds/linux/blob/v6.0/Documentation/ABI/testing/sysfs-bus-pci#L344-L355\n",
      "2023-10-21 12:53:38.627081: I tensorflow/compiler/xla/stream_executor/cuda/cuda_gpu_executor.cc:894] successful NUMA node read from SysFS had negative value (-1), but there must be at least one NUMA node, so returning NUMA node zero. See more at https://github.com/torvalds/linux/blob/v6.0/Documentation/ABI/testing/sysfs-bus-pci#L344-L355\n",
      "2023-10-21 12:53:38.627309: I tensorflow/compiler/xla/stream_executor/cuda/cuda_gpu_executor.cc:894] successful NUMA node read from SysFS had negative value (-1), but there must be at least one NUMA node, so returning NUMA node zero. See more at https://github.com/torvalds/linux/blob/v6.0/Documentation/ABI/testing/sysfs-bus-pci#L344-L355\n",
      "2023-10-21 12:53:38.627493: I tensorflow/compiler/xla/stream_executor/cuda/cuda_gpu_executor.cc:894] successful NUMA node read from SysFS had negative value (-1), but there must be at least one NUMA node, so returning NUMA node zero. See more at https://github.com/torvalds/linux/blob/v6.0/Documentation/ABI/testing/sysfs-bus-pci#L344-L355\n",
      "2023-10-21 12:53:38.627615: I tensorflow/core/common_runtime/gpu/gpu_device.cc:1886] Created device /job:localhost/replica:0/task:0/device:GPU:0 with 2754 MB memory:  -> device: 0, name: NVIDIA GeForce GTX 1650, pci bus id: 0000:01:00.0, compute capability: 7.5\n"
     ]
    }
   ],
   "source": [
    "vgg = VGG16(input_shape=(224,224,3), include_top = False, weights= 'imagenet', pooling='max')\n",
    "\n",
    "top_model = vgg.output\n",
    "top_model = layers.Flatten(name=\"flatten\")(top_model)\n",
    "top_model = layers.Dense(1024, activation='relu')(top_model)\n",
    "top_model = layers.BatchNormalization()(top_model)\n",
    "top_model = layers.Dense(512, activation='relu')(top_model)\n",
    "top_model = layers.Dropout(0.2)(top_model)\n",
    "output_layer = layers.Dense(train_generator.num_classes, activation='softmax')(top_model)\n",
    "\n",
    "model = models.Model(inputs=vgg.input, outputs=output_layer)"
   ]
  },
  {
   "cell_type": "code",
   "execution_count": 9,
   "metadata": {},
   "outputs": [],
   "source": [
    "model.compile(optimizer=SGD(learning_rate=0.001), loss='categorical_crossentropy', metrics=['accuracy'])"
   ]
  },
  {
   "cell_type": "code",
   "execution_count": 10,
   "metadata": {},
   "outputs": [
    {
     "name": "stdout",
     "output_type": "stream",
     "text": [
      "Epoch 1/30\n"
     ]
    },
    {
     "name": "stderr",
     "output_type": "stream",
     "text": [
      "2023-10-21 12:53:41.643174: I tensorflow/compiler/xla/stream_executor/cuda/cuda_dnn.cc:442] Loaded cuDNN version 8904\n",
      "2023-10-21 12:53:42.047098: W tensorflow/tsl/framework/bfc_allocator.cc:296] Allocator (GPU_0_bfc) ran out of memory trying to allocate 1.74GiB with freed_by_count=0. The caller indicates that this is not a failure, but this may mean that there could be performance gains if more memory were available.\n",
      "2023-10-21 12:53:42.631190: W tensorflow/tsl/framework/bfc_allocator.cc:296] Allocator (GPU_0_bfc) ran out of memory trying to allocate 3.04GiB with freed_by_count=0. The caller indicates that this is not a failure, but this may mean that there could be performance gains if more memory were available.\n",
      "2023-10-21 12:53:43.197595: W tensorflow/tsl/framework/bfc_allocator.cc:296] Allocator (GPU_0_bfc) ran out of memory trying to allocate 3.46GiB with freed_by_count=0. The caller indicates that this is not a failure, but this may mean that there could be performance gains if more memory were available.\n",
      "2023-10-21 12:53:43.387292: W tensorflow/tsl/framework/bfc_allocator.cc:296] Allocator (GPU_0_bfc) ran out of memory trying to allocate 3.46GiB with freed_by_count=0. The caller indicates that this is not a failure, but this may mean that there could be performance gains if more memory were available.\n",
      "2023-10-21 12:53:44.108129: W tensorflow/tsl/framework/bfc_allocator.cc:296] Allocator (GPU_0_bfc) ran out of memory trying to allocate 1.29GiB with freed_by_count=0. The caller indicates that this is not a failure, but this may mean that there could be performance gains if more memory were available.\n",
      "2023-10-21 12:53:45.176328: W tensorflow/tsl/framework/bfc_allocator.cc:296] Allocator (GPU_0_bfc) ran out of memory trying to allocate 1.74GiB with freed_by_count=0. The caller indicates that this is not a failure, but this may mean that there could be performance gains if more memory were available.\n",
      "2023-10-21 12:53:45.176371: W tensorflow/tsl/framework/bfc_allocator.cc:296] Allocator (GPU_0_bfc) ran out of memory trying to allocate 1.74GiB with freed_by_count=0. The caller indicates that this is not a failure, but this may mean that there could be performance gains if more memory were available.\n",
      "2023-10-21 12:53:45.176385: W tensorflow/tsl/framework/bfc_allocator.cc:296] Allocator (GPU_0_bfc) ran out of memory trying to allocate 2.55GiB with freed_by_count=0. The caller indicates that this is not a failure, but this may mean that there could be performance gains if more memory were available.\n",
      "2023-10-21 12:53:45.219969: W tensorflow/tsl/framework/bfc_allocator.cc:296] Allocator (GPU_0_bfc) ran out of memory trying to allocate 1.18GiB with freed_by_count=0. The caller indicates that this is not a failure, but this may mean that there could be performance gains if more memory were available.\n",
      "2023-10-21 12:53:45.846093: W tensorflow/tsl/framework/bfc_allocator.cc:296] Allocator (GPU_0_bfc) ran out of memory trying to allocate 2.34GiB with freed_by_count=0. The caller indicates that this is not a failure, but this may mean that there could be performance gains if more memory were available.\n",
      "2023-10-21 12:53:49.692433: I tensorflow/compiler/xla/service/service.cc:168] XLA service 0x7f9adc9406b0 initialized for platform CUDA (this does not guarantee that XLA will be used). Devices:\n",
      "2023-10-21 12:53:49.692464: I tensorflow/compiler/xla/service/service.cc:176]   StreamExecutor device (0): NVIDIA GeForce GTX 1650, Compute Capability 7.5\n",
      "2023-10-21 12:53:49.742479: I ./tensorflow/compiler/jit/device_compiler.h:186] Compiled cluster using XLA!  This line is logged at most once for the lifetime of the process.\n"
     ]
    },
    {
     "name": "stdout",
     "output_type": "stream",
     "text": [
      "2/2 [==============================] - 36s 15s/step - loss: 3.5367 - accuracy: 0.0333\n",
      "Epoch 2/30\n",
      "2/2 [==============================] - 2s 680ms/step - loss: 3.7630 - accuracy: 0.0333\n",
      "Epoch 3/30\n",
      "2/2 [==============================] - 2s 766ms/step - loss: 3.4026 - accuracy: 0.0833\n",
      "Epoch 4/30\n",
      "2/2 [==============================] - 2s 768ms/step - loss: 3.3354 - accuracy: 0.0333\n",
      "Epoch 5/30\n",
      "2/2 [==============================] - 2s 682ms/step - loss: 3.0736 - accuracy: 0.1000\n",
      "Epoch 6/30\n",
      "2/2 [==============================] - 2s 677ms/step - loss: 3.2399 - accuracy: 0.1333\n",
      "Epoch 7/30\n",
      "2/2 [==============================] - 2s 677ms/step - loss: 3.3305 - accuracy: 0.0333\n",
      "Epoch 8/30\n",
      "2/2 [==============================] - 2s 765ms/step - loss: 3.1069 - accuracy: 0.1333\n",
      "Epoch 9/30\n",
      "2/2 [==============================] - 2s 680ms/step - loss: 3.0413 - accuracy: 0.0833\n",
      "Epoch 10/30\n",
      "2/2 [==============================] - 2s 764ms/step - loss: 3.0221 - accuracy: 0.1000\n",
      "Epoch 11/30\n",
      "2/2 [==============================] - 2s 682ms/step - loss: 3.0163 - accuracy: 0.1500\n",
      "Epoch 12/30\n",
      "2/2 [==============================] - 2s 679ms/step - loss: 2.7763 - accuracy: 0.1333\n",
      "Epoch 13/30\n",
      "2/2 [==============================] - 2s 683ms/step - loss: 3.0618 - accuracy: 0.1167\n",
      "Epoch 14/30\n",
      "2/2 [==============================] - 2s 765ms/step - loss: 3.0958 - accuracy: 0.0833\n",
      "Epoch 15/30\n",
      "2/2 [==============================] - 2s 772ms/step - loss: 2.8642 - accuracy: 0.1000\n",
      "Epoch 16/30\n",
      "2/2 [==============================] - 2s 687ms/step - loss: 3.1876 - accuracy: 0.1000\n",
      "Epoch 17/30\n",
      "2/2 [==============================] - 2s 688ms/step - loss: 3.1378 - accuracy: 0.0667\n",
      "Epoch 18/30\n",
      "2/2 [==============================] - 2s 683ms/step - loss: 2.9423 - accuracy: 0.1667\n",
      "Epoch 19/30\n",
      "2/2 [==============================] - 2s 770ms/step - loss: 2.9777 - accuracy: 0.1167\n",
      "Epoch 20/30\n",
      "2/2 [==============================] - 2s 770ms/step - loss: 2.8993 - accuracy: 0.1500\n",
      "Epoch 21/30\n",
      "2/2 [==============================] - 2s 767ms/step - loss: 3.1155 - accuracy: 0.0500\n",
      "Epoch 22/30\n",
      "2/2 [==============================] - 2s 687ms/step - loss: 2.8937 - accuracy: 0.2000\n",
      "Epoch 23/30\n",
      "2/2 [==============================] - 2s 773ms/step - loss: 3.0037 - accuracy: 0.0667\n",
      "Epoch 24/30\n",
      "2/2 [==============================] - 2s 776ms/step - loss: 2.8410 - accuracy: 0.1167\n",
      "Epoch 25/30\n",
      "2/2 [==============================] - 2s 771ms/step - loss: 2.9173 - accuracy: 0.1667\n",
      "Epoch 26/30\n",
      "2/2 [==============================] - 2s 773ms/step - loss: 2.8716 - accuracy: 0.1333\n",
      "Epoch 27/30\n",
      "2/2 [==============================] - 2s 680ms/step - loss: 2.7171 - accuracy: 0.1667\n",
      "Epoch 28/30\n",
      "2/2 [==============================] - 2s 687ms/step - loss: 2.8362 - accuracy: 0.0667\n",
      "Epoch 29/30\n",
      "2/2 [==============================] - 2s 769ms/step - loss: 2.6495 - accuracy: 0.1333\n",
      "Epoch 30/30\n",
      "2/2 [==============================] - 2s 680ms/step - loss: 2.7823 - accuracy: 0.1167\n"
     ]
    },
    {
     "data": {
      "text/plain": [
       "<keras.src.callbacks.History at 0x7f9bba95c280>"
      ]
     },
     "execution_count": 10,
     "metadata": {},
     "output_type": "execute_result"
    }
   ],
   "source": [
    "model.fit(train_generator,\n",
    "  batch_size=BATCH_SIZE,\n",
    "  epochs=30)"
   ]
  },
  {
   "cell_type": "code",
   "execution_count": 11,
   "metadata": {},
   "outputs": [
    {
     "name": "stdout",
     "output_type": "stream",
     "text": [
      "['6531dfe2ebaec4837b4f1f9c', '6531e147ebaec4837b4f1fb6', '6531e1d1ebaec4837b4f1fcb', '6531e32aebaec4837b4f1fe6', '6531e434ebaec4837b4f2001', '6531e4a1ebaec4837b4f2022', '6531e520ebaec4837b4f203b', '6531e677ebaec4837b4f2064', '6531e76febaec4837b4f207f', '6531e7deebaec4837b4f2096', '6531e84cebaec4837b4f20ab', '6531ea71ebaec4837b4f20c5', '6531ead5ebaec4837b4f20da', '6531eb3aebaec4837b4f20ef', '6531f14e6cf94bd6b850ea90']\n"
     ]
    }
   ],
   "source": [
    "class_labels = list(train_generator.class_indices.keys())\n",
    "print(class_labels)"
   ]
  },
  {
   "cell_type": "code",
   "execution_count": 12,
   "metadata": {},
   "outputs": [
    {
     "name": "stdout",
     "output_type": "stream",
     "text": [
      "{0: '6531dfe2ebaec4837b4f1f9c', 1: '6531e147ebaec4837b4f1fb6', 2: '6531e1d1ebaec4837b4f1fcb', 3: '6531e32aebaec4837b4f1fe6', 4: '6531e434ebaec4837b4f2001', 5: '6531e4a1ebaec4837b4f2022', 6: '6531e520ebaec4837b4f203b', 7: '6531e677ebaec4837b4f2064', 8: '6531e76febaec4837b4f207f', 9: '6531e7deebaec4837b4f2096', 10: '6531e84cebaec4837b4f20ab', 11: '6531ea71ebaec4837b4f20c5', 12: '6531ead5ebaec4837b4f20da', 13: '6531eb3aebaec4837b4f20ef', 14: '6531f14e6cf94bd6b850ea90'}\n"
     ]
    }
   ],
   "source": [
    "dict_class_labels = {}\n",
    "for index, class_label in enumerate(class_labels):\n",
    "  dict_class_labels[index] = class_label\n",
    "\n",
    "print(dict_class_labels)"
   ]
  },
  {
   "cell_type": "code",
   "execution_count": 13,
   "metadata": {},
   "outputs": [],
   "source": [
    "class_names_file = 'class_names.json'\n",
    "with open(class_names_file, 'w') as file:\n",
    "    json.dump(dict_class_labels, file)"
   ]
  },
  {
   "cell_type": "code",
   "execution_count": 16,
   "metadata": {},
   "outputs": [
    {
     "name": "stdout",
     "output_type": "stream",
     "text": [
      "INFO:tensorflow:Assets written to: /home/patrick/SPTECH/TCC/grupo11-4cco-tcc/src/inteligencia_artificial/modelv1/assets\n"
     ]
    },
    {
     "name": "stderr",
     "output_type": "stream",
     "text": [
      "INFO:tensorflow:Assets written to: /home/patrick/SPTECH/TCC/grupo11-4cco-tcc/src/inteligencia_artificial/modelv1/assets\n"
     ]
    }
   ],
   "source": [
    "model.save(os.getenv(\"MODEL_PATH\"))"
   ]
  }
 ],
 "metadata": {
  "kernelspec": {
   "display_name": "Python 3.10.6 64-bit",
   "language": "python",
   "name": "python3"
  },
  "language_info": {
   "codemirror_mode": {
    "name": "ipython",
    "version": 3
   },
   "file_extension": ".py",
   "mimetype": "text/x-python",
   "name": "python",
   "nbconvert_exporter": "python",
   "pygments_lexer": "ipython3",
   "version": "3.10.12"
  },
  "orig_nbformat": 4,
  "vscode": {
   "interpreter": {
    "hash": "916dbcbb3f70747c44a77c7bcd40155683ae19c65e1c03b4aa3499c5328201f1"
   }
  }
 },
 "nbformat": 4,
 "nbformat_minor": 2
}
