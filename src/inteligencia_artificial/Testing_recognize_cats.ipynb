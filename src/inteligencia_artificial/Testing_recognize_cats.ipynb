{
  "cells": [
    {
      "cell_type": "code",
      "execution_count": 1,
      "metadata": {
        "id": "TBLCuF2KwnZ1"
      },
      "outputs": [],
      "source": [
        "import cv2\n",
        "from find_image import FindImage"
      ]
    },
    {
      "cell_type": "code",
      "execution_count": 2,
      "metadata": {},
      "outputs": [],
      "source": [
        "find_image = FindImage(False)"
      ]
    },
    {
      "cell_type": "code",
      "execution_count": 3,
      "metadata": {
        "id": "Hz8aPFukxT2m"
      },
      "outputs": [],
      "source": [
        "img = find_image.find('6da4c7ee12790d8047e82c7750884780')\n",
        "gray = cv2.cvtColor(img, cv2.COLOR_BGR2GRAY)\n"
      ]
    },
    {
      "cell_type": "code",
      "execution_count": 4,
      "metadata": {
        "id": "Ut7t1voIxnZC"
      },
      "outputs": [],
      "source": [
        "face_cascade = cv2.CascadeClassifier(cv2.data.haarcascades + 'cascade.xml')\n",
        "faces = face_cascade.detectMultiScale(gray, scaleFactor=1.1, minNeighbors=1, minSize=(100,100))"
      ]
    },
    {
      "cell_type": "code",
      "execution_count": 5,
      "metadata": {
        "colab": {
          "base_uri": "https://localhost:8080/",
          "height": 193
        },
        "id": "Epj9WLUwyqGx",
        "outputId": "72627a43-a8b3-476f-9da8-475f11ac0cc3"
      },
      "outputs": [],
      "source": [
        "known_cat = find_image.find('50fcbd042ae9a24e3afd5cbb8e1e4542')\n",
        "known_cat_gray = cv2.cvtColor(known_cat, cv2.COLOR_BGR2GRAY)"
      ]
    },
    {
      "cell_type": "code",
      "execution_count": 6,
      "metadata": {
        "colab": {
          "base_uri": "https://localhost:8080/"
        },
        "id": "7dooDB8hy8on",
        "outputId": "d37f3f3b-6908-4e2c-fdf5-3a55568b1015"
      },
      "outputs": [],
      "source": [
        "known_face_cascade = cv2.CascadeClassifier(cv2.data.haarcascades + 'cascade.xml')\n",
        "known_face_rects = face_cascade.detectMultiScale(known_cat_gray, scaleFactor=1.1, minNeighbors=1)"
      ]
    },
    {
      "cell_type": "code",
      "execution_count": 7,
      "metadata": {
        "id": "1ITIwEIMzQUZ"
      },
      "outputs": [],
      "source": [
        "for (x, y, w, h) in known_face_rects:\n",
        "    known_face_roi = known_cat_gray[y:y+h, x:x+w]\n",
        "    known_face_roi = cv2.resize(known_face_roi, (150, 150))\n",
        "    break\n",
        "else:\n",
        "    raise Exception(\"Não foi possível encontrar o rosto que se deseja reconhecer\")"
      ]
    },
    {
      "cell_type": "code",
      "execution_count": 8,
      "metadata": {
        "colab": {
          "base_uri": "https://localhost:8080/",
          "height": 469
        },
        "id": "DqwcgEyYziAY",
        "outputId": "29727bca-0963-48e3-e092-c724938fefcd"
      },
      "outputs": [
        {
          "name": "stdout",
          "output_type": "stream",
          "text": [
            "[[-0.04290152]]\n",
            "[[0.00079856]]\n",
            "[[-0.01386347]]\n",
            "[[0.12339736]]\n"
          ]
        }
      ],
      "source": [
        "for (x, y, w, h) in faces:\n",
        "    face_roi = gray[y:y+h, x:x+w]\n",
        "    face_roi = cv2.resize(face_roi, (150, 150))\n",
        "\n",
        "    result = cv2.matchTemplate(known_face_roi, face_roi, cv2.TM_CCOEFF_NORMED)\n",
        "    print(result)\n",
        "    if result[0][0] > 0.7:\n",
        "        cv2.rectangle(img, (x, y), (x+w, y+h), (0, 255, 0), 2)\n",
        "\n",
        "\n",
        "cv2.imshow('Image', img)\n",
        "cv2.waitKey(0)\n",
        "cv2.destroyAllWindows()"
      ]
    },
    {
      "cell_type": "code",
      "execution_count": null,
      "metadata": {},
      "outputs": [],
      "source": []
    }
  ],
  "metadata": {
    "colab": {
      "provenance": []
    },
    "kernelspec": {
      "display_name": "Python 3",
      "name": "python3"
    },
    "language_info": {
      "name": "python"
    }
  },
  "nbformat": 4,
  "nbformat_minor": 0
}
