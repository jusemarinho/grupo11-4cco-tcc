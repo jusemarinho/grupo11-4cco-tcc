{
 "cells": [
  {
   "cell_type": "code",
   "execution_count": 4,
   "metadata": {},
   "outputs": [],
   "source": [
    "from tensorflow.keras.preprocessing import image\n",
    "import tensorflow as tf\n",
    "import numpy as np\n",
    "import os\n",
    "from dotenv import load_dotenv\n",
    "from find_image import FindImage\n",
    "import botocore\n",
    "import json"
   ]
  },
  {
   "cell_type": "code",
   "execution_count": 5,
   "metadata": {},
   "outputs": [
    {
     "data": {
      "text/plain": [
       "True"
      ]
     },
     "execution_count": 5,
     "metadata": {},
     "output_type": "execute_result"
    }
   ],
   "source": [
    "load_dotenv()"
   ]
  },
  {
   "cell_type": "code",
   "execution_count": 6,
   "metadata": {},
   "outputs": [
    {
     "name": "stderr",
     "output_type": "stream",
     "text": [
      "2023-09-12 22:45:55.081568: I tensorflow/compiler/xla/stream_executor/cuda/cuda_gpu_executor.cc:995] successful NUMA node read from SysFS had negative value (-1), but there must be at least one NUMA node, so returning NUMA node zero. See more at https://github.com/torvalds/linux/blob/v6.0/Documentation/ABI/testing/sysfs-bus-pci#L344-L355\n",
      "2023-09-12 22:45:55.081878: W tensorflow/core/common_runtime/gpu/gpu_device.cc:1960] Cannot dlopen some GPU libraries. Please make sure the missing libraries mentioned above are installed properly if you would like to use GPU. Follow the guide at https://www.tensorflow.org/install/gpu for how to download and setup the required libraries for your platform.\n",
      "Skipping registering GPU devices...\n"
     ]
    }
   ],
   "source": [
    "# Loading model\n",
    "loaded_model = tf.keras.models.load_model(os.getenv('MODEL_PATH'))"
   ]
  },
  {
   "cell_type": "code",
   "execution_count": 7,
   "metadata": {},
   "outputs": [],
   "source": [
    "with open('class_names.json', 'r') as file:\n",
    "    class_names_generated = json.load(file)"
   ]
  },
  {
   "cell_type": "code",
   "execution_count": 13,
   "metadata": {},
   "outputs": [],
   "source": [
    "def match_pet():\n",
    "  # Carregando e redimensionando a imagem\n",
    "  img = image.load_img(os.getenv('PATH_DOWNLOADED_IMG'), target_size=(224, 224))\n",
    "  img_array = image.img_to_array(img)\n",
    "  img_array = np.expand_dims(img_array, axis=0)\n",
    "  img_array /= 255.0  # Normalização\n",
    "\n",
    "  # Fazendo a previsão\n",
    "  prediction = loaded_model.predict(img_array)\n",
    "  \n",
    "  # Obtendo a classe prevista\n",
    "  predicted_class_index = np.argmax(prediction)\n",
    "\n",
    "  # Obtendo o nome da classe\n",
    "  predicted_class = class_names_generated[f\"{predicted_class_index}\"]\n",
    "\n",
    "\n",
    "  # Imprimindo a classe prevista\n",
    "  print(predicted_class)"
   ]
  },
  {
   "cell_type": "code",
   "execution_count": 14,
   "metadata": {},
   "outputs": [
    {
     "name": "stdout",
     "output_type": "stream",
     "text": [
      "/home/patrick/SPTECH/TCC/grupo11-4cco-tcc/src/inteligencia_artificial/imgs_test/dog1.jpg\n",
      "Arquivo baixado com sucesso.\n",
      "1/1 [==============================] - 0s 24ms/step\n",
      "dog1\n"
     ]
    }
   ],
   "source": [
    "s3 = FindImage(flag=True, bucket_name=os.getenv(\"BUCKET_S3\"), resource_name=\"s3\")\n",
    "\n",
    "try:\n",
    "    print(os.getenv('PATH_DOWNLOADED_IMG'))\n",
    "    #s3.download(os.getenv('FILE_KEY'), os.getenv('PATH_DOWNLOADED_IMG'))\n",
    "    print(f\"Arquivo baixado com sucesso.\")\n",
    "    match_pet()\n",
    "except botocore.exceptions.NoCredentialsError:\n",
    "    print(\"Credenciais não encontradas ou inválidas.\")\n",
    "except botocore.exceptions.ClientError as e:\n",
    "    if e.response[\"Error\"][\"Code\"] == \"404\":\n",
    "        print(\"O arquivo não foi encontrado no bucket.\")\n",
    "    else:\n",
    "        print(\"Erro desconhecido ao baixar o arquivo:\", e)"
   ]
  }
 ],
 "metadata": {
  "kernelspec": {
   "display_name": "Python 3.10.6 64-bit",
   "language": "python",
   "name": "python3"
  },
  "language_info": {
   "codemirror_mode": {
    "name": "ipython",
    "version": 3
   },
   "file_extension": ".py",
   "mimetype": "text/x-python",
   "name": "python",
   "nbconvert_exporter": "python",
   "pygments_lexer": "ipython3",
   "version": "3.10.6"
  },
  "orig_nbformat": 4,
  "vscode": {
   "interpreter": {
    "hash": "916dbcbb3f70747c44a77c7bcd40155683ae19c65e1c03b4aa3499c5328201f1"
   }
  }
 },
 "nbformat": 4,
 "nbformat_minor": 2
}
